{
 "cells": [
  {
   "cell_type": "markdown",
   "source": [
    "# An Implementation of the QAOA\n",
    "\n",
    "In this tutorial, we'll use the quantum approximate optimization algorithm (QAOA) to find an approximate solution to the minimum vertex cover problem. We'll use Covalent to dispatch, organize, and track our computations every step of the way -- culminating in two workflows, each demonstrating a different way of using Covalent for easy experimentation.\n",
    "\n",
    "\n",
    "**QAOA** is an algoithm that can provide approximate solutions to combinatorial optimization problems -- problems aimed at optimmizing some cost function containing a finite set of variables. Many combinatorial optimization problems are NP-hard, making it computationally expensive to find an exact solution. Methods like QAOA get around that by instead finding approximate solutions. QAOA is a simple-to-implement algorithm that can function with little error mitigation and shallow circuit depths, so it is particularly well-suited to be run on NISQ (noisy intermediate-scale quantum) devices.\n",
    "\n",
    "QAOA problems consist of some bit string *z* and a clause *C*. Each item in the bit string is binary-valued, i.e. $z \\in \\{0,1\\}^n$, where *n* is the total number of bits. The clause $C(z)$ can be represented,\n",
    " \n",
    "$$ C_\\alpha= \n",
    "\\begin{array}{ll}\n",
    "    1, & \\textrm{ if z satisfies clause } C_\\alpha \\\\\n",
    "    0, & \\textrm{ otherwise.} \\\\\n",
    "\\end{array} $$\n",
    "\n",
    "The full clause satisfaction problem is treated as the summation over all clauses, $C(z) = \\sum_{\\alpha = 1}^{m} C_\\alpha (z)$, where *m* is the total number of clauses and the *z* in the summand depends on a subset of the bit string."
   ],
   "metadata": {}
  },
  {
   "cell_type": "markdown",
   "source": [
    "# The Minimum Vertex Cover Problem\n",
    "\n",
    "The goal of the vertex cover problem is to find the *minimum* number of vertices needed in order to \"cover\" all edges in a graph. That is, we want to choose the fewest number of vertices such that every edge in the graph touches at least one chosen vertex. Determining the minimum vertex cover is an NP-complete problem, meaning that there is no known exact solution that can be found in polynomial time.\n",
    "\n",
    "In this problem, the bit string *z* consists of all vertices in the graph. A vertex is assigned a value of 1 if it is selected, and a value of 0 if it is not. \n",
    "\n",
    "<figure>\n",
    "  <img src=\"min_vertex.png\" alt=\"min_vertex\" style=\"width:50%\">\n",
    "  <figcaption>Figure 1: A minimum vertex cover example, where chosen vertices and their associated edges are shown in blue. <i>(a)</i> No vertices are chosen, so no edge is covered. <i>(b)</i> Two vertices are chosen, but not all edges in the graph are covered. <i>(c)</i> Four vertices are chosen and all edges are covered, but this is not the minimum number of vertices to cover all edges. <i>(d)</i> Two vertices are chosen and all edges are covered.</figcaption>\n",
    "</figure>\n",
    "\n",
    "In our experiment below, we will use the Python *networkx* package to generate graphs, and minimize the number of chosen vertices."
   ],
   "metadata": {}
  },
  {
   "cell_type": "markdown",
   "source": [
    "___\n",
    "## Implementation \n",
    "\n",
    "We begin by importing all necessary packages."
   ],
   "metadata": {}
  },
  {
   "cell_type": "code",
   "execution_count": 26,
   "source": [
    "import pennylane as qml\n",
    "from pennylane import qaoa\n",
    "from pennylane import numpy as np\n",
    "from matplotlib import pyplot as plt\n",
    "import networkx as nx\n",
    "\n",
    "# Covalent\n",
    "import covalent as ct"
   ],
   "outputs": [],
   "metadata": {}
  },
  {
   "cell_type": "code",
   "execution_count": 27,
   "source": [
    "from dask.distributed import LocalCluster\n",
    "cluster=LocalCluster()\n",
    "dask=ct.executor.DaskExecutor(scheduler_address=cluster.scheduler_address)"
   ],
   "outputs": [
    {
     "output_type": "stream",
     "name": "stderr",
     "text": [
      "/Users/annahughes/.conda/envs/covalent_qa/lib/python3.8/site-packages/distributed/node.py:160: UserWarning: Port 8787 is already in use.\n",
      "Perhaps you already have a cluster running?\n",
      "Hosting the HTTP server on port 56166 instead\n",
      "  warnings.warn(\n"
     ]
    }
   ],
   "metadata": {}
  },
  {
   "cell_type": "markdown",
   "source": [
    "# Setting up Slurm Executor (Internal)\n",
    "\n",
    "Install using `pip install covalent-slurm-plugin`\n",
    "\n",
    "You'll need to make edits to the username, keyfile, remote_work, and options. You'll also need to set up an ssh key that isn't password protected. Also make sure you have covalent and the latest pennylane installed on beehive."
   ],
   "metadata": {}
  },
  {
   "cell_type": "code",
   "execution_count": 28,
   "source": [
    "from covalent.executor import SlurmExecutor\n",
    "\n",
    "username=\"anna\"\n",
    "address=\"beehive.agnostiq.ai\"\n",
    "keyfile=\"/Users/annahughes/.ssh/beehive_key\"\n",
    "remote_workdir=\"/federation/anna/covalent_workdir\"\n",
    "poll_freq=60\n",
    "options={\"partition\": \"debug\", \"cpus-per-task\": 2, \"ntasks\": 1, \"nodelist\": \"beehive-debug-st-t2medium-1\",\n",
    "         \"chdir\": \"/federation/anna/covalent_workdir\"}"
   ],
   "outputs": [],
   "metadata": {}
  },
  {
   "cell_type": "code",
   "execution_count": 29,
   "source": [
    "slurm_exec = SlurmExecutor(username=username,address=address,ssh_key_file=keyfile,remote_workdir=remote_workdir,poll_freq=poll_freq,options=options)"
   ],
   "outputs": [],
   "metadata": {}
  },
  {
   "cell_type": "markdown",
   "source": [
    "We include the following functions:\n",
    "\n",
    "`make_graph`: Generates our graphs for a given number of nodes *n* (determined by the number of qubits) and probability *p* for edge creation at each node. Pennylane returns the QAOA cost and mixer Hamiltonians for the generated graph.\n",
    "\n",
    "`get_circuit`: This electron includes two functions. `qaoa_layer` generates the cost and mixer layers given the Hamiltonians computed in the previous step and variational parameters *alpha* and *gamma*. `circuit` creates a quantum circuit from a Hadamard gate and the cost and mixer layers.\n",
    "\n",
    "`make_cost_function`: Defines the simulator *dev* and computes the expectation value of the input circuit for a given cost Hamiltonian.\n",
    "\n",
    "`get_random_initialization`: Generates two random seed values between 0 and $2\\pi$ from a uniform distribution.\n",
    "\n",
    "`initialize_parameters`: Calls all previous functions to create initial values for the cost and mixer Hamiltonians, the resulting circuit, the cost function, the initial angles. Only the cost function and initial angles are returned.\n",
    "\n",
    "`calculate_cost`: For an input optimizer, this function computes and returns the value of the cost function and progresses the optimizer by one step, updating the trainable parameters."
   ],
   "metadata": {}
  },
  {
   "cell_type": "markdown",
   "source": [
    "___ \n",
    "\n",
    "We can take a look at graphs generated using the networkx library."
   ],
   "metadata": {}
  },
  {
   "cell_type": "code",
   "execution_count": 30,
   "source": [
    "graph = nx.generators.random_graphs.gnp_random_graph(n=4,p=0.5)\n",
    "nx.draw(graph)\n",
    "cost_h, mixer_h = qaoa.min_vertex_cover(graph, constrained=False)\n",
    "print(cost_h, mixer_h)"
   ],
   "outputs": [
    {
     "output_type": "stream",
     "name": "stdout",
     "text": [
      "  (-1.0) [Z0]\n",
      "+ (-0.25) [Z1]\n",
      "+ (-0.25) [Z2]\n",
      "+ (0.5) [Z3]\n",
      "+ (0.75) [Z1 Z3]\n",
      "+ (0.75) [Z2 Z3]   (1) [X0]\n",
      "+ (1) [X1]\n",
      "+ (1) [X2]\n",
      "+ (1) [X3]\n"
     ]
    },
    {
     "output_type": "display_data",
     "data": {
      "text/plain": [
       "<Figure size 432x288 with 1 Axes>"
      ],
      "image/png": "[encoded data removed]"
     },
     "metadata": {}
    }
   ],
   "metadata": {}
  },
  {
   "cell_type": "code",
   "execution_count": 31,
   "source": [
    "@ct.electron\n",
    "def make_graph(qubits,prob):\n",
    "    graph = nx.generators.random_graphs.gnp_random_graph(n=qubits,p=prob)\n",
    "    cost_h, mixer_h = qaoa.min_vertex_cover(graph, constrained=False)\n",
    "    return cost_h,mixer_h\n",
    "\n",
    "\n",
    "@ct.electron\n",
    "def get_circuit(cost_h,mixer_h):\n",
    "    def qaoa_layer(gamma, alpha):\n",
    "        qaoa.cost_layer(gamma, cost_h)\n",
    "        qaoa.mixer_layer(alpha, mixer_h)\n",
    "        \n",
    "        \n",
    "    def circuit(params,wires, **kwargs):\n",
    "        depth=params.shape[1]\n",
    "        for w in range(wires):\n",
    "            qml.Hadamard(wires=w)\n",
    "        qml.layer(qaoa_layer, depth, params[0], params[1])\n",
    "    return circuit\n",
    "\n",
    "@ct.electron\n",
    "def make_cost_function(circuit,cost_h,qubits):\n",
    "    dev = qml.device(\"lightning.qubit\", wires=qubits)\n",
    "    @qml.qnode(dev)\n",
    "    def cost_function(params):\n",
    "        circuit(params,wires=qubits)\n",
    "        return qml.expval(cost_h)\n",
    "\n",
    "    return cost_function\n",
    "\n",
    "\n",
    "@ct.electron\n",
    "def get_random_initialization(p=1,seed=0):\n",
    "    np.random.seed(seed)\n",
    "    return np.random.uniform(0,2*np.pi,(2,p),requires_grad=True)\n",
    "\n",
    "@ct.electron\n",
    "def initialize_parameters(p=1,qubits=2,prob=0.3,seed=1):\n",
    "    cost_h,mixer_h=make_graph(qubits=qubits,prob=prob)\n",
    "    circuit=get_circuit(cost_h,mixer_h)\n",
    "    cost_function=make_cost_function(circuit,cost_h,qubits)\n",
    "    initial_angles=get_random_initialization(p=p,seed=seed)\n",
    "    return cost_function,initial_angles\n",
    "\n",
    "@ct.electron\n",
    "def calculate_cost(cost_function,params,optimizer):\n",
    "    params,loss=optimizer.step_and_cost(cost_function, params)\n",
    "    return optimizer,params,loss\n",
    "\n"
   ],
   "outputs": [],
   "metadata": {}
  },
  {
   "cell_type": "code",
   "execution_count": 32,
   "source": [
    "@ct.electron(executor=dask)\n",
    "#@ct.electron(executor=slurm_exec)\n",
    "def optimize_electron(cost_function,init_angles, optimizer=qml.GradientDescentOptimizer(),iterations=10):\n",
    "    loss_history=[]\n",
    "    params = init_angles\n",
    "    for _ in range(iterations):\n",
    "        optimizer,params,loss=calculate_cost(cost_function=cost_function,params=params,optimizer=optimizer)\n",
    "        loss_history.append(loss)\n",
    "    return loss_history\n",
    "\n",
    "\n",
    "@ct.electron\n",
    "def collect_and_mean(array):\n",
    "    return np.mean(array,axis=0)"
   ],
   "outputs": [],
   "metadata": {}
  },
  {
   "cell_type": "code",
   "execution_count": 33,
   "source": [
    "@ct.electron\n",
    "def make_graph(qubits,prob):\n",
    "    graph = nx.generators.random_graphs.gnp_random_graph(n=qubits,p=prob)\n",
    "    cost_h, mixer_h = qaoa.min_vertex_cover(graph, constrained=False)\n",
    "    return cost_h,mixer_h\n",
    "\n",
    "\n",
    "@ct.electron\n",
    "def get_circuit(cost_h,mixer_h):\n",
    "    def qaoa_layer(gamma, alpha):\n",
    "        qaoa.cost_layer(gamma, cost_h)\n",
    "        qaoa.mixer_layer(alpha, mixer_h)\n",
    "        \n",
    "        \n",
    "    def circuit(params,wires, **kwargs):\n",
    "        depth=params.shape[1]\n",
    "        for w in range(wires):\n",
    "            qml.Hadamard(wires=w)\n",
    "        qml.layer(qaoa_layer, depth, params[0], params[1])\n",
    "    return circuit\n",
    "\n",
    "@ct.electron\n",
    "def make_cost_function(circuit,cost_h,qubits):\n",
    "    dev = qml.device(\"lightning.qubit\", wires=qubits)\n",
    "    @qml.qnode(dev)\n",
    "    def cost_function(params):\n",
    "        circuit(params,wires=qubits)\n",
    "        return qml.expval(cost_h)\n",
    "\n",
    "    return cost_function\n",
    "\n",
    "\n",
    "@ct.electron\n",
    "def get_random_initialization(p=1,seed=0):\n",
    "    np.random.seed(seed)\n",
    "    return np.random.uniform(0,2*np.pi,(2,p),requires_grad=True)\n",
    "\n",
    "@ct.electron\n",
    "def initialize_parameters(p=1,qubits=2,prob=0.3,seed=1):\n",
    "    cost_h,mixer_h=make_graph(qubits=qubits,prob=prob)\n",
    "    circuit=get_circuit(cost_h,mixer_h)\n",
    "    cost_function=make_cost_function(circuit,cost_h,qubits)\n",
    "    initial_angles=get_random_initialization(p=p,seed=seed)\n",
    "    return cost_function,initial_angles\n",
    "\n",
    "@ct.electron\n",
    "def calculate_cost(cost_function,params,optimizer):\n",
    "    params,loss=optimizer.step_and_cost(cost_function, params)\n",
    "    return optimizer,params,loss\n",
    "\n"
   ],
   "outputs": [],
   "metadata": {}
  },
  {
   "cell_type": "markdown",
   "source": [
    "# The run_exp Workflow\n",
    "\n",
    "Running this lattice makes the most sense if you're uninterested in saving your intermediate optimization steps, as opposed to the `optimize` lattice. This is ideal for running simulations.\n",
    "When you start increasing the number of iterations, the runtime will get long, so we should ship the `optimize_electron` step to slurm.\n",
    "It's in the `optimize_electron` function that you can play around with the initial angles, and specify the optimizer you want to use. Compare_optimizers exists in order to compare the results from using different the PennyLane optimizers, i.e. GradientDescentOptimizer, AdagradOptimizer, MomentumOptimizer."
   ],
   "metadata": {}
  },
  {
   "cell_type": "code",
   "execution_count": 34,
   "source": [
    "@ct.lattice#(executor=dask)\n",
    "def run_exp(p=1,qubits=2,prob=0.3,seed=[1], optimizers=[qml.GradientDescentOptimizer()],iterations=10):\n",
    "    compare_optimizers=[]\n",
    "    for s in seed:\n",
    "        tmp=[]\n",
    "        cost_function,init_angles=initialize_parameters(p=p,qubits=qubits,prob=prob,seed=s)\n",
    "        for optimizer in optimizers:\n",
    "            loss_history=optimize_electron(cost_function=cost_function,init_angles=init_angles,optimizer=optimizer,iterations=iterations)\n",
    "            tmp.append(loss_history)\n",
    "        compare_optimizers.append(tmp)\n",
    "    return collect_and_mean(compare_optimizers)"
   ],
   "outputs": [],
   "metadata": {}
  },
  {
   "cell_type": "markdown",
   "source": [
    "___\n",
    "# Dispatching the Workflow\n",
    "\n",
    "Since we've imported `covalent` as `ct`, we can use the dispatch syntax in order to dispatch our workflow. We have already specified the electrons to be sent to the SLURM executor in the electron decorators, so there is no need to specify a device when dispatching the workflow."
   ],
   "metadata": {}
  },
  {
   "cell_type": "code",
   "execution_count": 35,
   "source": [
    "id=ct.dispatch(run_exp)(p=1,qubits=2,prob=0.3,seed=[1], optimizers=[qml.GradientDescentOptimizer()],iterations=100)"
   ],
   "outputs": [],
   "metadata": {}
  },
  {
   "cell_type": "code",
   "execution_count": 36,
   "source": [
    "result=ct.get_result(id,wait=True)\n",
    "result=result.result\n",
    "for i in range(len(result)):\n",
    "    plt.plot(np.array(result[i]).T, label='GradientDescentOptimizer')\n",
    "plt.legend()\n",
    "plt.xlabel('Iterations')\n",
    "plt.ylabel('Cost')\n",
    "plt.show()"
   ],
   "outputs": [
    {
     "output_type": "display_data",
     "data": {
      "text/plain": [
       "<Figure size 432x288 with 1 Axes>"
      ],
      "image/png": "[encoded data removed]"
     },
     "metadata": {
      "needs_background": "light"
     }
    }
   ],
   "metadata": {}
  },
  {
   "cell_type": "markdown",
   "source": [
    "## Investigating Optimizer Performance\n",
    "\n",
    "Pennylane offers a number of different optimizers that use various methods to navigate the cost landscape. An optimizer will automatically update problem parameters as they minimize the value of the cost function. Here we examine four different Pennylane optimizers to see which one best minimizes our cost function."
   ],
   "metadata": {}
  },
  {
   "cell_type": "code",
   "execution_count": 37,
   "source": [
    "optimizers=[qml.GradientDescentOptimizer(),qml.AdagradOptimizer(),qml.MomentumOptimizer(), qml.AdamOptimizer()]\n",
    "id=ct.dispatch(run_exp)(p=1,qubits=2,prob=1.2,seed=[1], optimizers=optimizers,iterations=100)"
   ],
   "outputs": [],
   "metadata": {}
  },
  {
   "cell_type": "code",
   "execution_count": 38,
   "source": [
    "result=ct.get_result(id,wait=True)\n",
    "result=result.result\n",
    "simulators = ['GradientDescentOptimizer', 'AdagradOptimizer', 'MomentumOptimizer', 'AdamOptimizer']\n",
    "for i in range(len(result)):\n",
    "    plt.plot(np.array(result[i]).T, label=simulators[i])\n",
    "plt.legend()\n",
    "plt.xlabel('Iterations')\n",
    "plt.ylabel('Cost')\n",
    "plt.show()"
   ],
   "outputs": [
    {
     "output_type": "display_data",
     "data": {
      "text/plain": [
       "<Figure size 432x288 with 1 Axes>"
      ],
      "image/png": "[encoded data removed]"
     },
     "metadata": {
      "needs_background": "light"
     }
    }
   ],
   "metadata": {}
  },
  {
   "cell_type": "code",
   "execution_count": 39,
   "source": [
    "optimizers=[qml.GradientDescentOptimizer(),qml.AdagradOptimizer(),qml.MomentumOptimizer(), qml.AdamOptimizer()]\n",
    "local_result = run_exp(p=1,qubits=2,prob=1.2,seed=[1], optimizers=optimizers,iterations=100)\n",
    "simulators = ['GradientDescentOptimizer', 'AdagradOptimizer', 'MomentumOptimizer', 'AdamOptimizer']\n",
    "\n",
    "for i in range(len(local_result)):\n",
    "    plt.plot(np.array(local_result[i]).T, label=simulators[i])\n",
    "plt.legend()\n",
    "plt.xlabel('Iterations')\n",
    "plt.ylabel('Cost')\n",
    "plt.show()"
   ],
   "outputs": [
    {
     "output_type": "display_data",
     "data": {
      "text/plain": [
       "<Figure size 432x288 with 1 Axes>"
      ],
      "image/png": "[encoded data removed]"
     },
     "metadata": {
      "needs_background": "light"
     }
    }
   ],
   "metadata": {}
  },
  {
   "cell_type": "markdown",
   "source": [
    "___\n",
    "\n",
    "# The Optimize Workflow\n",
    "\n",
    "In actual QC runs, each step of the optimization is both time and resource costly and hence we would want to monitor not only at the main optimization level, but also at iteration level. The optimization is done within the lattice of this workflow. \n",
    "It will take much longer if sent to actual quantum devices due to queues.\n",
    "\n",
    "From the DAGs you should be able to see how the results are saved as each step.\n",
    "This is in contrast to the `run_exp` lattice, which is designed for simulation purposes."
   ],
   "metadata": {}
  },
  {
   "cell_type": "code",
   "execution_count": 40,
   "source": [
    "@ct.lattice#(executor=dask)\n",
    "def optimize(p=1,qubits=2,prob=0.3,seed=1, optimizers=[qml.GradientDescentOptimizer()],iterations=10):\n",
    "    compare_optimizers=[]\n",
    "    for optimizer in optimizers:\n",
    "        loss_history=[]\n",
    "        cost_function,init_angles=initialize_parameters(p=p,qubits=qubits,prob=prob,seed=seed)\n",
    "        params = init_angles\n",
    "        for _ in range(iterations):\n",
    "            optimizer,params,loss=calculate_cost(cost_function=cost_function,params=params,optimizer=optimizer)\n",
    "            loss_history.append(loss)\n",
    "        compare_optimizers.append(loss_history)\n",
    "    return compare_optimizers\n"
   ],
   "outputs": [],
   "metadata": {}
  },
  {
   "cell_type": "code",
   "execution_count": 41,
   "source": [
    "iterations=10\n",
    "seed=1\n",
    "p=1\n",
    "qubits=1\n",
    "prob=0.6\n",
    "optimizers=[qml.GradientDescentOptimizer(),qml.AdagradOptimizer(),qml.MomentumOptimizer()]\n",
    "id=ct.dispatch(optimize)(p=p,qubits=qubits,prob=prob,seed=seed,iterations=iterations,optimizers=optimizers)"
   ],
   "outputs": [],
   "metadata": {}
  },
  {
   "cell_type": "markdown",
   "source": [
    "## Comparing Optimizer Results"
   ],
   "metadata": {}
  },
  {
   "cell_type": "code",
   "execution_count": 42,
   "source": [
    "result=ct.get_result(id,wait=True)\n",
    "result=result.result\n",
    "for i in range(len(result)):\n",
    "    plt.plot(np.array(result[i]).T, label=simulators[i])\n",
    "plt.legend()\n",
    "plt.xlabel('Iterations')\n",
    "plt.ylabel('Cost')\n",
    "plt.show()"
   ],
   "outputs": [
    {
     "output_type": "stream",
     "name": "stderr",
     "text": [
      "distributed.utils_perf - WARNING - full garbage collections took 10% CPU time recently (threshold: 10%)\n",
      "distributed.utils_perf - WARNING - full garbage collections took 10% CPU time recently (threshold: 10%)\n",
      "distributed.utils_perf - WARNING - full garbage collections took 11% CPU time recently (threshold: 10%)\n",
      "distributed.utils_perf - WARNING - full garbage collections took 12% CPU time recently (threshold: 10%)\n"
     ]
    },
    {
     "output_type": "display_data",
     "data": {
      "text/plain": [
       "<Figure size 432x288 with 1 Axes>"
      ],
      "image/png": "[encoded data removed]"
     },
     "metadata": {
      "needs_background": "light"
     }
    }
   ],
   "metadata": {}
  },
  {
   "cell_type": "markdown",
   "source": [
    "____ \n",
    "\n",
    "# Code Challenge: Plot the cost function with various initial angles"
   ],
   "metadata": {}
  },
  {
   "cell_type": "markdown",
   "source": [],
   "metadata": {}
  },
  {
   "cell_type": "code",
   "execution_count": 46,
   "source": [
    "@ct.electron\n",
    "def make_graph(qubits,prob):\n",
    "    graph = nx.generators.random_graphs.gnp_random_graph(n=qubits,p=prob)\n",
    "    cost_h, mixer_h = qaoa.min_vertex_cover(graph, constrained=False)\n",
    "    return graph, cost_h,mixer_h\n",
    "\n",
    "\n",
    "@ct.electron\n",
    "def get_circuit(cost_h,mixer_h):\n",
    "    def qaoa_layer(gamma, alpha):\n",
    "        qaoa.cost_layer(gamma, cost_h)\n",
    "        qaoa.mixer_layer(alpha, mixer_h)\n",
    "        \n",
    "        \n",
    "    def circuit(params,wires, **kwargs):\n",
    "        depth=params.shape[1]\n",
    "        for w in range(wires):\n",
    "            qml.Hadamard(wires=w)\n",
    "        qml.layer(qaoa_layer, depth, params[0], params[1])\n",
    "    return circuit\n",
    "\n",
    "@ct.electron\n",
    "def make_cost_function(circuit,cost_h,qubits):\n",
    "    dev = qml.device(\"lightning.qubit\", wires=qubits)\n",
    "    @qml.qnode(dev)\n",
    "    def cost_function(params):\n",
    "        circuit(params,wires=qubits)\n",
    "        return qml.expval(cost_h)\n",
    "\n",
    "    return cost_function\n",
    "\n",
    "\n",
    "@ct.electron\n",
    "def get_random_initialization(p=1,seed=0,lower_l = 0,higher_l=2*np.pi):\n",
    "    np.random.seed(seed)\n",
    "    return np.random.uniform(lower_l,higher_l,(2,p),requires_grad=True)\n",
    "\n",
    "@ct.electron\n",
    "def initialize_parameters(p=1,qubits=2,prob=0.3,seed=1,lower_l = 0,higher_l=2*np.pi):\n",
    "    graph, cost_h,mixer_h=make_graph(qubits=qubits,prob=prob)\n",
    "    circuit=get_circuit(cost_h,mixer_h)\n",
    "    cost_function=make_cost_function(circuit,cost_h,qubits)\n",
    "    initial_angles=get_random_initialization(p=p,seed=seed,lower_l = lower_l,higher_l=higher_l)\n",
    "    return graph, cost_function,initial_angles\n",
    "\n",
    "@ct.electron\n",
    "def calculate_cost(cost_function,params,optimizer):\n",
    "    params,loss=optimizer.step_and_cost(cost_function, params)\n",
    "    return optimizer,params,loss"
   ],
   "outputs": [],
   "metadata": {}
  },
  {
   "cell_type": "code",
   "execution_count": null,
   "source": [
    "@ct.electron\n",
    "def mean_min_max(array):\n",
    "    \n",
    "    return np.mean(array,axis=0),np.min(array,axis=0),np.max(array,axis=0)"
   ],
   "outputs": [],
   "metadata": {}
  },
  {
   "cell_type": "code",
   "execution_count": 47,
   "source": [
    "@ct.lattice#(executor=dask)\n",
    "def run_exp(p=1,qubits=2,prob=0.3,seed=[1], optimizers=[qml.GradientDescentOptimizer()],iterations=10,limits = [[0,2*np.pi]]):\n",
    "    compare_optimizers=[]\n",
    "    for s in seed:\n",
    "        tmp=[]\n",
    "        for lower_l,higher_l in limits:\n",
    "            \n",
    "            graph, cost_function,init_angles=initialize_parameters(p=p,qubits=qubits,prob=prob,seed=s,lower_l = lower_l,higher_l=higher_l)\n",
    "            for optimizer in optimizers:\n",
    "                \n",
    "                loss_history=optimize_electron(cost_function=cost_function,init_angles=init_angles,optimizer=optimizer,iterations=iterations)\n",
    "                tmp.append(loss_history)\n",
    "        compare_optimizers.append(tmp)\n",
    "    return mean_min_max(compare_optimizers)"
   ],
   "outputs": [],
   "metadata": {}
  },
  {
   "cell_type": "code",
   "execution_count": 49,
   "source": [
    "limits = [[0,np.pi/2],[np.pi/2,np.pi],[np.pi,np.pi*1.5],[np.pi*1.5,2*np.pi]]\n",
    "optimizers = [qml.AdamOptimizer()]\n",
    "\n",
    "labels = ['0 to pi/2','pi/2 to pi','pi to 3pi/2','3pi/2 to 2pi']\n",
    "\n",
    "local_result = run_exp(p=1,qubits=2,prob=1.2,seed=[1], optimizers=optimizers,iterations=100,limits=limits)\n",
    "\n",
    "for i in range(len(local_result[0])):\n",
    "    plt.plot(np.array(local_result[0][i]).T, label=labels[i])\n",
    "plt.legend()\n",
    "plt.xlabel('Iterations')\n",
    "plt.ylabel('Cost')\n",
    "plt.show()"
   ],
   "outputs": [
    {
     "output_type": "error",
     "ename": "NameError",
     "evalue": "name 'mean_min_max' is not defined",
     "traceback": [
      "\u001b[0;31m---------------------------------------------------------------------------\u001b[0m",
      "\u001b[0;31mNameError\u001b[0m                                 Traceback (most recent call last)",
      "\u001b[0;32m<ipython-input-49-964eb06324d5>\u001b[0m in \u001b[0;36m<module>\u001b[0;34m\u001b[0m\n\u001b[1;32m      4\u001b[0m \u001b[0mlabels\u001b[0m \u001b[0;34m=\u001b[0m \u001b[0;34m[\u001b[0m\u001b[0;34m'0 to pi/2'\u001b[0m\u001b[0;34m,\u001b[0m\u001b[0;34m'pi/2 to pi'\u001b[0m\u001b[0;34m,\u001b[0m\u001b[0;34m'pi to 3pi/2'\u001b[0m\u001b[0;34m,\u001b[0m\u001b[0;34m'3pi/2 to 2pi'\u001b[0m\u001b[0;34m]\u001b[0m\u001b[0;34m\u001b[0m\u001b[0;34m\u001b[0m\u001b[0m\n\u001b[1;32m      5\u001b[0m \u001b[0;34m\u001b[0m\u001b[0m\n\u001b[0;32m----> 6\u001b[0;31m \u001b[0mlocal_result\u001b[0m \u001b[0;34m=\u001b[0m \u001b[0mrun_exp\u001b[0m\u001b[0;34m(\u001b[0m\u001b[0mp\u001b[0m\u001b[0;34m=\u001b[0m\u001b[0;36m1\u001b[0m\u001b[0;34m,\u001b[0m\u001b[0mqubits\u001b[0m\u001b[0;34m=\u001b[0m\u001b[0;36m2\u001b[0m\u001b[0;34m,\u001b[0m\u001b[0mprob\u001b[0m\u001b[0;34m=\u001b[0m\u001b[0;36m1.2\u001b[0m\u001b[0;34m,\u001b[0m\u001b[0mseed\u001b[0m\u001b[0;34m=\u001b[0m\u001b[0;34m[\u001b[0m\u001b[0;36m1\u001b[0m\u001b[0;34m]\u001b[0m\u001b[0;34m,\u001b[0m \u001b[0moptimizers\u001b[0m\u001b[0;34m=\u001b[0m\u001b[0moptimizers\u001b[0m\u001b[0;34m,\u001b[0m\u001b[0miterations\u001b[0m\u001b[0;34m=\u001b[0m\u001b[0;36m100\u001b[0m\u001b[0;34m,\u001b[0m\u001b[0mlimits\u001b[0m\u001b[0;34m=\u001b[0m\u001b[0mlimits\u001b[0m\u001b[0;34m)\u001b[0m\u001b[0;34m\u001b[0m\u001b[0;34m\u001b[0m\u001b[0m\n\u001b[0m\u001b[1;32m      7\u001b[0m \u001b[0;34m\u001b[0m\u001b[0m\n\u001b[1;32m      8\u001b[0m \u001b[0;32mfor\u001b[0m \u001b[0mi\u001b[0m \u001b[0;32min\u001b[0m \u001b[0mrange\u001b[0m\u001b[0;34m(\u001b[0m\u001b[0mlen\u001b[0m\u001b[0;34m(\u001b[0m\u001b[0mlocal_result\u001b[0m\u001b[0;34m[\u001b[0m\u001b[0;36m0\u001b[0m\u001b[0;34m]\u001b[0m\u001b[0;34m)\u001b[0m\u001b[0;34m)\u001b[0m\u001b[0;34m:\u001b[0m\u001b[0;34m\u001b[0m\u001b[0;34m\u001b[0m\u001b[0m\n",
      "\u001b[0;32m~/covalent/covalent/_workflow/lattice.py\u001b[0m in \u001b[0;36m__call__\u001b[0;34m(self, *args, **kwargs)\u001b[0m\n\u001b[1;32m    230\u001b[0m         \u001b[0;34m\"\"\"Execute lattice as an ordinary function for testing purposes.\"\"\"\u001b[0m\u001b[0;34m\u001b[0m\u001b[0;34m\u001b[0m\u001b[0m\n\u001b[1;32m    231\u001b[0m \u001b[0;34m\u001b[0m\u001b[0m\n\u001b[0;32m--> 232\u001b[0;31m         \u001b[0;32mreturn\u001b[0m \u001b[0mself\u001b[0m\u001b[0;34m.\u001b[0m\u001b[0mworkflow_function\u001b[0m\u001b[0;34m(\u001b[0m\u001b[0;34m*\u001b[0m\u001b[0margs\u001b[0m\u001b[0;34m,\u001b[0m \u001b[0;34m**\u001b[0m\u001b[0mkwargs\u001b[0m\u001b[0;34m)\u001b[0m\u001b[0;34m\u001b[0m\u001b[0;34m\u001b[0m\u001b[0m\n\u001b[0m\u001b[1;32m    233\u001b[0m \u001b[0;34m\u001b[0m\u001b[0m\n\u001b[1;32m    234\u001b[0m     \u001b[0;32mdef\u001b[0m \u001b[0mcheck_constraint_specific_sum\u001b[0m\u001b[0;34m(\u001b[0m\u001b[0mself\u001b[0m\u001b[0;34m,\u001b[0m \u001b[0mconstraint_name\u001b[0m\u001b[0;34m:\u001b[0m \u001b[0mstr\u001b[0m\u001b[0;34m,\u001b[0m \u001b[0mnode_list\u001b[0m\u001b[0;34m:\u001b[0m \u001b[0mList\u001b[0m\u001b[0;34m[\u001b[0m\u001b[0mdict\u001b[0m\u001b[0;34m]\u001b[0m\u001b[0;34m)\u001b[0m \u001b[0;34m->\u001b[0m \u001b[0mbool\u001b[0m\u001b[0;34m:\u001b[0m\u001b[0;34m\u001b[0m\u001b[0;34m\u001b[0m\u001b[0m\n",
      "\u001b[0;32m<ipython-input-47-d1b8f82ca426>\u001b[0m in \u001b[0;36mrun_exp\u001b[0;34m(p, qubits, prob, seed, optimizers, iterations, limits)\u001b[0m\n\u001b[1;32m     12\u001b[0m                 \u001b[0mtmp\u001b[0m\u001b[0;34m.\u001b[0m\u001b[0mappend\u001b[0m\u001b[0;34m(\u001b[0m\u001b[0mloss_history\u001b[0m\u001b[0;34m)\u001b[0m\u001b[0;34m\u001b[0m\u001b[0;34m\u001b[0m\u001b[0m\n\u001b[1;32m     13\u001b[0m         \u001b[0mcompare_optimizers\u001b[0m\u001b[0;34m.\u001b[0m\u001b[0mappend\u001b[0m\u001b[0;34m(\u001b[0m\u001b[0mtmp\u001b[0m\u001b[0;34m)\u001b[0m\u001b[0;34m\u001b[0m\u001b[0;34m\u001b[0m\u001b[0m\n\u001b[0;32m---> 14\u001b[0;31m     \u001b[0;32mreturn\u001b[0m \u001b[0mmean_min_max\u001b[0m\u001b[0;34m(\u001b[0m\u001b[0mcompare_optimizers\u001b[0m\u001b[0;34m)\u001b[0m\u001b[0;34m\u001b[0m\u001b[0;34m\u001b[0m\u001b[0m\n\u001b[0m",
      "\u001b[0;31mNameError\u001b[0m: name 'mean_min_max' is not defined"
     ]
    }
   ],
   "metadata": {}
  },
  {
   "cell_type": "code",
   "execution_count": null,
   "source": [],
   "outputs": [],
   "metadata": {}
  }
 ],
 "metadata": {
  "interpreter": {
   "hash": "7711595882188a5e158a4df500fbe7d0acd9c02724667c61e993d828e18631d3"
  },
  "kernelspec": {
   "name": "python3",
   "display_name": "Python 3.8.5 64-bit ('covalent_qa': conda)"
  },
  "language_info": {
   "codemirror_mode": {
    "name": "ipython",
    "version": 3
   },
   "file_extension": ".py",
   "mimetype": "text/x-python",
   "name": "python",
   "nbconvert_exporter": "python",
   "pygments_lexer": "ipython3",
   "version": "3.8.5"
  },
  "orig_nbformat": 4
 },
 "nbformat": 4,
 "nbformat_minor": 2
}
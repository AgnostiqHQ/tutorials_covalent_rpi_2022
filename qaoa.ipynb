{
 "cells": [
  {
   "cell_type": "markdown",
   "metadata": {},
   "source": [
    "# Building a Simple Quantum Circuit\n",
    "\n",
    "Before we see an application of quantum machine learning, we'll build a few basic quantum circuits using PennyLane."
   ]
  },
  {
   "cell_type": "code",
   "execution_count": null,
   "metadata": {},
   "outputs": [],
   "source": [
    "import pennylane as qml"
   ]
  },
  {
   "cell_type": "markdown",
   "metadata": {},
   "source": [
    "After importing the pennylane package, we need to define which quantum device we'll use to execute the circuit. In this example, we'll use `default.qubit`, a simple state simulator of qubit-based quantum circuit architectures. In this first case, we'll only use one qubit, so we set `wires = 1`. \n",
    "\n",
    "We define a simple circuit consisting of a Pauli-X gate and a measurement of the expectation value of the Pauli X matrix. "
   ]
  },
  {
   "cell_type": "code",
   "execution_count": null,
   "metadata": {},
   "outputs": [],
   "source": [
    "dev1 = qml.device(\"default.qubit\", wires=1)\n",
    "\n",
    "@qml.qnode(dev1)\n",
    "def circuit():\n",
    "   qml.PauliX(wires=0)\n",
    "   return qml.expval(qml.PauliZ(0))"
   ]
  },
  {
   "cell_type": "markdown",
   "metadata": {},
   "source": [
    "After we define our circuit, we can visualize it using the draw function."
   ]
  },
  {
   "cell_type": "code",
   "execution_count": null,
   "metadata": {},
   "outputs": [],
   "source": [
    "print(qml.draw(circuit)())"
   ]
  },
  {
   "cell_type": "markdown",
   "metadata": {},
   "source": [
    "Finally, we can evaluate the circuit by calling the function we've defined."
   ]
  },
  {
   "cell_type": "code",
   "execution_count": null,
   "metadata": {},
   "outputs": [],
   "source": [
    "circuit()"
   ]
  },
  {
   "cell_type": "markdown",
   "metadata": {},
   "source": [
    "Recall that the Pauli X gate is the quantum equivalent of a NOT gate, and flips a qubit in state 0 to state 1. Thus, applying two Pauli X gates should be equivalent to not applying any gates at all. "
   ]
  },
  {
   "cell_type": "code",
   "execution_count": null,
   "metadata": {},
   "outputs": [],
   "source": [
    "@qml.qnode(dev1)\n",
    "def circuit():\n",
    "   return qml.expval(qml.PauliZ(0))\n",
    "   \n",
    "circuit()"
   ]
  },
  {
   "cell_type": "code",
   "execution_count": null,
   "metadata": {},
   "outputs": [],
   "source": [
    "@qml.qnode(dev1)\n",
    "def circuit():\n",
    "   qml.PauliX(wires=0)\n",
    "   qml.PauliX(wires=0)\n",
    "   return qml.expval(qml.PauliZ(0))\n",
    "   \n",
    "circuit()"
   ]
  },
  {
   "cell_type": "markdown",
   "metadata": {},
   "source": [
    "Next we'll create an expressible, entangled quantum circuit. The RX and RY rotation gates take in specified angles, enabling us to explore states around the Bloch sphere, while the Toffoli gate entangles the qubits. We'll return the expectation value of the Pauli Z matrix for all qubits."
   ]
  },
  {
   "cell_type": "code",
   "execution_count": null,
   "metadata": {},
   "outputs": [],
   "source": [
    "dev1 = qml.device(\"default.qubit\", wires=3)\n",
    "@qml.qnode(dev1)\n",
    "def circuit(params):\n",
    "   qml.RX(params[0], wires=0)\n",
    "   qml.RY(params[0], wires=1)\n",
    "   qml.Toffoli(wires=[0,1,2])\n",
    "   return qml.expval(qml.PauliZ(0)), qml.expval(qml.PauliZ(1)), qml.expval(qml.PauliZ(2))"
   ]
  },
  {
   "cell_type": "code",
   "execution_count": null,
   "metadata": {},
   "outputs": [],
   "source": [
    "params=[0.1,2.6]\n",
    "circuit(params)"
   ]
  },
  {
   "cell_type": "markdown",
   "metadata": {},
   "source": [
    "Next we'll create a circuit using a Hadamard gate. The Hadamard gate maps state 0 to a linear combination of states 0 and 1, with each state having an equal probability of measurement.\n",
    "\n",
    "In the below circuit, we return the probabilities of each state after the Hadamard gate was applied to an initial state of 0."
   ]
  },
  {
   "cell_type": "code",
   "execution_count": null,
   "metadata": {},
   "outputs": [],
   "source": [
    "dev1 = qml.device(\"default.qubit\", wires=1)\n",
    "\n",
    "@qml.qnode(dev1)\n",
    "def circuit():\n",
    "   qml.Hadamard(wires=0)\n",
    "   return qml.probs(wires=0)"
   ]
  },
  {
   "cell_type": "code",
   "execution_count": null,
   "metadata": {},
   "outputs": [],
   "source": [
    "print(qml.draw(circuit)())"
   ]
  },
  {
   "cell_type": "code",
   "execution_count": null,
   "metadata": {},
   "outputs": [],
   "source": [
    "circuit()"
   ]
  },
  {
   "cell_type": "markdown",
   "metadata": {},
   "source": [
    "If the Hadamard gate creates a superposition of states 0 and 1 with equal probability, we should be able to see this by evaluating the circuit many times and measuring the expectation value of an observable like the Pauli Z operator. We can specify the number of times the circuit is evaluated using the shots parameter when we define our device."
   ]
  },
  {
   "cell_type": "code",
   "execution_count": null,
   "metadata": {},
   "outputs": [],
   "source": [
    "dev = qml.device(\"default.qubit\", wires=2, shots=100)\n",
    "\n",
    "@qml.qnode(dev)\n",
    "def circuit():\n",
    "    qml.Hadamard(wires=0)\n",
    "    return qml.sample(qml.PauliZ(0))\n"
   ]
  },
  {
   "cell_type": "code",
   "execution_count": null,
   "metadata": {},
   "outputs": [],
   "source": [
    "values = circuit()"
   ]
  },
  {
   "cell_type": "code",
   "execution_count": null,
   "metadata": {},
   "outputs": [],
   "source": [
    "from matplotlib import pyplot as plt \n",
    "\n",
    "plt.hist(values)\n",
    "plt.show()"
   ]
  },
  {
   "cell_type": "markdown",
   "metadata": {},
   "source": []
  },
  {
   "cell_type": "markdown",
   "metadata": {},
   "source": [
    "___ \n",
    "\n",
    "# Quantum Machine Learning using Covalent\n",
    "\n",
    "Quantum machine learning typically involves building machine learning algorithms that are a hybrid of quantum and classical components - for example, you may have classical data prepared using classical preprocessing steps, encode that data into a quantum circuit, and use classical machine learning methods to optimize circuit parameters.\n",
    "\n",
    "In this tutorial, we'll use the quantum approximate optimization algorithm (QAOA) to find an approximate solution to the minimum vertex cover problem. We'll use Covalent to dispatch, organize, and track our computations every step of the way -- culminating in two workflows, each demonstrating a different way of using Covalent for easy experimentation.\n",
    "\n",
    "## Quantum Approximate Optimization Algorithm \n",
    "\n",
    "**QAOA** is an algoithm that can provide approximate solutions to combinatorial optimization problems -- problems aimed at optimmizing some cost function containing a finite set of variables. Many combinatorial optimization problems are NP-hard, making it computationally expensive to find an exact solution. Methods like QAOA get around that by instead finding approximate solutions. QAOA is a simple-to-implement algorithm that can function with little error mitigation and shallow circuit depths, so it is particularly well-suited to be run on NISQ (noisy intermediate-scale quantum) devices.\n",
    "\n",
    "QAOA problems consist of some bit string *z* and a clause *C*. Each item in the bit string is binary-valued, i.e. $z \\in \\{0,1\\}^n$, where *n* is the total number of bits. The clause $C(z)$ can be represented,\n",
    " \n",
    "$$ C_\\alpha= \n",
    "\\begin{array}{ll}\n",
    "    1, & \\textrm{ if z satisfies clause } C_\\alpha \\\\\n",
    "    0, & \\textrm{ otherwise.} \\\\\n",
    "\\end{array} $$\n",
    "\n",
    "The full clause satisfaction problem is treated as the summation over all clauses, $C(z) = \\sum_{\\alpha = 1}^{m} C_\\alpha (z)$, where *m* is the total number of clauses and the *z* in the summand depends on a subset of the bit string."
   ]
  },
  {
   "cell_type": "markdown",
   "metadata": {},
   "source": [
    "## The Minimum Vertex Cover Problem\n",
    "\n",
    "The goal of this vertex cover problem is to find the *minimum* number of vertices needed in order to \"cover\" all edges in a graph. That is, we want to choose the fewest vertices such that every edge in the graph touches at least one chosen vertex. Determining the minimum vertex cover is an NP-complete problem, meaning that there is no known exact solution that can be found in polynomial time.\n",
    "\n",
    "In this problem, the bit string *z* consists of all vertices in the graph. A vertex is assigned a value of 1 if it is selected, and a value of 0 if it is not. \n",
    "\n",
    "<figure>\n",
    "  <img src=\"min_vertex.png\" alt=\"min_vertex\" style=\"width:50%\">\n",
    "  <figcaption>Figure 1: A minimum vertex cover example, where chosen vertices and their associated edges are shown in blue. <i>(a)</i> No vertices are chosen, so no edge is covered. <i>(b)</i> Two vertices are chosen, but not all edges in the graph are covered. <i>(c)</i> Four vertices are chosen and all edges are covered, but this is not the minimum number of vertices to cover all edges. <i>(d)</i> Two vertices are chosen and all edges are covered.</figcaption>\n",
    "</figure>\n",
    "\n",
    "In our experiment below, we will use the Python *networkx* package to generate graphs, and minimize the number of chosen vertices."
   ]
  },
  {
   "cell_type": "markdown",
   "metadata": {},
   "source": [
    "___\n",
    "## Implementation \n",
    "\n",
    "We begin by importing all necessary packages."
   ]
  },
  {
   "cell_type": "code",
   "execution_count": null,
   "metadata": {},
   "outputs": [],
   "source": [
    "import pennylane as qml\n",
    "from pennylane import qaoa\n",
    "from pennylane import numpy as np\n",
    "from matplotlib import pyplot as plt\n",
    "import networkx as nx\n",
    "\n",
    "# Covalent\n",
    "import covalent as ct"
   ]
  },
  {
   "cell_type": "markdown",
   "metadata": {},
   "source": [
    "## Setting up the Remote Device \n",
    "\n",
    "The most computationally-intensive step in our workflow is the optimization process itself - so it's useful to dispatch that particular to a remote device."
   ]
  },
  {
   "cell_type": "code",
   "execution_count": null,
   "metadata": {},
   "outputs": [],
   "source": [
    "from covalent.executor import SlurmExecutor\n",
    "\n",
    "username = \"anna\"\n",
    "address = \"52.91.101.57\"\n",
    "remote_workdir = \"/home/anna\"\n",
    "ssh_key_file = \"/Users/annahughes/.ssh/beehive_key\"\n",
    "poll_freq = 60\n",
    "options = {\n",
    "    \"partition\": \"rpi-main-debug\",\n",
    "    \"cpus-per-task\": 8,\n",
    "    \"ntasks\": 1,\n",
    "    \"chdir\": \"/home/anna\",\n",
    "}"
   ]
  },
  {
   "cell_type": "code",
   "execution_count": null,
   "metadata": {},
   "outputs": [],
   "source": [
    "slurm_exec = SlurmExecutor(\n",
    "    username=username,\n",
    "    address=address,\n",
    "    conda_env=\"rpi\",\n",
    "    remote_workdir=remote_workdir,\n",
    "    ssh_key_file = ssh_key_file,\n",
    "    poll_freq=poll_freq,\n",
    "    options=options,\n",
    ")"
   ]
  },
  {
   "cell_type": "markdown",
   "metadata": {},
   "source": [
    "___\n",
    "# Circuit Tasks\n",
    "\n",
    "To use Covalent, we need to organize our experiment into interdependent tasks, or Python functions. In the language of Covalent, these tasks are called electrons and specified using the `@ct.covalent` decorator. Once we've written and decorated all of our electrons, we write a final function called a lattice, specified with the `@ct.lattice` decorator, that calls all the electrons in order and returns the final result.\n",
    "For steps that are more computationally heavy and would benefit from remote computational resources, we can call the executor to the desired electron, e.g. `@ct.electron(executor = GPU)`. \n",
    "\n",
    "We include the following functions to set up our quantum circuit, compute the cost given the quantum circuit, and update circuit parameters:\n",
    "\n",
    "- `make_graph`: Generates our graphs for a given number of nodes *n* (determined by the number of qubits) and probability *p* for edge creation at each node. Pennylane returns the QAOA cost and mixer Hamiltonians for the generated graph.\n",
    "\n",
    "- `get_circuit`: This electron includes two functions. `qaoa_layer` generates the cost and mixer layers given the Hamiltonians defined in the previous step and variational parameters *alpha* and *gamma*. `circuit` creates a quantum circuit from a Hadamard gate and the cost and mixer layers.\n",
    "\n",
    "- `make_cost_function`: Defines the simulator *dev* and computes the expectation value of the input circuit for a given cost Hamiltonian.\n",
    "\n",
    "- `get_random_initialization`: Generates two random values between 0 and $2\\pi$ from a uniform distribution.\n",
    "\n",
    "- `initialize_parameters`: Calls all previous functions to create initial values for the cost and mixer Hamiltonians, the resulting circuit, the cost function, the initial angles. Only the cost function and initial angles are returned.\n",
    "\n",
    "- `calculate_cost`: For an input optimizer, this function computes and returns the value of the cost function and progresses the optimizer by one step, updating the trainable parameters."
   ]
  },
  {
   "cell_type": "markdown",
   "metadata": {},
   "source": [
    "\n",
    "We can take a look at graphs generated using the networkx library."
   ]
  },
  {
   "cell_type": "code",
   "execution_count": null,
   "metadata": {},
   "outputs": [],
   "source": [
    "graph = nx.generators.random_graphs.gnp_random_graph(n=4, p=0.5)\n",
    "nx.draw(graph)\n",
    "cost_h, mixer_h = qaoa.min_vertex_cover(graph, constrained=False)\n",
    "print(cost_h, mixer_h)\n"
   ]
  },
  {
   "cell_type": "markdown",
   "metadata": {},
   "source": [
    "We can take a look at what our circuit will look like using the Pennylane qml draw function."
   ]
  },
  {
   "cell_type": "code",
   "execution_count": null,
   "metadata": {},
   "outputs": [],
   "source": [
    "cost_h, mixer_h = qaoa.min_vertex_cover(graph, constrained=False)\n",
    "qubits = 4\n",
    "qaoa.cost_layer(0, cost_h)\n",
    "qaoa.mixer_layer(0, mixer_h)\n",
    "\n",
    "dev = qml.device(\"lightning.qubit\", wires=qubits)\n",
    "\n",
    "\n",
    "@qml.qnode(dev)\n",
    "def example_circuit():\n",
    "    qml.Hadamard(wires=0)\n",
    "    qml.Hadamard(wires=1)\n",
    "    qml.Hadamard(wires=2)\n",
    "    qml.Hadamard(wires=3)\n",
    "    qaoa.cost_layer(0, cost_h)\n",
    "    qaoa.mixer_layer(0, mixer_h)\n",
    "    return qml.expval(cost_h)\n",
    "\n",
    "\n",
    "print(qml.draw(example_circuit)())\n"
   ]
  },
  {
   "cell_type": "code",
   "execution_count": null,
   "metadata": {},
   "outputs": [],
   "source": [
    "@ct.electron\n",
    "def make_graph(qubits, prob):\n",
    "    graph = nx.generators.random_graphs.gnp_random_graph(n=qubits, p=prob)\n",
    "    cost_h, mixer_h = qaoa.min_vertex_cover(graph, constrained=False)\n",
    "    return cost_h, mixer_h\n",
    "\n",
    "\n",
    "@ct.electron\n",
    "def get_circuit(cost_h, mixer_h):\n",
    "    def qaoa_layer(gamma, alpha):\n",
    "        qaoa.cost_layer(gamma, cost_h)\n",
    "        qaoa.mixer_layer(alpha, mixer_h)\n",
    "\n",
    "    def circuit(params, wires, **kwargs):\n",
    "        depth = params.shape[1]\n",
    "        for w in range(wires):\n",
    "            qml.Hadamard(wires=w)\n",
    "        qml.layer(qaoa_layer, depth, params[0], params[1])\n",
    "\n",
    "    return circuit\n",
    "\n",
    "\n",
    "@ct.electron\n",
    "def make_cost_function(circuit, cost_h, qubits):\n",
    "    dev = qml.device(\"default.qubit\", wires=qubits)\n",
    "\n",
    "    @qml.qnode(dev)\n",
    "    def cost_function(params):\n",
    "        circuit(params, wires=qubits)\n",
    "        return qml.expval(cost_h)\n",
    "\n",
    "    return cost_function\n",
    "\n",
    "\n",
    "@ct.electron\n",
    "def get_random_initialization(p=1):\n",
    "    return np.random.uniform(0, 2 * np.pi, (2, p), requires_grad=True)\n",
    "\n",
    "\n",
    "@ct.electron\n",
    "def initialize_parameters(p=1, qubits=2, prob=0.3):\n",
    "    cost_h, mixer_h = make_graph(qubits=qubits, prob=prob)\n",
    "    circuit = get_circuit(cost_h, mixer_h)\n",
    "    cost_function = make_cost_function(circuit, cost_h, qubits)\n",
    "    initial_angles = get_random_initialization(p=p)\n",
    "    print(initial_angles)\n",
    "    return cost_function, initial_angles\n",
    "\n",
    "\n",
    "@ct.electron\n",
    "def calculate_cost(cost_function, params, optimizer):\n",
    "    params, loss = optimizer.step_and_cost(cost_function, params)\n",
    "    return optimizer, params, loss\n"
   ]
  },
  {
   "cell_type": "markdown",
   "metadata": {},
   "source": [
    "The final two functions in our workflow contain the optimization and post-processing step:\n",
    "\n",
    "- `optimize_electron`: initializes parameters, iterates through the optimization process, and returns the loss of each iteration\n",
    "- `collect_and_mean`: a simple electron to return the mean value of an array"
   ]
  },
  {
   "cell_type": "code",
   "execution_count": null,
   "metadata": {},
   "outputs": [],
   "source": [
    "#@ct.electron\n",
    "@ct.electron(executor=slurm_exec)\n",
    "def optimize_electron(\n",
    "    cost_function, init_angles, optimizer=qml.GradientDescentOptimizer(), iterations=10\n",
    "):\n",
    "    loss_history = []\n",
    "    params = init_angles\n",
    "    for _ in range(iterations):\n",
    "        optimizer, params, loss = calculate_cost(\n",
    "            cost_function=cost_function, params=params, optimizer=optimizer\n",
    "        )\n",
    "        loss_history.append(loss)\n",
    "    return loss_history\n",
    "\n",
    "\n",
    "@ct.electron\n",
    "def collect_and_mean(array):\n",
    "    return np.mean(array, axis=0)\n"
   ]
  },
  {
   "cell_type": "markdown",
   "metadata": {},
   "source": [
    "## The run_exp Workflow\n",
    "\n",
    "Running this lattice makes the most sense if you're uninterested in saving your intermediate optimization steps, as opposed to the `optimize` lattice, which will come later. In this case, the optimization is performed *within* the `optimize_electron` task, so only the final output of that electron - the loss history - is saved. This is ideal for running simulations.\n",
    "\n",
    "As the number of iterations in `optimize_electron` increases, the runtime will get long, so this particular electron is sent to a remote device for faster computation."
   ]
  },
  {
   "cell_type": "code",
   "execution_count": null,
   "metadata": {},
   "outputs": [],
   "source": [
    "@ct.lattice\n",
    "def run_exp(\n",
    "    p=1, qubits=2, prob=0.3, optimizers=[qml.GradientDescentOptimizer()], iterations=10\n",
    "):\n",
    "    compare_optimizers = []\n",
    "    tmp = []\n",
    "    cost_function, init_angles = initialize_parameters(p=p, qubits=qubits, prob=prob)\n",
    "    for optimizer in optimizers:\n",
    "        loss_history = optimize_electron(\n",
    "            cost_function=cost_function,\n",
    "            init_angles=init_angles,\n",
    "            optimizer=optimizer,\n",
    "            iterations=iterations,\n",
    "        )\n",
    "        tmp.append(loss_history)\n",
    "    compare_optimizers.append(tmp)\n",
    "    return collect_and_mean(compare_optimizers)\n"
   ]
  },
  {
   "cell_type": "markdown",
   "metadata": {},
   "source": [
    "We can visualize the `run_exp` workflow on the Covalent UI once we've dispatched it. It automatically generates a directed acyclic graph, or DAG, showing the relationships between all electrons in the workflow.\n",
    "![run_exp_dag](run_exp_dag.png)"
   ]
  },
  {
   "cell_type": "markdown",
   "metadata": {},
   "source": [
    "___\n",
    "## Dispatching the Workflow\n",
    "\n",
    "Since we've imported `covalent` as `ct`, we can use the dispatch syntax in order to dispatch our workflow. We have already specified the electrons to be sent to the SLURM executor in the electron decorators, so there is no need to specify a device when dispatching the workflow."
   ]
  },
  {
   "cell_type": "code",
   "execution_count": null,
   "metadata": {},
   "outputs": [],
   "source": [
    "id = ct.dispatch(run_exp)(\n",
    "    p=1, qubits=2, prob=0.3, optimizers=[qml.GradientDescentOptimizer()], iterations=100\n",
    ")"
   ]
  },
  {
   "cell_type": "markdown",
   "metadata": {},
   "source": [
    "We can see our results below - we retrieve our results using the `ct.get_result` method, specifying the dispatch id set above and letting wait=True to wait for the workflow to finish. The `run_exp` workflow is set up to take a list of optimizers and compute the mean loss value, but when we dispatched our workflow we only included the Pennylane GradientDescentOptimizer.\n",
    "\n",
    "We plot the loss values as a function of iterations - as expected, with more iterations the loss decreases."
   ]
  },
  {
   "cell_type": "code",
   "execution_count": null,
   "metadata": {},
   "outputs": [],
   "source": [
    "result = ct.get_result(id, wait=True)\n",
    "result = result.result\n",
    "for i in range(len(result)):\n",
    "    plt.plot(np.array(result[i]).T, label=\"GradientDescentOptimizer\")\n",
    "plt.legend()\n",
    "plt.xlabel(\"Iterations\")\n",
    "plt.ylabel(\"Cost\")\n",
    "plt.show()\n"
   ]
  },
  {
   "cell_type": "markdown",
   "metadata": {},
   "source": [
    "## Investigating Optimizer Performance\n",
    "\n",
    "One of the benefits of organizing your code into a workflow is the ease of rapid prototyping and experimentation. For example, the `optimize_electron` function allows you to modify the initial angles and optimizer used in the optimization process.\n",
    "\n",
    "Pennylane offers a number of different optimizers in addition to the GradientDescentOptimizer that use various methods to navigate the cost landscape. An optimizer will automatically update problem parameters as they minimize the value of the cost function. Below, we examine four different Pennylane optimizers to see which one best minimizes our cost function."
   ]
  },
  {
   "cell_type": "code",
   "execution_count": null,
   "metadata": {},
   "outputs": [],
   "source": [
    "optimizers = [\n",
    "    qml.GradientDescentOptimizer(),\n",
    "    qml.AdagradOptimizer(),\n",
    "    qml.MomentumOptimizer(),\n",
    "    qml.AdamOptimizer(),\n",
    "]\n",
    "id = ct.dispatch(run_exp)(\n",
    "    p=1, qubits=2, prob=1.2, seed=[1], optimizers=optimizers, iterations=100\n",
    ")\n"
   ]
  },
  {
   "cell_type": "markdown",
   "metadata": {},
   "source": [
    "The below result runs the `run_exp` for each optimizer in our list"
   ]
  },
  {
   "cell_type": "code",
   "execution_count": null,
   "metadata": {},
   "outputs": [],
   "source": [
    "result = ct.get_result(id, wait=True)\n",
    "result = result.result\n",
    "simulators = [\n",
    "    \"GradientDescentOptimizer\",\n",
    "    \"AdagradOptimizer\",\n",
    "    \"MomentumOptimizer\",\n",
    "    \"AdamOptimizer\",\n",
    "]\n",
    "for i in range(len(result)):\n",
    "    plt.plot(np.array(result[i]).T, label=simulators[i])\n",
    "plt.legend()\n",
    "plt.xlabel(\"Iterations\")\n",
    "plt.ylabel(\"Cost\")\n",
    "plt.show()\n"
   ]
  },
  {
   "cell_type": "markdown",
   "metadata": {},
   "source": [
    "___\n",
    "\n",
    "## The Optimize Workflow\n",
    "\n",
    "In actual quantum computing runs, each iteration in the optimization process is costly both in time and resources - so we might want to monitor our optimization process at each iteration. Unlike the `run_exp` workflow, where optimization done in an electron, the `Optimize` workflow contains the optimization within the lattice itself.\n",
    "The downside of structuring the workflow this way is that it can take much longer if it is sent to actual quantum devices due to queues."
   ]
  },
  {
   "cell_type": "code",
   "execution_count": null,
   "metadata": {},
   "outputs": [],
   "source": [
    "@ct.lattice\n",
    "def optimize(\n",
    "    p=1, qubits=2, prob=0.3, optimizers=[qml.GradientDescentOptimizer()], iterations=10\n",
    "):\n",
    "    compare_optimizers = []\n",
    "    for optimizer in optimizers:\n",
    "        loss_history = []\n",
    "        cost_function, init_angles = initialize_parameters(\n",
    "            p=p, qubits=qubits, prob=prob\n",
    "        )\n",
    "        params = init_angles\n",
    "        for _ in range(iterations):\n",
    "            optimizer, params, loss = calculate_cost(\n",
    "                cost_function=cost_function, params=params, optimizer=optimizer\n",
    "            )\n",
    "            loss_history.append(loss)\n",
    "        compare_optimizers.append(loss_history)\n",
    "    return compare_optimizers\n"
   ]
  },
  {
   "cell_type": "markdown",
   "metadata": {},
   "source": [
    "We can again visualize our workflow from the Covalent UI.\n",
    "![optimize_dag](optimize_dag.png)"
   ]
  },
  {
   "cell_type": "code",
   "execution_count": null,
   "metadata": {},
   "outputs": [],
   "source": [
    "iterations = 20\n",
    "p = 1\n",
    "qubits = 1\n",
    "prob = 0.6\n",
    "optimizers = [\n",
    "    qml.GradientDescentOptimizer(),\n",
    "    qml.AdagradOptimizer(),\n",
    "    qml.MomentumOptimizer(),\n",
    "]\n",
    "id = ct.dispatch(optimize)(\n",
    "    p=p, qubits=qubits, prob=prob, iterations=iterations, optimizers=optimizers\n",
    ")\n"
   ]
  },
  {
   "cell_type": "markdown",
   "metadata": {},
   "source": [
    "___\n",
    "## Comparing Optimizer Results\n",
    "\n",
    "As before, we compare the loss as the number of iterations is increased."
   ]
  },
  {
   "cell_type": "code",
   "execution_count": null,
   "metadata": {},
   "outputs": [],
   "source": [
    "result = ct.get_result(id, wait=True)\n",
    "result = result.result\n",
    "for i in range(len(result)):\n",
    "    plt.plot(np.array(result[i]).T, label=simulators[i])\n",
    "plt.legend()\n",
    "plt.xlabel(\"Iterations\")\n",
    "plt.ylabel(\"Cost\")\n",
    "plt.show()\n"
   ]
  },
  {
   "cell_type": "markdown",
   "metadata": {},
   "source": [
    "___\n",
    "\n",
    "# Investigating Angle Optimization\n",
    "\n",
    "In previous steps, we've seen how the choice of optimizer impacts the optimization process, where we've plotted the cost as a function of iterations. But we can also explore how the hyperparameter angles change during optimization."
   ]
  },
  {
   "cell_type": "code",
   "execution_count": null,
   "metadata": {},
   "outputs": [],
   "source": [
    "@ct.lattice \n",
    "def optimize(\n",
    "    p=1, qubits=2, prob=0.3, optimizers=[qml.GradientDescentOptimizer()], iterations=10\n",
    "):\n",
    "    compare_optimizers = []\n",
    "    for optimizer in optimizers:\n",
    "        loss_history = []\n",
    "        cost_function, init_angles = initialize_parameters(\n",
    "            p=p, qubits=qubits, prob=prob\n",
    "        )\n",
    "        params = init_angles\n",
    "        alpha_list = []\n",
    "        beta_list = []\n",
    "        for _ in range(iterations):\n",
    "            optimizer, params, loss = calculate_cost(\n",
    "                cost_function=cost_function, params=params, optimizer=optimizer\n",
    "            )\n",
    "            loss_history.append(loss)\n",
    "            alpha_list.append(params[0])\n",
    "            beta_list.append(params[1])\n",
    "        compare_optimizers.append(loss_history)\n",
    "    return compare_optimizers, alpha_list, beta_list"
   ]
  },
  {
   "cell_type": "code",
   "execution_count": null,
   "metadata": {},
   "outputs": [],
   "source": [
    "result = ct.get_result(id, wait=True)\n",
    "alpha = result.result[1]\n",
    "beta = result.result[2]\n",
    "for i in range(len(alpha)):\n",
    "    plt.scatter(i, alpha[i], color=\"red\")\n",
    "    plt.scatter(i, beta[i], color=\"green\")\n",
    "plt.ylabel('Angle (rad)')\n",
    "plt.xlabel('Iterations')\n",
    "plt.show()"
   ]
  },
  {
   "cell_type": "markdown",
   "metadata": {},
   "source": [
    "____ \n",
    "\n",
    "# Coding Challenge: Plot the cost vs iterations for a range of different initial angles\n",
    "\n",
    "In this challenge, we want to explore how the initial values of the angles passed into the circuit impact the optimization process. The initial values should range between 0 and $2 \\pi$, and include at least a few samples within that range. As we saw when comparing the performance of different optimizers, you should create a plot with cost on the y-axis and number of iterations on the x-axis, where different lines are plotted showing the optimization of different angles explored.\n",
    "\n",
    "Feel free to make edits to both electrons and to the lattice.\n"
   ]
  }
 ],
 "metadata": {
  "kernelspec": {
   "display_name": "Python 3.8.5 ('covalent_qa')",
   "language": "python",
   "name": "python3"
  },
  "language_info": {
   "codemirror_mode": {
    "name": "ipython",
    "version": 3
   },
   "file_extension": ".py",
   "mimetype": "text/x-python",
   "name": "python",
   "nbconvert_exporter": "python",
   "pygments_lexer": "ipython3",
   "version": "3.8.5"
  },
  "vscode": {
   "interpreter": {
    "hash": "21e35c8b18254d89fb092a7b4c1ff71dc701aeb318c4918042266beb78801b67"
   }
  }
 },
 "nbformat": 4,
 "nbformat_minor": 2
}

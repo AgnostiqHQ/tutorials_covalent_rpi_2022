{
 "cells": [
  {
   "cell_type": "code",
   "execution_count": null,
   "metadata": {},
   "outputs": [],
   "source": [
    "import covamd\n",
    "import numpy as np"
   ]
  },
  {
   "cell_type": "code",
   "execution_count": 2,
   "metadata": {},
   "outputs": [],
   "source": [
    "class Harmonic:\n",
    "    def __init__(self, k: float, r0: float, name=\"harmonic\"):\n",
    "        self.k = k\n",
    "        self.r0 = r0\n",
    "        self.name = name\n",
    "        \n",
    "    def __call__(self, r: float):\n",
    "        return 0.5*self.k*(r - self.r0)"
   ]
  },
  {
   "cell_type": "code",
   "execution_count": null,
   "metadata": {},
   "outputs": [],
   "source": [
    "@ct.electron\n",
    "def gradient_descent_particle_update(particles: List[Particle], dx: List[float], domain: Domain):\n",
    "    for index, particle in enumerate(particles):\n",
    "        particle.x += dx[index]\n",
    "        particle.y += dx[index+1]\n",
    "        \n",
    "        particle.x = particle.x%domain.lx\n",
    "        particle.y = particle.y%domain.ly\n",
    "        \n",
    "    return particles\n",
    "\n",
    "@ct.electron\n",
    "def check_loss(f_old: float, f_new: float):\n",
    "    return abs(f_new - f_old)\n",
    "\n",
    "\n",
    "@ct.electron\n",
    "def scale_gradients(gradients: List[float], lr: float):\n",
    "    res = []\n",
    "    for value in gradients:\n",
    "        res.append(-1.0*lr*value)\n",
    "    return res\n",
    "\n",
    "@ct.electron\n",
    "def update_learning_rate(lr: float, f: float, step: int):\n",
    "    if f < 0.0:\n",
    "        return lr / 4.0\n",
    "    \n",
    "    if step % 10 == 0:\n",
    "        return lr / 2.0\n",
    "    return lr\n",
    "\n",
    "\n",
    "@ct.electron\n",
    "def euler_step(particles, dt: float):\n",
    "    for particle in particles:\n",
    "        particle.x += particle.vx*dt\n",
    "        particle.y += particle.vy*dt\n",
    "        \n",
    "    return particles\n",
    "\n",
    "@ct.electron\n",
    "def lj_force(r, epsilon, sigma):\n",
    "    \"\"\"\n",
    "    Implementation of the Lennard-Jones potential \n",
    "    to calculate the force of the interaction.\n",
    "    \n",
    "    Parameters\n",
    "    ----------\n",
    "    r: float\n",
    "        Distance between two particles (Å)\n",
    "    epsilon: float \n",
    "        Potential energy at the equilibrium bond \n",
    "        length (eV)\n",
    "    sigma: float \n",
    "        Distance at which the potential energy is \n",
    "        zero (Å)\n",
    "    \n",
    "    Returns\n",
    "    -------\n",
    "    float\n",
    "        Force of the van der Waals interaction (eV/Å)\n",
    "    \"\"\"\n",
    "    return 48 * epsilon * np.power(\n",
    "        sigma / r, 13) - 24 * epsilon * np.power(\n",
    "        sigma / r, 7)\n",
    "\n",
    "@ct.electron\n",
    "def verlet_integration(step: int, particles: List[Particles], particles_prev: List[Particles],\n",
    "                       potential: Potential, domain: Domain,dt: float):\n",
    "    p_copy = copy.deepcopy(particles)\n",
    "\n",
    "    if step == 0:\n",
    "        for particle in particles:\n",
    "            particle.x += particle.vx*dt\n",
    "            particle.y += particle.vy*dt\n",
    "            \n",
    "            particle.x = particle.x%domain.lx\n",
    "            particle.y = particle.y%domain.ly\n",
    "    else:\n",
    "        particles = update_forces(particles, potential, domain)\n",
    "    \n",
    "        #particles_copy = copy.deepcopy(particles)\n",
    "        for index, particle in enumerate(particles):\n",
    "            particle.x = 2*particle.x - particles_prev[index].x + particle.fx*dt**2\n",
    "            particle.y = 2*particle.y - particles_prev[index].y + particle.fy*dt**2\n",
    "            particle.x = particle.x%domain.lx\n",
    "            particle.y = particle.y%domain.ly\n",
    "            #print(index, particle.x, particle.y, particle.vx, particle.vy, particle.fx, particle.fy)\n",
    "        \n",
    "    return particles, p_copy\n",
    "\n",
    "\n",
    "\n",
    "    #loss_value = 1e10\n",
    "    \n",
    "    #for i in range(maxiter):\n",
    "    #    gradients = gradient(particles)\n",
    "    #    dx = scale_gradients(gradients=gradients, lr=lr)\n",
    "        \n",
    "        # Update particle positions\n",
    "    #    particles = gradient_descent_particle_update(particles=particles, dx=dx, domain=domain)\n",
    "        \n",
    "        # Save system\n",
    "    #    save_snapshot(particles, i)\n",
    "        \n",
    "        # Compute potential energy\n",
    "    #    f_new = objective(particles)\n",
    "        \n",
    "        # Check loss\n",
    "    #    loss = check_loss(f_old=f_old, f_new=f_new, tol=tol)\n",
    "        \n",
    "    #    f_old = f_new\n",
    "        \n",
    "        # update learning rate based on f_new and step\n",
    "    #    lr = update_learning_rate(lr, f_new, i)\n",
    "        \n",
    "    #    i += 1\n",
    "    \n",
    "    \n",
    "    # Compute total energy\n",
    "    #pe = total_pe(particles=particles, potential=potential, domain=domain)\n",
    "    \n",
    "    #ke = total_ke(particles=particles)\n",
    "    \n",
    "    #total_energy = pe + ke"
   ]
  },
  {
   "cell_type": "code",
   "execution_count": null,
   "metadata": {},
   "outputs": [],
   "source": [
    "class Potential(object):\n",
    "    \"\"\"\n",
    "    Base class for all MD potentials\n",
    "    \"\"\"\n",
    "    def __init__(self, name: str):\n",
    "        self.name = name\n",
    "\n",
    "    def __call__(self, r: float):\n",
    "        raise NotImplementedError"
   ]
  },
  {
   "cell_type": "code",
   "execution_count": null,
   "metadata": {},
   "outputs": [],
   "source": [
    "class LennardJones(Potential):\n",
    "    \"\"\"\n",
    "    Lennard Jones 12-6 potential class\n",
    "    Input(s)\n",
    "    epsilon = interaction strength\n",
    "    sigma = potential interaction length scale\n",
    "    cutoff = distance beyond which the potential is zero\n",
    "    \"\"\"\n",
    "    def __init__(self, epsilon: float, sigma: float, cutoff: float = 2.5, name = \"lj12/6\"):\n",
    "        self.epsilon = epsilon\n",
    "        self.sigma = sigma\n",
    "        self.cutoff = cutoff\n",
    "        super().__init__(name=name)\n",
    "\n",
    "    def __call__(self, r: float):\n",
    "        \"\"\"\n",
    "        Compute the potential value given the distance `r`.\n",
    "        The potential is set to 0 if r > cutoff\n",
    "        \"\"\"\n",
    "        if r <= self.cutoff:\n",
    "            return 4*self.epsilon*((self.sigma/r)**12 - (self.sigma/r)**6)\n",
    "        return 0.0\n",
    "        "
   ]
  },
  {
   "cell_type": "code",
   "execution_count": null,
   "metadata": {},
   "outputs": [],
   "source": [
    "class Domain(object):\n",
    "    def __init__(self, xlo: float, xhi: float, ylo: float, yhi: float):\n",
    "        self.xlo = xlo\n",
    "        self.xhi = xhi\n",
    "        self.ylo = ylo\n",
    "        self.yhi = yhi\n",
    "\n",
    "\n",
    "    @property\n",
    "    def lx(self):\n",
    "        return self.xhi - self.xlo\n",
    "\n",
    "    @property\n",
    "    def ly(self):\n",
    "        return self.yhi - self.ylo"
   ]
  },
  {
   "cell_type": "code",
   "execution_count": null,
   "metadata": {},
   "outputs": [],
   "source": [
    "class Particle(object):\n",
    "    def __init__(self, id: int, mass: float, x: float, y: float,\n",
    "                 vx: float = 0.0, vy: float = 0.0, fx: float = 0.0,\n",
    "                 fy: float = 0.0):\n",
    "        \"\"\"\n",
    "        Basic particle\n",
    "        \"\"\"\n",
    "        self.id = id\n",
    "        self.mass = mass\n",
    "        self.x = x\n",
    "        self.y = y\n",
    "        self.vx = vx\n",
    "        self.vy = vy\n",
    "        self.fx = fx\n",
    "        self.fy = fy\n",
    "\n",
    "    def __eq__(self, other):\n",
    "        return all([other.__dict__[key] == value for key, value in\n",
    "                   self.__dict__.items()])\n",
    "\n",
    "    def __sub__(self, other):\n",
    "        return self.x - other.x, self.y - other.y\n",
    "\n",
    "    def __repr__(self):\n",
    "        return f\"Particle(id={self.id}, mass={self.mass},x={self.x},\\\n",
    "                y={self.y},vx={self.vx},vy={self.vy},\\\n",
    "                fx={self.fx},fy={self.fy})\".replace('\\n', '')\n",
    "\n",
    "    def __str__(self):\n",
    "        return f\"\"\"{self.id},{self.mass},{self.x},{self.y},{self.vx},{self.vy},{self.fx},{self.fy}\\n\"\"\"\n",
    "\n",
    "def create_particle(id: int, mass: float, domain: Domain):\n",
    "    \"\"\"\n",
    "    Create a particle with id=`id` and mass=`mass' randomly\n",
    "    located in the domain\n",
    "    \"\"\"\n",
    "    return Particle(id=id, mass=mass,\n",
    "                    x=np.random.uniform(domain.xlo, domain.xhi),\n",
    "                    y=np.random.uniform(domain.ylo, domain.yhi))"
   ]
  },
  {
   "cell_type": "code",
   "execution_count": null,
   "metadata": {},
   "outputs": [],
   "source": [
    "domain = Domain(xlo = 0, xhi = 20, ylo = 0, yhi = 20)\n",
    "num_particles = 30\n",
    "nsteps = 1000\n",
    "particles = [create_particle(id=index, mass=1.0, domain = domain) for index in range(num_particles)]"
   ]
  },
  {
   "cell_type": "code",
   "execution_count": null,
   "metadata": {},
   "outputs": [],
   "source": [
    "lj = LennardJones(epsilon=1.0, sigma=1.0)"
   ]
  },
  {
   "cell_type": "code",
   "execution_count": null,
   "metadata": {},
   "outputs": [],
   "source": [
    "#covamd.total_pe(particles, lj, domain)"
   ]
  },
  {
   "cell_type": "code",
   "execution_count": null,
   "metadata": {},
   "outputs": [],
   "source": [
    "particles[0].x"
   ]
  },
  {
   "cell_type": "code",
   "execution_count": null,
   "metadata": {},
   "outputs": [],
   "source": [
    "import covamd\n",
    "import covalent as ct"
   ]
  },
  {
   "cell_type": "code",
   "execution_count": null,
   "metadata": {},
   "outputs": [],
   "source": [
    "@ct.electron\n",
    "def my_c_identity(x):\n",
    "    return covamd.identity(x)"
   ]
  },
  {
   "cell_type": "code",
   "execution_count": null,
   "metadata": {},
   "outputs": [],
   "source": [
    "@ct.lattice\n",
    "def workflow(x):\n",
    "    return my_c_identity(x)"
   ]
  },
  {
   "cell_type": "code",
   "execution_count": null,
   "metadata": {},
   "outputs": [],
   "source": [
    "res = ct.dispatch_sync(workflow)(1.0)"
   ]
  },
  {
   "cell_type": "code",
   "execution_count": null,
   "metadata": {},
   "outputs": [],
   "source": [
    "res.result"
   ]
  },
  {
   "cell_type": "code",
   "execution_count": null,
   "metadata": {},
   "outputs": [],
   "source": [
    "import covalent as ct\n",
    "import numpy as np\n",
    "import matplotlib.pyplot as plt"
   ]
  },
  {
   "cell_type": "code",
   "execution_count": null,
   "metadata": {},
   "outputs": [],
   "source": [
    "@ct.electron\n",
    "def fit_xy(x, y):\n",
    "    z = np.polyfit(x, y, 3)\n",
    "    return np.poly1d(z)\n",
    "\n",
    "@ct.electron\n",
    "def plot_fit(x, y, xnew, fit):\n",
    "    y_new = np.polyval(fit, xnew)\n",
    "    fig, ax = plt.subplots()\n",
    "    plt.plot(x, y, 'o')\n",
    "    plt.plot(xnew, y_new, '-')\n",
    "    #plt.xlim([x[0]-1, x[-1]+1])\n",
    "    return fig\n",
    "\n",
    "@ct.lattice\n",
    "def exp(x, y):\n",
    "    x_new = np.linspace(x[0], x[-1], 50)\n",
    "    fit = fit_xy(x, y)\n",
    "    return plot_fit(x, y, x_new, fit)"
   ]
  },
  {
   "cell_type": "code",
   "execution_count": null,
   "metadata": {},
   "outputs": [],
   "source": [
    "res = ct.dispatch_sync(exp)(x = [1,2,3,9], y = [1,4,1,3])"
   ]
  },
  {
   "cell_type": "code",
   "execution_count": null,
   "metadata": {},
   "outputs": [],
   "source": [
    "import matplotlib.pyplot as plt\n",
    "import numpy as np\n",
    "import covalent as ct"
   ]
  },
  {
   "cell_type": "code",
   "execution_count": null,
   "metadata": {},
   "outputs": [],
   "source": [
    "from sklearn import datasets, svm, metrics\n",
    "from sklearn.model_selection import train_test_split"
   ]
  },
  {
   "cell_type": "code",
   "execution_count": null,
   "metadata": {},
   "outputs": [],
   "source": [
    "@ct.electron\n",
    "def load_dataset():\n",
    "    return datasets.load_digits().data"
   ]
  },
  {
   "cell_type": "code",
   "execution_count": null,
   "metadata": {},
   "outputs": [],
   "source": [
    "@ct.electron\n",
    "def build_svm_classifier(gamma: float):\n",
    "    return svm.SVC(gamma=gamma)"
   ]
  },
  {
   "cell_type": "code",
   "execution_count": null,
   "metadata": {},
   "outputs": [],
   "source": [
    "data = load_dataset()"
   ]
  },
  {
   "cell_type": "code",
   "execution_count": null,
   "metadata": {},
   "outputs": [],
   "source": [
    "np.asarray(data.feature_names)"
   ]
  },
  {
   "cell_type": "code",
   "execution_count": 52,
   "metadata": {},
   "outputs": [],
   "source": [
    "import covalent as ct\n",
    "from sklearn import datasets, svm, metrics\n",
    "from sklearn.model_selection import train_test_split\n",
    "import matplotlib.pyplot as plt"
   ]
  },
  {
   "cell_type": "code",
   "execution_count": 3,
   "metadata": {},
   "outputs": [],
   "source": [
    "@ct.electron\n",
    "def load_dataset():\n",
    "    return datasets.load_digits()"
   ]
  },
  {
   "cell_type": "code",
   "execution_count": 4,
   "metadata": {},
   "outputs": [],
   "source": [
    "@ct.electron\n",
    "def build_classifier(gamma: float):\n",
    "    return svm.SVC(gamma = gamma)"
   ]
  },
  {
   "cell_type": "code",
   "execution_count": 5,
   "metadata": {},
   "outputs": [],
   "source": [
    "@ct.electron\n",
    "def split_data(features, targets, test_set_size):\n",
    "    return train_test_split(features, targets, test_size=test_set_size, shuffle=False)"
   ]
  },
  {
   "cell_type": "code",
   "execution_count": 6,
   "metadata": {},
   "outputs": [],
   "source": [
    "@ct.electron\n",
    "def train_classifier(clf, features, targets):\n",
    "    return clf.fit(features, targets)"
   ]
  },
  {
   "cell_type": "code",
   "execution_count": 44,
   "metadata": {},
   "outputs": [],
   "source": [
    "@ct.electron(executor=\"local\")\n",
    "def get_predictions(clf, test_features):\n",
    "    return clf.predict(test_features)"
   ]
  },
  {
   "cell_type": "code",
   "execution_count": 39,
   "metadata": {},
   "outputs": [],
   "source": [
    "@ct.electron\n",
    "def get_classification_report(y_test, predicitions):\n",
    "    return metrics.classification_report(y_test, predicitions)"
   ]
  },
  {
   "cell_type": "code",
   "execution_count": 40,
   "metadata": {},
   "outputs": [],
   "source": [
    "@ct.lattice\n",
    "def classify_digits(gamma: float):\n",
    "    dataset = load_dataset()\n",
    "    clf = build_classifier(gamma=gamma)\n",
    "    x_train, x_test, y_train, y_test = split_data(features=dataset.data,\n",
    "                                                targets=dataset.target,\n",
    "                                                  test_set_size=0.5)\n",
    "    \n",
    "    clf = train_classifier(clf=clf, features=x_train, targets=y_train)\n",
    "    \n",
    "    predictions = get_predictions(clf=clf, test_features=x_test)\n",
    "    \n",
    "    clf_report = get_classification_report(y_test=y_test, predicitions=predictions)\n",
    "    \n",
    "    return predictions, clf_report"
   ]
  },
  {
   "cell_type": "code",
   "execution_count": 45,
   "metadata": {},
   "outputs": [],
   "source": [
    "res = ct.dispatch(classify_digits)(0.001)"
   ]
  },
  {
   "cell_type": "code",
   "execution_count": 64,
   "metadata": {},
   "outputs": [],
   "source": [
    "predictions, clf_report = ct.get_result(dispatch_id=res, wait=True).result"
   ]
  },
  {
   "cell_type": "code",
   "execution_count": 59,
   "metadata": {},
   "outputs": [],
   "source": [
    "digits = datasets.load_digits()\n",
    "data = digits.data"
   ]
  },
  {
   "cell_type": "code",
   "execution_count": 60,
   "metadata": {},
   "outputs": [],
   "source": [
    "\n",
    "# Create a classifier: a support vector classifier\n",
    "clf = svm.SVC(gamma=0.001)\n",
    "\n",
    "# Split data into 50% train and 50% test subsets\n",
    "X_train, X_test, y_train, y_test = train_test_split(\n",
    "    data, digits.target, test_size=0.5, shuffle=False\n",
    ")"
   ]
  },
  {
   "cell_type": "code",
   "execution_count": 65,
   "metadata": {},
   "outputs": [
    {
     "data": {
      "image/png": "[encoded data removed]",
      "text/plain": [
       "<Figure size 720x216 with 4 Axes>"
      ]
     },
     "metadata": {
      "needs_background": "light"
     },
     "output_type": "display_data"
    }
   ],
   "source": [
    "_, axes = plt.subplots(nrows=1, ncols=4, figsize=(10, 3))\n",
    "for ax, image, prediction in zip(axes, X_test, predictions):\n",
    "    ax.set_axis_off()\n",
    "    image = image.reshape(8, 8)\n",
    "    ax.imshow(image, cmap=plt.cm.gray_r, interpolation=\"nearest\")\n",
    "    ax.set_title(f\"Prediction: {prediction}\")"
   ]
  },
  {
   "cell_type": "code",
   "execution_count": null,
   "metadata": {},
   "outputs": [],
   "source": []
  }
 ],
 "metadata": {
  "kernelspec": {
   "display_name": "Python 3 (ipykernel)",
   "language": "python",
   "name": "python3"
  },
  "language_info": {
   "codemirror_mode": {
    "name": "ipython",
    "version": 3
   },
   "file_extension": ".py",
   "mimetype": "text/x-python",
   "name": "python",
   "nbconvert_exporter": "python",
   "pygments_lexer": "ipython3",
   "version": "3.8.13"
  },
  "vscode": {
   "interpreter": {
    "hash": "77e4c86526ca8a4ddc0a9384367b3c6fc68964a2df01fd90b3f3907e1b978260"
   }
  }
 },
 "nbformat": 4,
 "nbformat_minor": 2
}

{
 "cells": [
  {
   "cell_type": "code",
   "execution_count": 1,
   "metadata": {},
   "outputs": [],
   "source": [
    "import covamd\n",
    "import numpy as np"
   ]
  },
  {
   "cell_type": "code",
   "execution_count": 2,
   "metadata": {},
   "outputs": [],
   "source": [
    "class Potential(object):\n",
    "    \"\"\"\n",
    "    Base class for all MD potentials\n",
    "    \"\"\"\n",
    "    def __init__(self, name: str):\n",
    "        self.name = name\n",
    "\n",
    "    def __call__(self, r: float):\n",
    "        raise NotImplementedError"
   ]
  },
  {
   "cell_type": "code",
   "execution_count": 3,
   "metadata": {},
   "outputs": [],
   "source": [
    "class LennardJones(Potential):\n",
    "    \"\"\"\n",
    "    Lennard Jones 12-6 potential class\n",
    "    Input(s)\n",
    "    epsilon = interaction strength\n",
    "    sigma = potential interaction length scale\n",
    "    cutoff = distance beyond which the potential is zero\n",
    "    \"\"\"\n",
    "    def __init__(self, epsilon: float, sigma: float, cutoff: float = 2.5, name = \"lj12/6\"):\n",
    "        self.epsilon = epsilon\n",
    "        self.sigma = sigma\n",
    "        self.cutoff = cutoff\n",
    "        super().__init__(name=name)\n",
    "\n",
    "    def __call__(self, r: float):\n",
    "        \"\"\"\n",
    "        Compute the potential value given the distance `r`.\n",
    "        The potential is set to 0 if r > cutoff\n",
    "        \"\"\"\n",
    "        if r <= self.cutoff:\n",
    "            return 4*self.epsilon*((self.sigma/r)**12 - (self.sigma/r)**6)\n",
    "        return 0.0\n",
    "        "
   ]
  },
  {
   "cell_type": "code",
   "execution_count": 4,
   "metadata": {},
   "outputs": [],
   "source": [
    "class Domain(object):\n",
    "    def __init__(self, xlo: float, xhi: float, ylo: float, yhi: float):\n",
    "        self.xlo = xlo\n",
    "        self.xhi = xhi\n",
    "        self.ylo = ylo\n",
    "        self.yhi = yhi\n",
    "\n",
    "\n",
    "    @property\n",
    "    def lx(self):\n",
    "        return self.xhi - self.xlo\n",
    "\n",
    "    @property\n",
    "    def ly(self):\n",
    "        return self.yhi - self.ylo"
   ]
  },
  {
   "cell_type": "code",
   "execution_count": 5,
   "metadata": {},
   "outputs": [],
   "source": [
    "class Particle(object):\n",
    "    def __init__(self, id: int, mass: float, x: float, y: float,\n",
    "                 vx: float = 0.0, vy: float = 0.0, fx: float = 0.0,\n",
    "                 fy: float = 0.0):\n",
    "        \"\"\"\n",
    "        Basic particle\n",
    "        \"\"\"\n",
    "        self.id = id\n",
    "        self.mass = mass\n",
    "        self.x = x\n",
    "        self.y = y\n",
    "        self.vx = vx\n",
    "        self.vy = vy\n",
    "        self.fx = fx\n",
    "        self.fy = fy\n",
    "\n",
    "    def __eq__(self, other):\n",
    "        return all([other.__dict__[key] == value for key, value in\n",
    "                   self.__dict__.items()])\n",
    "\n",
    "    def __sub__(self, other):\n",
    "        return self.x - other.x, self.y - other.y\n",
    "\n",
    "    def __repr__(self):\n",
    "        return f\"Particle(id={self.id}, mass={self.mass},x={self.x},\\\n",
    "                y={self.y},vx={self.vx},vy={self.vy},\\\n",
    "                fx={self.fx},fy={self.fy})\".replace('\\n', '')\n",
    "\n",
    "    def __str__(self):\n",
    "        return f\"\"\"{self.id},{self.mass},{self.x},{self.y},{self.vx},{self.vy},{self.fx},{self.fy}\\n\"\"\"\n",
    "\n",
    "def create_particle(id: int, mass: float, domain: Domain):\n",
    "    \"\"\"\n",
    "    Create a particle with id=`id` and mass=`mass' randomly\n",
    "    located in the domain\n",
    "    \"\"\"\n",
    "    return Particle(id=id, mass=mass,\n",
    "                    x=np.random.uniform(domain.xlo, domain.xhi),\n",
    "                    y=np.random.uniform(domain.ylo, domain.yhi))"
   ]
  },
  {
   "cell_type": "code",
   "execution_count": 6,
   "metadata": {},
   "outputs": [],
   "source": [
    "domain = Domain(xlo = 0, xhi = 20, ylo = 0, yhi = 20)\n",
    "num_particles = 30\n",
    "nsteps = 1000\n",
    "particles = [create_particle(id=index, mass=1.0, domain = domain) for index in range(num_particles)]"
   ]
  },
  {
   "cell_type": "code",
   "execution_count": 7,
   "metadata": {},
   "outputs": [],
   "source": [
    "lj = LennardJones(epsilon=1.0, sigma=1.0)"
   ]
  },
  {
   "cell_type": "code",
   "execution_count": 8,
   "metadata": {},
   "outputs": [],
   "source": [
    "#covamd.total_pe(particles, lj, domain)"
   ]
  },
  {
   "cell_type": "code",
   "execution_count": null,
   "metadata": {},
   "outputs": [],
   "source": [
    "particles[0].x"
   ]
  },
  {
   "cell_type": "code",
   "execution_count": null,
   "metadata": {},
   "outputs": [],
   "source": []
  }
 ],
 "metadata": {
  "kernelspec": {
   "display_name": "Python 3.8.13 ('rpi')",
   "language": "python",
   "name": "python3"
  },
  "language_info": {
   "codemirror_mode": {
    "name": "ipython",
    "version": 3
   },
   "file_extension": ".py",
   "mimetype": "text/x-python",
   "name": "python",
   "nbconvert_exporter": "python",
   "pygments_lexer": "ipython3",
   "version": "3.8.13"
  },
  "orig_nbformat": 4,
  "vscode": {
   "interpreter": {
    "hash": "77e4c86526ca8a4ddc0a9384367b3c6fc68964a2df01fd90b3f3907e1b978260"
   }
  }
 },
 "nbformat": 4,
 "nbformat_minor": 2
}

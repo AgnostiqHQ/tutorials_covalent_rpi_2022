{
 "cells": [
  {
   "cell_type": "code",
   "execution_count": 1,
   "id": "bfb7d611",
   "metadata": {},
   "outputs": [],
   "source": [
    "import matplotlib.pyplot as plt\n",
    "import numpy as np\n",
    "import covalent as ct\n",
    "from sklearn import datasets, svm, metrics\n",
    "from sklearn.model_selection import train_test_split"
   ]
  },
  {
   "cell_type": "markdown",
   "id": "e41ec0e5",
   "metadata": {},
   "source": [
    "## Load the dataset"
   ]
  },
  {
   "cell_type": "code",
   "execution_count": 2,
   "id": "4ba51650",
   "metadata": {},
   "outputs": [],
   "source": [
    "@ct.electron\n",
    "def load_dataset():\n",
    "    return datasets.load_digits()"
   ]
  },
  {
   "cell_type": "markdown",
   "id": "fe05f565",
   "metadata": {},
   "source": [
    "## Build the classifier"
   ]
  },
  {
   "cell_type": "code",
   "execution_count": 3,
   "id": "131d69f9",
   "metadata": {},
   "outputs": [],
   "source": [
    "@ct.electron\n",
    "def build_classifier(gamma: float):\n",
    "    return svm.SVC(gamma = gamma)"
   ]
  },
  {
   "cell_type": "markdown",
   "id": "5caad3ab",
   "metadata": {},
   "source": [
    "### Test/Train split"
   ]
  },
  {
   "cell_type": "code",
   "execution_count": 4,
   "id": "f661f06e",
   "metadata": {},
   "outputs": [],
   "source": [
    "@ct.electron\n",
    "def split_data(features, targets, test_set_size):\n",
    "    return train_test_split(features, targets, test_size=test_set_size, shuffle=False)"
   ]
  },
  {
   "cell_type": "markdown",
   "id": "5dc1455a",
   "metadata": {},
   "source": [
    "## Train classifier"
   ]
  },
  {
   "cell_type": "code",
   "execution_count": 5,
   "id": "c27b5795",
   "metadata": {},
   "outputs": [],
   "source": [
    "@ct.electron\n",
    "def train_classifier(clf, features, targets):\n",
    "    return clf.fit(features, targets)"
   ]
  },
  {
   "cell_type": "markdown",
   "id": "b23b6269",
   "metadata": {},
   "source": [
    "## Get predictions"
   ]
  },
  {
   "cell_type": "code",
   "execution_count": 6,
   "id": "4d09b460",
   "metadata": {},
   "outputs": [],
   "source": [
    "@ct.electron\n",
    "def get_predictions(clf, test_features):\n",
    "    return clf.predict(test_features)"
   ]
  },
  {
   "cell_type": "markdown",
   "id": "520bb99b",
   "metadata": {},
   "source": [
    "## Get classification report"
   ]
  },
  {
   "cell_type": "code",
   "execution_count": 7,
   "id": "83344e90",
   "metadata": {},
   "outputs": [],
   "source": [
    "@ct.electron\n",
    "def get_classification_report(y_test, predicitions):\n",
    "    return metrics.classification_report(y_test, predicitions)"
   ]
  },
  {
   "cell_type": "markdown",
   "id": "1a55178e",
   "metadata": {},
   "source": [
    "### Workflow"
   ]
  },
  {
   "cell_type": "code",
   "execution_count": 8,
   "id": "29bc7acb",
   "metadata": {},
   "outputs": [],
   "source": [
    "@ct.lattice\n",
    "def classify_digits(gamma: float):\n",
    "    dataset = load_dataset()\n",
    "    \n",
    "    clf = build_classifier(gamma=gamma)\n",
    "    \n",
    "    x_train, x_test, y_train, y_test = split_data(features=dataset.data, targets=dataset.target, test_set_size=0.5)\n",
    "    \n",
    "    clf = train_classifier(clf=clf, features=x_train, targets=y_train)\n",
    "    \n",
    "    predictions = get_predictions(clf=clf, test_features=x_test)\n",
    "    \n",
    "    clf_report = get_classification_report(y_test=y_test, predicitions=predictions)\n",
    "    \n",
    "    return predictions, clf_report, x_test"
   ]
  },
  {
   "cell_type": "markdown",
   "id": "2fa6e3bf",
   "metadata": {},
   "source": [
    "### Dispatch workflow with gamma = 0.001"
   ]
  },
  {
   "cell_type": "code",
   "execution_count": 9,
   "id": "ff5721e3",
   "metadata": {},
   "outputs": [],
   "source": [
    "dispatch_id = ct.dispatch(classify_digits)(0.001)"
   ]
  },
  {
   "cell_type": "code",
   "execution_count": 10,
   "id": "f258cb18",
   "metadata": {},
   "outputs": [],
   "source": [
    "result = ct.get_result(dispatch_id, wait=True)"
   ]
  },
  {
   "cell_type": "code",
   "execution_count": 11,
   "id": "93538363",
   "metadata": {},
   "outputs": [],
   "source": [
    "predictions, clf_report, x_test = result.result"
   ]
  },
  {
   "cell_type": "code",
   "execution_count": 12,
   "id": "4aac6e23",
   "metadata": {},
   "outputs": [
    {
     "data": {
      "text/plain": [
       "array([8, 8, 4, 9, 0, 8, 9, 8, 1, 2, 3, 4, 5, 6, 7, 8, 9, 0, 1, 2, 3, 4,\n",
       "       5, 6, 7, 8, 9, 0, 1, 2, 3, 4, 9, 6, 7, 8, 9, 0, 9, 5, 5, 6, 5, 0,\n",
       "       9, 8, 9, 8, 4, 1, 7, 7, 3, 9, 1, 2, 7, 8, 2, 0, 1, 2, 6, 3, 3, 7,\n",
       "       3, 3, 4, 6, 6, 6, 4, 9, 1, 5, 0, 9, 5, 2, 8, 2, 0, 0, 1, 7, 6, 3,\n",
       "       2, 1, 4, 6, 3, 1, 3, 9, 1, 7, 6, 8, 4, 3, 1, 4, 0, 5, 3, 6, 9, 6,\n",
       "       1, 7, 5, 4, 4, 7, 2, 8, 2, 2, 5, 7, 9, 5, 4, 4, 9, 0, 8, 9, 8, 0,\n",
       "       1, 2, 3, 4, 5, 6, 7, 8, 9, 0, 1, 2, 3, 4, 5, 6, 7, 8, 9, 0, 1, 2,\n",
       "       3, 4, 5, 6, 7, 8, 9, 0, 9, 5, 5, 6, 5, 0, 9, 8, 9, 8, 4, 1, 7, 7,\n",
       "       3, 5, 1, 0, 0, 7, 8, 2, 0, 1, 2, 6, 3, 3, 7, 3, 3, 4, 6, 6, 6, 9,\n",
       "       9, 1, 5, 0, 9, 5, 2, 8, 2, 0, 0, 1, 7, 6, 3, 2, 1, 5, 4, 6, 3, 1,\n",
       "       7, 9, 1, 7, 6, 8, 4, 3, 1, 4, 0, 5, 3, 6, 9, 6, 1, 7, 5, 4, 4, 7,\n",
       "       2, 8, 2, 2, 5, 7, 9, 5, 4, 8, 8, 4, 9, 0, 8, 9, 8, 0, 1, 2, 3, 4,\n",
       "       5, 6, 7, 8, 9, 0, 1, 2, 3, 4, 5, 6, 7, 8, 9, 0, 1, 2, 3, 4, 5, 6,\n",
       "       7, 8, 9, 0, 9, 5, 5, 6, 5, 0, 9, 8, 9, 8, 4, 1, 7, 7, 3, 5, 1, 0,\n",
       "       0, 2, 2, 7, 8, 2, 0, 1, 2, 6, 3, 3, 7, 3, 3, 4, 6, 6, 6, 4, 9, 1,\n",
       "       5, 0, 9, 5, 2, 8, 2, 0, 0, 1, 7, 6, 3, 2, 2, 7, 4, 6, 3, 1, 3, 9,\n",
       "       1, 7, 6, 8, 4, 3, 1, 4, 0, 5, 3, 6, 9, 6, 8, 7, 5, 4, 4, 7, 2, 8,\n",
       "       2, 2, 5, 7, 9, 5, 4, 8, 8, 4, 9, 0, 8, 9, 8, 0, 9, 2, 3, 4, 5, 6,\n",
       "       7, 8, 9, 0, 1, 2, 3, 4, 5, 6, 7, 8, 9, 0, 1, 2, 3, 4, 5, 6, 7, 8,\n",
       "       9, 0, 9, 5, 5, 6, 5, 0, 9, 8, 9, 8, 4, 1, 7, 7, 3, 5, 1, 0, 0, 2,\n",
       "       2, 7, 8, 2, 0, 1, 2, 6, 3, 3, 7, 3, 3, 4, 6, 6, 6, 4, 9, 1, 5, 0,\n",
       "       9, 6, 2, 8, 3, 0, 0, 1, 7, 6, 3, 2, 1, 7, 4, 6, 3, 1, 3, 9, 1, 7,\n",
       "       6, 8, 4, 3, 1, 4, 0, 5, 3, 6, 9, 6, 1, 7, 5, 4, 4, 7, 2, 8, 2, 2,\n",
       "       5, 7, 9, 5, 4, 8, 8, 4, 9, 0, 8, 0, 1, 2, 3, 4, 5, 6, 7, 8, 9, 0,\n",
       "       1, 2, 3, 4, 5, 6, 7, 8, 9, 0, 1, 2, 3, 4, 5, 6, 7, 8, 9, 0, 9, 5,\n",
       "       5, 6, 5, 0, 9, 8, 9, 8, 4, 1, 7, 7, 3, 5, 1, 0, 0, 2, 2, 7, 8, 2,\n",
       "       0, 1, 2, 6, 3, 3, 7, 3, 3, 4, 6, 6, 6, 4, 9, 1, 5, 0, 9, 5, 2, 8,\n",
       "       2, 0, 0, 1, 7, 6, 3, 2, 1, 7, 4, 6, 3, 1, 3, 9, 1, 7, 6, 8, 4, 3,\n",
       "       1, 4, 0, 5, 3, 6, 9, 6, 1, 7, 5, 4, 4, 7, 2, 8, 2, 2, 5, 7, 9, 5,\n",
       "       4, 8, 8, 4, 9, 0, 8, 9, 8, 0, 1, 2, 3, 4, 5, 1, 7, 8, 9, 0, 1, 2,\n",
       "       3, 4, 5, 6, 9, 0, 1, 2, 3, 4, 5, 6, 7, 8, 9, 4, 9, 5, 5, 6, 5, 0,\n",
       "       9, 8, 9, 8, 4, 1, 7, 7, 3, 5, 1, 0, 0, 2, 2, 7, 8, 2, 0, 1, 2, 6,\n",
       "       8, 7, 7, 7, 3, 4, 6, 6, 6, 9, 9, 1, 5, 0, 9, 5, 2, 8, 0, 1, 7, 6,\n",
       "       3, 2, 1, 7, 9, 6, 3, 1, 3, 9, 1, 7, 6, 8, 4, 3, 1, 4, 0, 5, 3, 6,\n",
       "       9, 6, 1, 7, 5, 4, 4, 7, 2, 2, 5, 7, 3, 5, 9, 4, 5, 0, 8, 9, 8, 0,\n",
       "       1, 2, 3, 4, 5, 6, 7, 8, 9, 0, 1, 2, 8, 4, 5, 6, 7, 8, 9, 0, 1, 2,\n",
       "       5, 4, 5, 6, 7, 8, 9, 0, 9, 5, 5, 6, 5, 0, 9, 8, 9, 8, 4, 1, 7, 7,\n",
       "       7, 5, 1, 0, 0, 2, 2, 7, 8, 2, 0, 1, 2, 6, 8, 8, 7, 5, 8, 4, 6, 6,\n",
       "       6, 4, 9, 1, 5, 0, 9, 5, 2, 8, 2, 0, 0, 1, 7, 6, 3, 2, 1, 7, 4, 6,\n",
       "       3, 1, 3, 9, 1, 7, 6, 8, 4, 5, 1, 4, 0, 5, 3, 6, 9, 6, 1, 7, 5, 4,\n",
       "       4, 7, 2, 8, 2, 2, 5, 7, 9, 5, 4, 8, 8, 4, 9, 0, 8, 9, 8])"
      ]
     },
     "execution_count": 12,
     "metadata": {},
     "output_type": "execute_result"
    }
   ],
   "source": [
    "predictions"
   ]
  },
  {
   "cell_type": "code",
   "execution_count": 13,
   "id": "38649ac0",
   "metadata": {},
   "outputs": [
    {
     "name": "stdout",
     "output_type": "stream",
     "text": [
      "              precision    recall  f1-score   support\n",
      "\n",
      "           0       1.00      0.99      0.99        88\n",
      "           1       0.99      0.97      0.98        91\n",
      "           2       0.99      0.99      0.99        86\n",
      "           3       0.98      0.87      0.92        91\n",
      "           4       0.99      0.96      0.97        92\n",
      "           5       0.95      0.97      0.96        91\n",
      "           6       0.99      0.99      0.99        91\n",
      "           7       0.96      0.99      0.97        89\n",
      "           8       0.94      1.00      0.97        88\n",
      "           9       0.93      0.98      0.95        92\n",
      "\n",
      "    accuracy                           0.97       899\n",
      "   macro avg       0.97      0.97      0.97       899\n",
      "weighted avg       0.97      0.97      0.97       899\n",
      "\n"
     ]
    }
   ],
   "source": [
    "print(clf_report)"
   ]
  },
  {
   "cell_type": "code",
   "execution_count": 14,
   "id": "827d953e",
   "metadata": {},
   "outputs": [
    {
     "data": {
      "image/png": "[encoded data removed]",
      "text/plain": [
       "<Figure size 720x216 with 4 Axes>"
      ]
     },
     "metadata": {
      "needs_background": "light"
     },
     "output_type": "display_data"
    }
   ],
   "source": [
    "_, axes = plt.subplots(nrows=1, ncols=4, figsize=(10, 3))\n",
    "for ax, image, prediction in zip(axes, x_test, predictions):\n",
    "    ax.set_axis_off()\n",
    "    image = image.reshape(8, 8)\n",
    "    ax.imshow(image, cmap=plt.cm.gray_r, interpolation=\"nearest\")\n",
    "    ax.set_title(f\"Prediction: {prediction}\")"
   ]
  },
  {
   "cell_type": "markdown",
   "id": "afe85715",
   "metadata": {},
   "source": [
    "### Now that we have a based model trained and workflow setup, we can do some hyper-parameter tuning. In covalent we can mark lattices themselves as electrons to build larger workflows built on composition"
   ]
  },
  {
   "cell_type": "code",
   "execution_count": 15,
   "id": "e82308bb",
   "metadata": {},
   "outputs": [],
   "source": [
    "@ct.electron\n",
    "@ct.lattice\n",
    "def classify_digits(gamma: float):\n",
    "    dataset = load_dataset()\n",
    "    \n",
    "    clf = build_classifier(gamma=gamma)\n",
    "    \n",
    "    x_train, x_test, y_train, y_test = split_data(features=dataset.data, targets=dataset.target, test_set_size=0.5)\n",
    "    \n",
    "    clf = train_classifier(clf=clf, features=x_train, targets=y_train)\n",
    "    \n",
    "    predictions = get_predictions(clf=clf, test_features=x_test)\n",
    "    \n",
    "    clf_report = get_classification_report(y_test=y_test, predicitions=predictions)\n",
    "    \n",
    "    return predictions, clf_report, x_test"
   ]
  },
  {
   "cell_type": "code",
   "execution_count": 16,
   "id": "76accf77",
   "metadata": {},
   "outputs": [],
   "source": [
    "@ct.lattice\n",
    "def find_best_gamma(gamma_values):\n",
    "    results = {}\n",
    "    for gamma in gamma_values:\n",
    "        results[f\"{gamma}\"] = {}\n",
    "        predictions, clf_report, _ = classify_digits(gamma)\n",
    "        \n",
    "        results[f\"{gamma}\"][\"predictions\"] = predictions\n",
    "        results[f\"{gamma}\"][\"report\"] = clf_report\n",
    "    return results"
   ]
  },
  {
   "cell_type": "code",
   "execution_count": 17,
   "id": "4310b179",
   "metadata": {},
   "outputs": [],
   "source": [
    "result = ct.dispatch_sync(find_best_gamma)([0.001, 0.002, 0.003, 0.01])"
   ]
  },
  {
   "cell_type": "code",
   "execution_count": 18,
   "id": "7f85821f",
   "metadata": {},
   "outputs": [
    {
     "name": "stdout",
     "output_type": "stream",
     "text": [
      "              precision    recall  f1-score   support\n",
      "\n",
      "           0       1.00      0.99      0.99        88\n",
      "           1       0.99      0.97      0.98        91\n",
      "           2       0.99      0.99      0.99        86\n",
      "           3       0.98      0.87      0.92        91\n",
      "           4       0.99      0.96      0.97        92\n",
      "           5       0.95      0.97      0.96        91\n",
      "           6       0.99      0.99      0.99        91\n",
      "           7       0.96      0.99      0.97        89\n",
      "           8       0.94      1.00      0.97        88\n",
      "           9       0.93      0.98      0.95        92\n",
      "\n",
      "    accuracy                           0.97       899\n",
      "   macro avg       0.97      0.97      0.97       899\n",
      "weighted avg       0.97      0.97      0.97       899\n",
      "\n",
      "              precision    recall  f1-score   support\n",
      "\n",
      "           0       1.00      0.98      0.99        88\n",
      "           1       0.99      0.98      0.98        91\n",
      "           2       0.99      0.98      0.98        86\n",
      "           3       0.99      0.88      0.93        91\n",
      "           4       0.99      0.96      0.97        92\n",
      "           5       0.95      0.96      0.95        91\n",
      "           6       0.99      0.99      0.99        91\n",
      "           7       0.97      0.99      0.98        89\n",
      "           8       0.93      1.00      0.96        88\n",
      "           9       0.90      0.97      0.93        92\n",
      "\n",
      "    accuracy                           0.97       899\n",
      "   macro avg       0.97      0.97      0.97       899\n",
      "weighted avg       0.97      0.97      0.97       899\n",
      "\n",
      "              precision    recall  f1-score   support\n",
      "\n",
      "           0       1.00      0.97      0.98        88\n",
      "           1       1.00      0.97      0.98        91\n",
      "           2       0.99      0.94      0.96        86\n",
      "           3       0.99      0.84      0.90        91\n",
      "           4       0.99      0.92      0.96        92\n",
      "           5       0.96      0.96      0.96        91\n",
      "           6       0.99      0.99      0.99        91\n",
      "           7       0.98      0.97      0.97        89\n",
      "           8       0.80      1.00      0.89        88\n",
      "           9       0.87      0.96      0.91        92\n",
      "\n",
      "    accuracy                           0.95       899\n",
      "   macro avg       0.96      0.95      0.95       899\n",
      "weighted avg       0.96      0.95      0.95       899\n",
      "\n",
      "              precision    recall  f1-score   support\n",
      "\n",
      "           0       1.00      0.65      0.79        88\n",
      "           1       1.00      0.74      0.85        91\n",
      "           2       1.00      0.64      0.78        86\n",
      "           3       1.00      0.64      0.78        91\n",
      "           4       1.00      0.55      0.71        92\n",
      "           5       0.93      0.98      0.95        91\n",
      "           6       1.00      0.68      0.81        91\n",
      "           7       1.00      0.49      0.66        89\n",
      "           8       0.25      1.00      0.40        88\n",
      "           9       1.00      0.61      0.76        92\n",
      "\n",
      "    accuracy                           0.70       899\n",
      "   macro avg       0.92      0.70      0.75       899\n",
      "weighted avg       0.92      0.70      0.75       899\n",
      "\n"
     ]
    }
   ],
   "source": [
    "for gamma in [0.001, 0.002, 0.003, 0.01]:\n",
    "    print(result.result[f\"{gamma}\"][\"report\"])"
   ]
  },
  {
   "cell_type": "code",
   "execution_count": null,
   "id": "c0515667",
   "metadata": {},
   "outputs": [],
   "source": []
  }
 ],
 "metadata": {
  "kernelspec": {
   "display_name": "Python 3 (ipykernel)",
   "language": "python",
   "name": "python3"
  },
  "language_info": {
   "codemirror_mode": {
    "name": "ipython",
    "version": 3
   },
   "file_extension": ".py",
   "mimetype": "text/x-python",
   "name": "python",
   "nbconvert_exporter": "python",
   "pygments_lexer": "ipython3",
   "version": "3.8.13"
  }
 },
 "nbformat": 4,
 "nbformat_minor": 5
}

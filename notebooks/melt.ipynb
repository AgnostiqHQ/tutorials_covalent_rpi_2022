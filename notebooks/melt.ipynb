{
 "cells": [
  {
   "cell_type": "code",
   "execution_count": 10,
   "metadata": {},
   "outputs": [],
   "source": [
    "import covalent as ct\n",
    "from pydantic import BaseModel, Field\n",
    "import numpy as np\n",
    "from typing import List"
   ]
  },
  {
   "cell_type": "code",
   "execution_count": null,
   "metadata": {},
   "outputs": [],
   "source": [
    "def particles_to_coordinates(particles: List[Particle]):\n",
    "    return [coordinate for p in particles for coordinate in [p.x, p.y]]\n",
    "\n",
    "def coordinates_to_particles(coordinates: List[float]):\n",
    "    N = int(len(coordinates)/2)\n",
    "    return [Particle(id = index, mass = 1.0, x = coordinate[0], y = coordinate[1],\n",
    "              vx = 0.0, vy = 0.0, fx = 0.0, fy = 0.0) for index, coordinate in enumerate(np.split(np.asarray(coordinates), N))]"
   ]
  },
  {
   "cell_type": "markdown",
   "metadata": {},
   "source": [
    "### Define pair interaction potentials"
   ]
  },
  {
   "cell_type": "code",
   "execution_count": 8,
   "metadata": {},
   "outputs": [],
   "source": [
    "class Potential(BaseModel):\n",
    "    name: str\n",
    "    \n",
    "    def __call__(self, r: float, *args, **kwargs):\n",
    "        raise NotImplementedError\n",
    "        \n",
    "class LennardJones126(Potential):\n",
    "    name = \"lj/126\"\n",
    "    epsilon: float = 1.0\n",
    "    sigma: float = 1.0\n",
    "    cutoff: float = 2.5\n",
    "    \n",
    "    def __call__(self, r: float):\n",
    "        return 4*self.epsilon*((self.sigma/r)**12 - (self.sigma/r)**6) if r <= cutoff else 0.0"
   ]
  },
  {
   "cell_type": "markdown",
   "metadata": {},
   "source": [
    "### Pair force"
   ]
  },
  {
   "cell_type": "code",
   "execution_count": 6,
   "metadata": {},
   "outputs": [],
   "source": [
    "class Force(BaseModel):\n",
    "    delta: float = 1e-8\n",
    "    def __call__(self, r: float, potential: Potential, *args, **kwargs):\n",
    "        raise NotImplementedError\n",
    "        \n",
    "class LennardJones126Force(Force):\n",
    "    def __call__(self, r: float, potential: LennardJones126):\n",
    "        return -((potential(r + self.delta) - potential(r - self.delta))/(2*self.delta))"
   ]
  },
  {
   "cell_type": "markdown",
   "metadata": {},
   "source": [
    "#### Particle base class"
   ]
  },
  {
   "cell_type": "code",
   "execution_count": 7,
   "metadata": {},
   "outputs": [],
   "source": [
    "class Particle(BaseModel):\n",
    "    id: int\n",
    "    mass: float = 1.0\n",
    "    x: float = Field(default_factory=np.random.uniform)\n",
    "    y: float = Field(default_factory=np.random.uniform)\n",
    "    vx: float = Field(default_factory=np.random.uniform)\n",
    "    vy: float = Field(default_factory=np.random.uniform)\n",
    "    fx: float = 0.0\n",
    "    fy: float = 0.0"
   ]
  },
  {
   "cell_type": "code",
   "execution_count": 12,
   "metadata": {},
   "outputs": [],
   "source": [
    "class TotalPotentialEnergy(BaseModel):\n",
    "    def __call__(self, particles: List[Particle], potential: Potential, *args, **kwargs):\n",
    "        pe = 0.0\n",
    "        for i in particles:\n",
    "            for j in particles:\n",
    "                if i == j:\n",
    "                    continue\n",
    "                else:\n",
    "                    dx, dy, dr = i - j\n",
    "                    pe += potential(dr)\n",
    "        return pe"
   ]
  },
  {
   "cell_type": "code",
   "execution_count": null,
   "metadata": {},
   "outputs": [],
   "source": []
  },
  {
   "cell_type": "markdown",
   "metadata": {},
   "source": [
    "#### Create the domain (simulation box)"
   ]
  },
  {
   "cell_type": "code",
   "execution_count": null,
   "metadata": {},
   "outputs": [],
   "source": [
    "domain = Domain2d(xlo = -2.5, xhi=2.5, ylo=-2.5, yhi=2.5)"
   ]
  },
  {
   "cell_type": "code",
   "execution_count": null,
   "metadata": {},
   "outputs": [],
   "source": [
    "particles = [Particle2d(id=i, mass=1.0) for i in range(10)]"
   ]
  },
  {
   "cell_type": "code",
   "execution_count": null,
   "metadata": {},
   "outputs": [],
   "source": [
    "simulation = Simulation(domain=domain, particles=particles, potential=LennardJones126())"
   ]
  },
  {
   "cell_type": "code",
   "execution_count": null,
   "metadata": {},
   "outputs": [],
   "source": [
    "def minimize_pe(total_pe, particles: List[Particle], *args, **kwargs):\n",
    "    "
   ]
  },
  {
   "cell_type": "code",
   "execution_count": null,
   "metadata": {},
   "outputs": [],
   "source": [
    "simulation.total_pe"
   ]
  },
  {
   "cell_type": "code",
   "execution_count": null,
   "metadata": {},
   "outputs": [],
   "source": [
    "Simulation(domain=domain)"
   ]
  },
  {
   "cell_type": "code",
   "execution_count": null,
   "metadata": {},
   "outputs": [],
   "source": [
    "@ct.electron\n",
    "class Temp(object):\n",
    "    def __call__(self, r: float):\n",
    "        return r**2"
   ]
  },
  {
   "cell_type": "code",
   "execution_count": null,
   "metadata": {},
   "outputs": [],
   "source": [
    "@ct.lattice\n",
    "def workflow(r):\n",
    "    return Temp(r)"
   ]
  },
  {
   "cell_type": "code",
   "execution_count": null,
   "metadata": {},
   "outputs": [],
   "source": [
    "res = ct.dispatch_sync(workflow)(2.0)"
   ]
  },
  {
   "cell_type": "code",
   "execution_count": null,
   "metadata": {},
   "outputs": [],
   "source": [
    "potential = LennardJones126()(2.0)"
   ]
  },
  {
   "cell_type": "code",
   "execution_count": null,
   "metadata": {},
   "outputs": [],
   "source": [
    "potential"
   ]
  },
  {
   "cell_type": "code",
   "execution_count": null,
   "metadata": {},
   "outputs": [],
   "source": [
    "p = Particle2d(id=1, mass=1.0)"
   ]
  },
  {
   "cell_type": "code",
   "execution_count": null,
   "metadata": {},
   "outputs": [],
   "source": []
  }
 ],
 "metadata": {
  "interpreter": {
   "hash": "cace8a576aada32003857cd7bf36a18cc9fb951b671c76660dd3c811b249850a"
  },
  "kernelspec": {
   "display_name": "Python 3 (ipykernel)",
   "language": "python",
   "name": "python3"
  },
  "language_info": {
   "codemirror_mode": {
    "name": "ipython",
    "version": 3
   },
   "file_extension": ".py",
   "mimetype": "text/x-python",
   "name": "python",
   "nbconvert_exporter": "python",
   "pygments_lexer": "ipython3",
   "version": "3.8.13"
  }
 },
 "nbformat": 4,
 "nbformat_minor": 4
}

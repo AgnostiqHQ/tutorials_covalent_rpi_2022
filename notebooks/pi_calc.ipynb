{
 "cells": [
  {
   "cell_type": "code",
   "execution_count": null,
   "id": "70ceadc2",
   "metadata": {},
   "outputs": [],
   "source": [
    "import covalent as ct\n",
    "import pimonte"
   ]
  },
  {
   "cell_type": "code",
   "execution_count": null,
   "id": "f87e2ff0",
   "metadata": {},
   "outputs": [],
   "source": [
    "@ct.electron\n",
    "def compute_pi(n):\n",
    "    return pimonte.compute_pi(n)"
   ]
  },
  {
   "cell_type": "code",
   "execution_count": null,
   "id": "fbc692fa",
   "metadata": {},
   "outputs": [],
   "source": [
    "@ct.lattice\n",
    "def workflow():\n",
    "    res = []\n",
    "    for i in [100, 1000, 100000]:\n",
    "        res.append(compute_pi(i))\n",
    "    return res"
   ]
  },
  {
   "cell_type": "code",
   "execution_count": null,
   "id": "7874b1b9",
   "metadata": {},
   "outputs": [],
   "source": [
    "dispatch_id = ct.dispatch(workflow)()"
   ]
  },
  {
   "cell_type": "code",
   "execution_count": null,
   "id": "cee65637",
   "metadata": {},
   "outputs": [],
   "source": [
    "res = ct.get_result(dispatch_id)"
   ]
  },
  {
   "cell_type": "code",
   "execution_count": null,
   "id": "6b1ce8ab",
   "metadata": {},
   "outputs": [],
   "source": [
    "res.result"
   ]
  },
  {
   "cell_type": "code",
   "execution_count": null,
   "id": "a743f822",
   "metadata": {},
   "outputs": [],
   "source": []
  }
 ],
 "metadata": {
  "kernelspec": {
   "display_name": "Python 3 (ipykernel)",
   "language": "python",
   "name": "python3"
  },
  "language_info": {
   "codemirror_mode": {
    "name": "ipython",
    "version": 3
   },
   "file_extension": ".py",
   "mimetype": "text/x-python",
   "name": "python",
   "nbconvert_exporter": "python",
   "pygments_lexer": "ipython3",
   "version": "3.8.13"
  }
 },
 "nbformat": 4,
 "nbformat_minor": 5
}

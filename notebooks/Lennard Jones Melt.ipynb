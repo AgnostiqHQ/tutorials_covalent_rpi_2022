{
 "cells": [
  {
   "cell_type": "markdown",
   "id": "85201bda-02ff-4c21-96fb-481b27dcdf09",
   "metadata": {},
   "source": [
    "### Lennard-Jones melt\n",
    "\n",
    "The `Lennard-Jones` melt, or commonly referred to as the `LJ` melt is hello world analog in Molecular Dynamics (MD). the simulation system consists of `N` particles interacting with each other via the `12-6` Lennard Jones potential given by\n",
    "\n",
    "$$\n",
    "U(r) = 4 \\epsilon \\left[\\left(\\frac{\\sigma}{r}\\right)^{12}  - \\left(\\frac{\\sigma}{r}\\right)^6\\right]\n",
    "$$\n",
    "\n",
    "where\n",
    "\n",
    "* $\\epsilon$ is the interaction strength of the potential\n",
    "* $\\sigma$ is the interaction length scale (distance at which the $U(r) = 0$)\n",
    "* $r$ is the radial distance between two interacting particles\n",
    "\n",
    "This potential is quite frequently used in MD simulations when one wishes to implement simple pair wise, non-bonded interactions between particles. LJ potentials are widely used when studying coarse-grained polymer melts and nano-composites and are known to generate realisitc intermolecular interactions in MD systems.\n",
    "\n",
    "\n",
    "Let's see the shape of the potential by simply plotting it for $\\epsilon=1$ and $\\sigma=1$. To do this we begin by defining an aribtrary potential class that is a `callable`\n",
    "\n",
    "### Potentials"
   ]
  },
  {
   "cell_type": "code",
   "execution_count": 1,
   "id": "d599877f",
   "metadata": {},
   "outputs": [],
   "source": [
    "class Potential(object):\n",
    "    \"\"\"\n",
    "    Base class for all MD potentials\n",
    "    \"\"\"\n",
    "    def __init__(self, name: str):\n",
    "        self.name = name\n",
    "\n",
    "    def __call__(self, r: float):\n",
    "        raise NotImplementedError"
   ]
  },
  {
   "cell_type": "code",
   "execution_count": 2,
   "id": "3b993deb",
   "metadata": {},
   "outputs": [],
   "source": [
    "import covamd"
   ]
  },
  {
   "cell_type": "markdown",
   "id": "9e48d7d8",
   "metadata": {},
   "source": [
    "Now that we have created a `base` potential class, we now create the `LennardJones` potential class by subclassing it and providing an implementation for the `def __call__` method"
   ]
  },
  {
   "cell_type": "code",
   "execution_count": 3,
   "id": "148d1c0a",
   "metadata": {},
   "outputs": [],
   "source": [
    "class LennardJones(Potential):\n",
    "    \"\"\"\n",
    "    Lennard Jones 12-6 potential class\n",
    "    Input(s)\n",
    "    epsilon = interaction strength\n",
    "    sigma = potential interaction length scale\n",
    "    cutoff = distance beyond which the potential is zero\n",
    "    \"\"\"\n",
    "    def __init__(self, epsilon: float, sigma: float, cutoff: float = 2.5, name = \"lj12/6\"):\n",
    "        self.epsilon = epsilon\n",
    "        self.sigma = sigma\n",
    "        self.cutoff = cutoff\n",
    "        super().__init__(name=name)\n",
    "\n",
    "    def __call__(self, r: float):\n",
    "        \"\"\"\n",
    "        Compute the potential value given the distance `r`.\n",
    "        The potential is set to 0 if r > cutoff\n",
    "        \"\"\"\n",
    "        if r <= self.cutoff:\n",
    "            return 4*self.epsilon*((self.sigma/r)**12 - (self.sigma/r)**6)\n",
    "        return 0.0\n",
    "        "
   ]
  },
  {
   "cell_type": "code",
   "execution_count": 4,
   "id": "bb9a086c",
   "metadata": {},
   "outputs": [],
   "source": [
    "import numpy as np\n",
    "import matplotlib.pyplot as plt\n",
    "\n",
    "# %matplotlib notebook"
   ]
  },
  {
   "cell_type": "code",
   "execution_count": 5,
   "id": "b883aeb8",
   "metadata": {},
   "outputs": [],
   "source": [
    "r = np.linspace(0.95, 3, 1000)\n",
    "lj_potential = LennardJones(epsilon=1.0, sigma=1.0)\n",
    "\n",
    "Ur = [lj_potential(value) for value in r]"
   ]
  },
  {
   "cell_type": "code",
   "execution_count": 6,
   "id": "9269b530",
   "metadata": {},
   "outputs": [
    {
     "data": {
      "image/png": "[encoded data removed]",
      "text/plain": [
       "<Figure size 432x288 with 1 Axes>"
      ]
     },
     "metadata": {
      "needs_background": "light"
     },
     "output_type": "display_data"
    }
   ],
   "source": [
    "plt.plot(r, Ur, '-', lw=3)\n",
    "plt.axhline(y = 0.0, linestyle='--', lw=1, color='k')\n",
    "plt.axhline(y = -1.0, linestyle='--', lw=1, color='r')\n",
    "plt.axvline(x=1.0, linestyle='--', lw=1, color='k')\n",
    "plt.xlabel(r'$x$', fontsize=14)\n",
    "plt.ylabel(r'U(r)', fontsize=14)\n",
    "plt.show()"
   ]
  },
  {
   "cell_type": "markdown",
   "id": "ffacaa71",
   "metadata": {},
   "source": [
    "### Forces\n",
    "\n",
    "Once the interation potentials have been defined, the forces acting on the particles can be derived by taking its gradient\n",
    "\n",
    "$$\n",
    "\\mathbf{F}(\\mathbf{r}) = - \\nabla U\\left(\\mathbf{r}\\right)\n",
    "$$\n",
    "\n",
    "In a system of N particles, the force acting on the $i^{th}$ particle due to its interactions with every other particle in the system can be represented as\n",
    "\n",
    "$$\n",
    "\\mathbf{F}_{i} = - \\nabla_{\\mathbf{r}_{i}} U\\left(\\mathbf{r}_1, \\mathbf{r}_2, \\ldots, \\mathbf{r}_N\\right)\n",
    "$$\n",
    "\n",
    "In our case, since we know the functional, closed form of the Lennard Jones potential, we can simply differentiate it w.r.t to $r$ and derive a close for expression for the Lennard-Jones force. This can be expressed as\n",
    "\n",
    "$$\n",
    "\\mathbf{F}(r) = - \\frac{\\partial U}{\\partial r} = 48 \\epsilon \\left(\\frac{\\sigma^{12}}{r^{13}} - \\frac{\\sigma^6}{2 r^7}\\right)\n",
    "$$\n",
    "\n",
    "and looks as follows for LJ, $\\epsilon, \\sigma = 1.0$"
   ]
  },
  {
   "cell_type": "code",
   "execution_count": 7,
   "id": "9d787529",
   "metadata": {},
   "outputs": [
    {
     "data": {
      "image/png": "[encoded data removed]",
      "text/plain": [
       "<Figure size 432x288 with 1 Axes>"
      ]
     },
     "metadata": {
      "needs_background": "light"
     },
     "output_type": "display_data"
    }
   ],
   "source": [
    "ljforce = lambda r: 48*(1.0/r**13 - 1.0/(2.0*r**7))\n",
    "\n",
    "\n",
    "plt.plot(r, Ur, '--', color='r', label=r'$U(r)$')\n",
    "plt.plot(r, ljforce(r), '-', color='b', label=r'$F(r)$')\n",
    "plt.axhline(y=0.0, linestyle='--', color='k', lw=1)\n",
    "plt.axvline(x=2**(1.0/6.0), linestyle='--', color='k')\n",
    "plt.xlim([0.8, 2.5])\n",
    "plt.ylim([-3.0, 3])\n",
    "plt.xlabel(r'$r$', fontsize=14)\n",
    "plt.ylabel(r'$F(r)$', fontsize=14)\n",
    "plt.legend()\n",
    "plt.tight_layout()"
   ]
  },
  {
   "cell_type": "markdown",
   "id": "6ff20873",
   "metadata": {},
   "source": [
    "The minimum of the potential can be shown to be equal to $r_{0} = 2^{1/6} \\sigma$ and we can see from the above figure that the force is negative i.e attractive. With this simple derivation we can see how the Lennard Jones potential can be used to represent interactions between particles in a MD simulation.\n",
    "\n",
    "Generally speaking, computing the forces acting on particles becomes a trivial exercise when the closed form solution of the potential is known apriori. Generally speaking the potentials involved in large scale simulations are rather complicated and non-trivial to be expressed as closed form expressions. To simplify the situation in our case, we can simply numerically differentiate a given `Potential` object by using finite differences. There are several finite difference schemes available in practice, in this work we however use the `central difference` scheme to implement a generic MD force class that takes a potential as its input\n",
    "\n",
    "Central differnce scheme\n",
    "$$\n",
    "\\frac{d f}{dx} \\approx \\frac{f(x + \\Delta) - f(x - \\Delta)}{2\\Delta}\n",
    "$$\n",
    "where $\\Delta << 1 $ and is a small perturbation around $x$.\n",
    "\n",
    "Using this, we can easily write down an expression that can yield the force acting on a particle given any object of type `Potential` as follows\n",
    "\n",
    "\n",
    "```\n",
    "force = -(Potential(r + Delta) - Potential(r - Delta))/(2*Delta)\n",
    "```\n",
    "\n",
    "Using such an expression will allow us to easily experiment with different potential types while not having to bother about writing the closed for expression of the force for each case. We create a `lambda` to convienietly compute the force at a given value of $r$ for any given object of type `Potential`"
   ]
  },
  {
   "cell_type": "code",
   "execution_count": 8,
   "id": "a223c7a2",
   "metadata": {},
   "outputs": [],
   "source": [
    "md_force = lambda r, potential: -(potential(r + 1e-8) - potential(r - 1e-8))/(2*(1e-8))"
   ]
  },
  {
   "cell_type": "markdown",
   "id": "0f359bb8",
   "metadata": {},
   "source": [
    "Deriving the force this way from the potential is of course an approximation and its accuracy can be compared against the true value in the Lennard Jones case."
   ]
  },
  {
   "cell_type": "code",
   "execution_count": 9,
   "id": "2c8073a5",
   "metadata": {},
   "outputs": [
    {
     "data": {
      "image/png": "[encoded data removed]",
      "text/plain": [
       "<Figure size 432x288 with 1 Axes>"
      ]
     },
     "metadata": {
      "needs_background": "light"
     },
     "output_type": "display_data"
    }
   ],
   "source": [
    "plt.plot(r, ljforce(r), 'o', ms=5, alpha=0.4, color='b', label=r'$Exact$')\n",
    "approx = [md_force(value, LennardJones(epsilon=1.0, sigma=1.0)) for value in r]\n",
    "plt.plot(r, approx, '-', color='g', label=r'Finite difference approximation')\n",
    "plt.axhline(y=0.0, linestyle='--', color='k', lw=1)\n",
    "plt.axvline(x=2**(1.0/6.0), linestyle='--', color='k')\n",
    "plt.xlim([0.9, 2.5])\n",
    "plt.ylim([-3.0, 3])\n",
    "plt.xlabel(r'$r$', fontsize=14)\n",
    "plt.ylabel(r'$F(r)$', fontsize=14)\n",
    "plt.legend()\n",
    "plt.tight_layout()"
   ]
  },
  {
   "cell_type": "code",
   "execution_count": 10,
   "id": "0f0b977c",
   "metadata": {},
   "outputs": [
    {
     "data": {
      "image/png": "[encoded data removed]",
      "text/plain": [
       "<Figure size 432x288 with 1 Axes>"
      ]
     },
     "metadata": {
      "needs_background": "light"
     },
     "output_type": "display_data"
    }
   ],
   "source": [
    "approx = np.asarray([md_force(value, LennardJones(epsilon=1.0, sigma=1.0)) for value in r])\n",
    "plt.plot(r, np.abs(ljforce(r) - approx), '-')\n",
    "plt.yscale('log')\n",
    "plt.xlim([0.9, 2.3])\n",
    "plt.ylim([10e-12, 10e-5])\n",
    "plt.xlabel(r'$r$', fontsize=14)\n",
    "plt.ylabel(r'$F(r)$', fontsize=14)\n",
    "plt.tight_layout()"
   ]
  },
  {
   "cell_type": "markdown",
   "id": "8197c31e",
   "metadata": {},
   "source": [
    "### Simulation domain"
   ]
  },
  {
   "cell_type": "code",
   "execution_count": 11,
   "id": "2d57495a-219c-4605-a88e-994012076ffc",
   "metadata": {},
   "outputs": [],
   "source": [
    "from __future__ import annotations\n",
    "from typing import List, Callable\n",
    "from functools import partial\n",
    "import covalent as ct\n",
    "import numpy as np\n",
    "import os\n",
    "from shutil import rmtree\n",
    "import re\n",
    "import copy\n",
    "from covalent import electron\n",
    "from matplotlib.animation import FuncAnimation"
   ]
  },
  {
   "cell_type": "markdown",
   "id": "3edd5880",
   "metadata": {},
   "source": [
    "#### Simulation domain"
   ]
  },
  {
   "cell_type": "code",
   "execution_count": 12,
   "id": "34c8dd4e",
   "metadata": {},
   "outputs": [],
   "source": [
    "class Domain(object):\n",
    "    def __init__(self, xlo: float, xhi: float, ylo: float, yhi: float):\n",
    "        self.xlo = xlo\n",
    "        self.xhi = xhi\n",
    "        self.ylo = ylo\n",
    "        self.yhi = yhi\n",
    "\n",
    "\n",
    "    @property\n",
    "    def lx(self):\n",
    "        return self.xhi - self.xlo\n",
    "\n",
    "    @property\n",
    "    def ly(self):\n",
    "        return self.yhi - self.ylo"
   ]
  },
  {
   "cell_type": "markdown",
   "id": "c323c470",
   "metadata": {},
   "source": [
    "### MD particle"
   ]
  },
  {
   "cell_type": "code",
   "execution_count": 13,
   "id": "1647922e",
   "metadata": {},
   "outputs": [],
   "source": [
    "class Particle(object):\n",
    "    def __init__(self, id: int, mass: float, x: float, y: float,\n",
    "                 vx: float = 0.0, vy: float = 0.0, fx: float = 0.0,\n",
    "                 fy: float = 0.0):\n",
    "        \"\"\"\n",
    "        Basic particle\n",
    "        \"\"\"\n",
    "        self.id = id\n",
    "        self.mass = mass\n",
    "        self.x = x\n",
    "        self.y = y\n",
    "        self.vx = vx\n",
    "        self.vy = vy\n",
    "        self.fx = fx\n",
    "        self.fy = fy\n",
    "\n",
    "    def __eq__(self, other):\n",
    "        return all([other.__dict__[key] == value for key, value in\n",
    "                   self.__dict__.items()])\n",
    "\n",
    "    def __sub__(self, other):\n",
    "        return self.x - other.x, self.y - other.y\n",
    "\n",
    "    def __repr__(self):\n",
    "        return f\"Particle(id={self.id}, mass={self.mass},x={self.x},\\\n",
    "                y={self.y},vx={self.vx},vy={self.vy},\\\n",
    "                fx={self.fx},fy={self.fy})\".replace('\\n', '')\n",
    "\n",
    "    def __str__(self):\n",
    "        return f\"\"\"{self.id},{self.mass},{self.x},{self.y},{self.vx},{self.vy},{self.fx},{self.fy}\\n\"\"\"\n",
    "\n",
    "def create_particle(id: int, mass: float, domain: Domain):\n",
    "    \"\"\"\n",
    "    Create a particle with id=`id` and mass=`mass' randomly\n",
    "    located in the domain\n",
    "    \"\"\"\n",
    "    return Particle(id=id, mass=mass,\n",
    "                    x=np.random.uniform(domain.xlo, domain.xhi),\n",
    "                    y=np.random.uniform(domain.ylo, domain.yhi))"
   ]
  },
  {
   "cell_type": "code",
   "execution_count": 14,
   "id": "471b98d8",
   "metadata": {},
   "outputs": [],
   "source": [
    "@ct.electron\n",
    "def check_pbc(x: float, L: float):\n",
    "    if x > L*0.5:\n",
    "        return x - L\n",
    "    if x <= -L*0.5:\n",
    "        return x + L\n",
    "    return x"
   ]
  },
  {
   "cell_type": "code",
   "execution_count": 15,
   "id": "7f3fe0c2-b6f6-4cc0-9183-09df02c70e50",
   "metadata": {},
   "outputs": [],
   "source": [
    "@ct.electron\n",
    "def total_pe(particles: List[Particle], potential, domain: Domain):\n",
    "    total = 0.0\n",
    "    for i in particles:\n",
    "        for j in particles:\n",
    "            if i == j:\n",
    "                continue\n",
    "            else:\n",
    "                dx, dy = i - j\n",
    "                dx = check_pbc(dx, domain.lx)\n",
    "                dy = check_pbc(dy, domain.ly)\n",
    "                \n",
    "                dr = np.sqrt(dx**2 + dy**2)\n",
    "                total += potential(dr)\n",
    "    return total/2.0"
   ]
  },
  {
   "cell_type": "code",
   "execution_count": 16,
   "id": "9b22af6c-e162-4aa7-a3bb-7d1c4af46261",
   "metadata": {},
   "outputs": [],
   "source": [
    "@ct.electron\n",
    "def grad_pe(particles: List[Particle], potential, domain: Domain, epsilon: float = 1e-8):\n",
    "    grad = []\n",
    "    for p in particles:\n",
    "        pe = total_pe(particles=particles, potential=potential, domain=domain)\n",
    "        p.x += epsilon\n",
    "        pe_delta = total_pe(particles=particles, potential=potential, domain=domain)\n",
    "        dudpx = (pe_delta - pe)/epsilon\n",
    "        p.x -= epsilon\n",
    "        \n",
    "        p.y += epsilon\n",
    "        pe_delta = total_pe(particles=particles, potential=potential, domain=domain)\n",
    "        dudpy = (pe_delta - pe)/epsilon\n",
    "        p.y -= epsilon\n",
    "        \n",
    "        grad.append(dudpx)\n",
    "        grad.append(dudpy)\n",
    "        \n",
    "    return grad"
   ]
  },
  {
   "cell_type": "markdown",
   "id": "6fc5aedf-a085-4113-8186-43a397f48c50",
   "metadata": {},
   "source": [
    "### Save particles to file"
   ]
  },
  {
   "cell_type": "code",
   "execution_count": 17,
   "id": "7b7ae9d5-442a-4b60-898d-27c267396f70",
   "metadata": {},
   "outputs": [],
   "source": [
    "@ct.electron\n",
    "def save_snapshot(particles: List[Particle], step: int):\n",
    "    if not os.path.isdir(\"/home/venkat/agnostiq-rpi-tutorials/snapshots\"):\n",
    "        os.mkdir(\"/home/venkat/agnostiq-rpi-tutorials/snapshots\")\n",
    "    dump_file=f\"/home/venkat/agnostiq-rpi-tutorials/snapshots/system_{step}.txt\"\n",
    "    \n",
    "    with open(dump_file, \"w\") as f:\n",
    "        for particle in particles:\n",
    "            f.write(str(particle))\n",
    "        f.close()"
   ]
  },
  {
   "cell_type": "code",
   "execution_count": 18,
   "id": "4bf4a3da",
   "metadata": {},
   "outputs": [],
   "source": [
    "@ct.electron\n",
    "def minimize_system_energy(objective, particles, grad, domain, options = {}, *args, **kwargs):\n",
    "    \"\"\"\n",
    "    Given a system, minimize its potential energy using gradient descent\n",
    "    \"\"\"\n",
    "    try:\n",
    "        learning_rate = options[\"learning_rate\"]\n",
    "    except KeyError:\n",
    "        learning_rate = 1e-3\n",
    "        \n",
    "    try:\n",
    "        tol = options[\"tol\"]\n",
    "    except KeyError:\n",
    "        tol = 1e-5\n",
    "        \n",
    "    try:\n",
    "        maxiter = options[\"maxiter\"]\n",
    "    except KeyError:\n",
    "        maxiter = 500\n",
    "        \n",
    "    try:\n",
    "        verbose = options[\"verbose\"]\n",
    "    except KeyError:\n",
    "        verbose = False\n",
    "        \n",
    "    \n",
    "    x = copy.deepcopy(particles)\n",
    "    fold = objective(x)\n",
    "    i = 0\n",
    "    diff = 1e10\n",
    "    diff_history = [diff]\n",
    "    f_history = [fold]\n",
    "    dx = np.zeros(2*len(x))\n",
    "        \n",
    "    while i < maxiter and diff > tol:\n",
    "        dx = -learning_rate*np.asarray(grad(x))\n",
    "            \n",
    "        for index, particle in enumerate(x):\n",
    "            particle.x += dx[index]\n",
    "            particle.y += dx[index+1]\n",
    "                \n",
    "            particle.x = particle.x%domain.lx\n",
    "            particle.y = particle.y%domain.ly\n",
    "            \n",
    "        #save_snapshot(x, i)\n",
    "                \n",
    "        fnew = objective(x)\n",
    "        diff = np.abs(fnew - fold)\n",
    "        fold = fnew\n",
    "        diff_history.append(diff)\n",
    "        f_history.append(fnew)\n",
    "        \n",
    "        if verbose:\n",
    "            print(i, fnew)\n",
    "            \n",
    "        #if fnew < 0.0:\n",
    "        #   learning_rate /= 4\n",
    "                \n",
    "        if i % 10 == 0:\n",
    "            learning_rate /= 2\n",
    "            \n",
    "        i += 1\n",
    "        \n",
    "    return x, fnew, i"
   ]
  },
  {
   "cell_type": "code",
   "execution_count": 19,
   "id": "c248e6d5",
   "metadata": {},
   "outputs": [],
   "source": [
    "@ct.electron\n",
    "def gradient_descent_particle_update(particles: List[Particle], dx: List[float], domain: Domain):\n",
    "    for index, particle in enumerate(particles):\n",
    "        particle.x += dx[index]\n",
    "        particle.y += dx[index+1]\n",
    "        \n",
    "        particle.x = particle.x%domain.lx\n",
    "        particle.y = particle.y%domain.ly\n",
    "        \n",
    "    return particles\n",
    "\n",
    "@ct.electron\n",
    "def check_loss(f_old: float, f_new: float):\n",
    "    return abs(f_new - f_old)"
   ]
  },
  {
   "cell_type": "code",
   "execution_count": 20,
   "id": "d91776af",
   "metadata": {},
   "outputs": [],
   "source": [
    "@ct.electron\n",
    "def init_velocities(particles: List[Particle]):\n",
    "    for particle in particles:\n",
    "        particle.vx = np.random.randn()\n",
    "        particle.vy = np.random.randn()\n",
    "    return particles\n",
    "\n",
    "\n",
    "@ct.electron\n",
    "def scale_gradients(gradients: List[float], lr: float):\n",
    "    res = []\n",
    "    for value in gradients:\n",
    "        res.append(-1.0*lr*value)\n",
    "    return res\n",
    "\n",
    "@ct.electron\n",
    "def update_learning_rate(lr: float, f: float, step: int):\n",
    "    if f < 0.0:\n",
    "        return lr / 4.0\n",
    "    \n",
    "    if step % 10 == 0:\n",
    "        return lr / 2.0\n",
    "    return lr"
   ]
  },
  {
   "cell_type": "code",
   "execution_count": 21,
   "id": "3532768f",
   "metadata": {},
   "outputs": [],
   "source": [
    "@ct.electron\n",
    "def euler_step(particles, dt: float):\n",
    "    for particle in particles:\n",
    "        particle.x += particle.vx*dt\n",
    "        particle.y += particle.vy*dt\n",
    "        \n",
    "    return particles\n",
    "\n",
    "@ct.electron\n",
    "def lj_force(r, epsilon, sigma):\n",
    "    \"\"\"\n",
    "    Implementation of the Lennard-Jones potential \n",
    "    to calculate the force of the interaction.\n",
    "    \n",
    "    Parameters\n",
    "    ----------\n",
    "    r: float\n",
    "        Distance between two particles (Å)\n",
    "    epsilon: float \n",
    "        Potential energy at the equilibrium bond \n",
    "        length (eV)\n",
    "    sigma: float \n",
    "        Distance at which the potential energy is \n",
    "        zero (Å)\n",
    "    \n",
    "    Returns\n",
    "    -------\n",
    "    float\n",
    "        Force of the van der Waals interaction (eV/Å)\n",
    "    \"\"\"\n",
    "    return 48 * epsilon * np.power(\n",
    "        sigma / r, 13) - 24 * epsilon * np.power(\n",
    "        sigma / r, 7)\n",
    "\n",
    "@ct.electron\n",
    "def update_forces(particles: List[Particle], potential: Potential, domain: Domain):\n",
    "    #particles_copy = copy.deepcopy(particles)\n",
    "    for i in particles:\n",
    "        i.fx = 0.0\n",
    "        i.fy = 0.0\n",
    "        for j in particles:\n",
    "            if i == j:\n",
    "                continue\n",
    "            else:\n",
    "                dx, dy = i - j\n",
    "                #dx = dx%domain.lx\n",
    "                #dy = dy%domain.ly\n",
    "                \n",
    "                dx = check_pbc(dx, domain.lx)\n",
    "                dy = check_pbc(dy, domain.ly)\n",
    "                \n",
    "                dr = np.sqrt(dx**2 + dy**2)\n",
    "                \n",
    "                f = lj_force(dr, 1.0, 1.0)\n",
    "                \n",
    "                #f = -(potential(dr+1e-8) - potential(dr-1e-8))/(2*1e-8)\n",
    "                \n",
    "                fx = (dx/dr)*f\n",
    "                fy = (dy/dr)*f\n",
    "                \n",
    "                i.fx += fx/2.0\n",
    "                i.fy += fy/2.0\n",
    "    return particles\n",
    "\n",
    "\n",
    "@ct.electron\n",
    "def verlet_integration(step: int, particles: List[Particles], particles_prev: List[Particles],\n",
    "                       potential: Potential, domain: Domain,dt: float):\n",
    "    p_copy = copy.deepcopy(particles)\n",
    "\n",
    "    if step == 0:\n",
    "        for particle in particles:\n",
    "            particle.x += particle.vx*dt\n",
    "            particle.y += particle.vy*dt\n",
    "            \n",
    "            particle.x = particle.x%domain.lx\n",
    "            particle.y = particle.y%domain.ly\n",
    "    else:\n",
    "        particles = update_forces(particles, potential, domain)\n",
    "    \n",
    "        #particles_copy = copy.deepcopy(particles)\n",
    "        for index, particle in enumerate(particles):\n",
    "            particle.x = 2*particle.x - particles_prev[index].x + particle.fx*dt**2\n",
    "            particle.y = 2*particle.y - particles_prev[index].y + particle.fy*dt**2\n",
    "            particle.x = particle.x%domain.lx\n",
    "            particle.y = particle.y%domain.ly\n",
    "            #print(index, particle.x, particle.y, particle.vx, particle.vy, particle.fx, particle.fy)\n",
    "        \n",
    "    return particles, p_copy"
   ]
  },
  {
   "cell_type": "code",
   "execution_count": 22,
   "id": "e9d864f1",
   "metadata": {},
   "outputs": [],
   "source": [
    "@ct.electron\n",
    "def velocity_verlet_integration(particles: List[Particle], potential, domain, dt):\n",
    "    particles = update_forces(particles, potential, domain)\n",
    "\n",
    "    # Update positions\n",
    "    for particle in particles:\n",
    "        particle.x = particle.x + particle.vx*dt + (particle.fx/(2*particle.mass))*dt**2\n",
    "        particle.y = particle.y + particle.vy*dt + (particle.fy/(2*particle.mass))*dt**2\n",
    "        particle.x = particle.x%domain.lx\n",
    "        particle.y = particle.y%domain.ly\n",
    "        \n",
    "    # Update forces\n",
    "    particles_copy = update_forces(particles, potential, domain)\n",
    "    \n",
    "    # Update velocities\n",
    "    for index, particle in enumerate(particles):\n",
    "        particle.vx = particle.vx + dt*(particles_copy[index].fx+particle.fx)/(2*particle.mass)\n",
    "        particle.vy = particle.vy + dt*(particles_copy[index].fy+particle.fy)/(2*particle.mass)\n",
    "        \n",
    "    return particles"
   ]
  },
  {
   "cell_type": "code",
   "execution_count": 23,
   "id": "28f7d886",
   "metadata": {},
   "outputs": [],
   "source": [
    "@ct.electron\n",
    "def run(nsteps, particles: List[Particles], potential: Potential, domain: Domain, dt: float):\n",
    "    #p0 = copy.deepcopy(particles)\n",
    "    for i in range(nsteps):\n",
    "        particles = velocity_verlet_integration(particles=particles, potential=potential, domain=domain, dt=dt)\n",
    "        \n",
    "        #total_energy = total_energy(particles=particles, potential=potential, domain=domain)\n",
    "        # p2\n",
    "        #particles_next, p1 = verlet_integration(step=i, particles=particles,\n",
    "                                                            #particles_prev=p0,\n",
    "                                                            #potential=potential,\n",
    "                                                            #domain=domain, dt=1e-4)\n",
    "        #particles_prev=particles\n",
    "        #particles = copy.deepcopy(particles_next)\n",
    "        #p0 = copy.deepcopy(p1)\n",
    "        \n",
    "        save_snapshot(particles, i)\n",
    "    return particles"
   ]
  },
  {
   "cell_type": "code",
   "execution_count": 24,
   "id": "d9680863",
   "metadata": {},
   "outputs": [],
   "source": [
    "@ct.lattice\n",
    "def simulation(particles: List[Particle], domain: Domain, potential: Potential, nsteps):\n",
    "    \"\"\"\n",
    "    run a basic MD particle simulation\n",
    "    \"\"\"\n",
    "    i = 0\n",
    "    # Compute the system initial potential energy\n",
    "    f_old = total_pe(particles, potential, domain=domain)\n",
    "    \n",
    "    # Minimize system energy\n",
    "    objective = partial(total_pe, potential=potential, domain=domain)\n",
    "    gradient = partial(grad_pe, potential=potential, domain=domain)\n",
    "    \n",
    "    #loss_value = 1e10\n",
    "    \n",
    "    #for i in range(maxiter):\n",
    "    #    gradients = gradient(particles)\n",
    "    #    dx = scale_gradients(gradients=gradients, lr=lr)\n",
    "        \n",
    "        # Update particle positions\n",
    "    #    particles = gradient_descent_particle_update(particles=particles, dx=dx, domain=domain)\n",
    "        \n",
    "        # Save system\n",
    "    #    save_snapshot(particles, i)\n",
    "        \n",
    "        # Compute potential energy\n",
    "    #    f_new = objective(particles)\n",
    "        \n",
    "        # Check loss\n",
    "    #    loss = check_loss(f_old=f_old, f_new=f_new, tol=tol)\n",
    "        \n",
    "    #    f_old = f_new\n",
    "        \n",
    "        # update learning rate based on f_new and step\n",
    "    #    lr = update_learning_rate(lr, f_new, i)\n",
    "        \n",
    "    #    i += 1\n",
    "        \n",
    "    particles, final_energy, num_iterations = minimize_system_energy(objective, particles, gradient, domain,\n",
    "                                                                     options={\"maxiter\": 200, \"tol\": 1e-5,\n",
    "                                                                              \"learning_rate\": 1e-2,\n",
    "                                                                              \"verbose\": True})\n",
    "    \n",
    "    \n",
    "    # Initialize velocities\n",
    "    particles = init_velocities(particles)\n",
    "    \n",
    "    \n",
    "    # Compute total energy\n",
    "    #pe = total_pe(particles=particles, potential=potential, domain=domain)\n",
    "    \n",
    "    #ke = total_ke(particles=particles)\n",
    "    \n",
    "    #total_energy = pe + ke\n",
    "    \n",
    "    # Integrate\n",
    "    particles = run(nsteps=nsteps,\n",
    "                    particles=particles,\n",
    "                    potential=potential,\n",
    "                    domain = domain,\n",
    "                    dt=1e-2)\n",
    "        \n",
    "    \n",
    "    # Start integrating\n",
    "    #p0 = particles # copy\n",
    "\n",
    "    #for i in range(nsteps):\n",
    "        # p2\n",
    "    #    particles, p1 = verlet_integration(step=i, particles=particles, particles_prev=p0,\n",
    "    #                                       potential=potential, domain=domain, dt=1e-4)\n",
    "    #    p0 = p1\n",
    "        \n",
    "    #    save_snapshot(particles, i)\n",
    "        \n",
    "\n",
    "    return {\"particles\": particles, \"iters\": nsteps}"
   ]
  },
  {
   "cell_type": "code",
   "execution_count": 25,
   "id": "e8105d0f",
   "metadata": {},
   "outputs": [],
   "source": [
    "domain = Domain(xlo = 0, xhi = 20, ylo = 0, yhi = 20)\n",
    "num_particles = 30\n",
    "nsteps = 1000\n",
    "particles = [create_particle(id=index, mass=1.0, domain = domain) for index in range(num_particles)]\n",
    "\n",
    "if os.path.isdir(\"/home/venkat/agnostiq-rpi-tutorials/snapshots\"):\n",
    "    rmtree(\"/home/venkat/agnostiq-rpi-tutorials/snapshots\")\n",
    "    \n",
    "#res = simulation(particles, domain, LennardJones(epsilon=1.0, sigma=1.0), nsteps)"
   ]
  },
  {
   "cell_type": "code",
   "execution_count": 26,
   "id": "5dd577fa",
   "metadata": {},
   "outputs": [],
   "source": [
    "import covamd"
   ]
  },
  {
   "cell_type": "code",
   "execution_count": 27,
   "id": "5fe5e637",
   "metadata": {},
   "outputs": [
    {
     "name": "stdout",
     "output_type": "stream",
     "text": [
      "hereParticles is at a1439d00\n",
      "size of particles 30\n",
      "Coordinate of particle 0 0.000000\n"
     ]
    },
    {
     "ename": "SystemError",
     "evalue": "<built-in function total_pe> returned a result with an error set",
     "output_type": "error",
     "traceback": [
      "\u001b[0;31m---------------------------------------------------------------------------\u001b[0m",
      "\u001b[0;31mSystemError\u001b[0m                               Traceback (most recent call last)",
      "\u001b[0;31mSystemError\u001b[0m: new style getargs format but argument is not a tuple",
      "\nThe above exception was the direct cause of the following exception:\n",
      "\u001b[0;31mSystemError\u001b[0m                               Traceback (most recent call last)",
      "\u001b[1;32m/home/venkat/tutorials_covalent_rpi_2022/notebooks/Lennard Jones Melt.ipynb Cell 36'\u001b[0m in \u001b[0;36m<cell line: 1>\u001b[0;34m()\u001b[0m\n\u001b[0;32m----> <a href='vscode-notebook-cell://ssh-remote%2Bcentos8/home/venkat/tutorials_covalent_rpi_2022/notebooks/Lennard%20Jones%20Melt.ipynb#ch0000040vscode-remote?line=0'>1</a>\u001b[0m covamd\u001b[39m.\u001b[39;49mtotal_pe(particles, LennardJones(epsilon\u001b[39m=\u001b[39;49m\u001b[39m1.0\u001b[39;49m, sigma\u001b[39m=\u001b[39;49m\u001b[39m1.0\u001b[39;49m), domain)\n",
      "\u001b[0;31mSystemError\u001b[0m: <built-in function total_pe> returned a result with an error set"
     ]
    }
   ],
   "source": [
    "covamd.total_pe(particles, LennardJones(epsilon=1.0, sigma=1.0), domain)"
   ]
  },
  {
   "cell_type": "code",
   "execution_count": null,
   "id": "25c10718",
   "metadata": {},
   "outputs": [],
   "source": [
    "particles[0].x"
   ]
  },
  {
   "cell_type": "code",
   "execution_count": null,
   "id": "45db1aab",
   "metadata": {},
   "outputs": [],
   "source": [
    "#res = ct.dispatch_sync(simulation)(particles, domain, LennardJones(epsilon=1.0, sigma=1.0), nsteps)"
   ]
  },
  {
   "cell_type": "code",
   "execution_count": null,
   "id": "e8e835f1",
   "metadata": {},
   "outputs": [],
   "source": [
    "#res.result"
   ]
  },
  {
   "cell_type": "code",
   "execution_count": null,
   "id": "fed06fbf",
   "metadata": {},
   "outputs": [],
   "source": [
    "def animate(frame_number):\n",
    "    data = np.loadtxt(f\"/home/venkat/agnostiq-rpi-tutorials/snapshots/system_{frame_number}.txt\", delimiter=\",\")\n",
    "    x = data[:, 2]\n",
    "    y = data[:, 3]\n",
    "    line.set_data((x, y))\n",
    "    return line"
   ]
  },
  {
   "cell_type": "code",
   "execution_count": null,
   "id": "b8a27322-4a16-49c7-8515-57164f5f0800",
   "metadata": {},
   "outputs": [],
   "source": [
    "fig, ax = plt.subplots()\n",
    "\n",
    "line, = ax.plot([], 'o', ms=10)     # A tuple unpacking to unpack the only plot\n",
    "ax.set_xlim(domain.xlo, domain.xhi)\n",
    "ax.set_ylim(domain.ylo, domain.yhi)\n",
    "\n",
    "anim = FuncAnimation(fig, animate, frames=nsteps, interval=10)\n",
    "anim.save(\"test.mp4\")\n",
    "plt.show()"
   ]
  },
  {
   "cell_type": "code",
   "execution_count": null,
   "id": "478544a8-8961-4f51-8937-848f1fa5df0d",
   "metadata": {},
   "outputs": [],
   "source": []
  }
 ],
 "metadata": {
  "kernelspec": {
   "display_name": "Python 3.8.13 ('rpi')",
   "language": "python",
   "name": "python3"
  },
  "language_info": {
   "codemirror_mode": {
    "name": "ipython",
    "version": 3
   },
   "file_extension": ".py",
   "mimetype": "text/x-python",
   "name": "python",
   "nbconvert_exporter": "python",
   "pygments_lexer": "ipython3",
   "version": "3.8.13"
  },
  "vscode": {
   "interpreter": {
    "hash": "77e4c86526ca8a4ddc0a9384367b3c6fc68964a2df01fd90b3f3907e1b978260"
   }
  }
 },
 "nbformat": 4,
 "nbformat_minor": 5
}

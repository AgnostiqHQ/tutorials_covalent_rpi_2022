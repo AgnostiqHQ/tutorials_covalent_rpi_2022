{
 "cells": [
  {
   "cell_type": "markdown",
   "id": "85201bda-02ff-4c21-96fb-481b27dcdf09",
   "metadata": {},
   "source": [
    "### Lennard-Jones melt\n",
    "\n",
    "The `Lennard-Jones` melt, or commonly referred to as the `LJ` melt is hello world analog in Molecular Dynamics (MD). the simulation system consists of `N` particles interacting with each other via the `12-6` Lennard Jones potential given by\n",
    "\n",
    "$$\n",
    "U(r) = 4 \\epsilon \\left[\\left(\\frac{\\sigma}{r}\\right)^{12}  - \\left(\\frac{\\sigma}{r}\\right)^6\\right]\n",
    "$$\n",
    "\n",
    "where\n",
    "\n",
    "* $\\epsilon$ is the interaction strength of the potential\n",
    "* $\\sigma$ is the interaction length scale (distance at which the $U(r) = 0$)\n",
    "* $r$ is the radial distance between two interacting particles\n",
    "\n",
    "This potential is quite frequently used in MD simulations when one wishes to implement simple pair wise, non-bonded interactions between particles. LJ potentials are widely used when studying coarse-grained polymer melts and nano-composites and are known to generate realisitc intermolecular interactions in MD systems.\n",
    "\n",
    "\n",
    "Let's see the shape of the potential by simply plotting it for $\\epsilon=1$ and $\\sigma=1$. To do this we begin by defining an aribtrary potential class that is a `callable`\n",
    "\n",
    "### Potentials"
   ]
  },
  {
   "cell_type": "code",
   "execution_count": null,
   "id": "d599877f",
   "metadata": {},
   "outputs": [],
   "source": [
    "class Potential(object):\n",
    "    \"\"\"\n",
    "    Base class for all MD potentials\n",
    "    \"\"\"\n",
    "    def __init__(self, name: str):\n",
    "        self.name = name\n",
    "\n",
    "    def __call__(self, r: float):\n",
    "        raise NotImplementedError"
   ]
  },
  {
   "cell_type": "markdown",
   "id": "9e48d7d8",
   "metadata": {},
   "source": [
    "Now that we have created a `base` potential class, we now create the `LennardJones` potential class by subclassing it and providing an implementation for the `def __call__` method"
   ]
  },
  {
   "cell_type": "code",
   "execution_count": null,
   "id": "148d1c0a",
   "metadata": {},
   "outputs": [],
   "source": [
    "class LennardJones(Potential):\n",
    "    \"\"\"\n",
    "    Lennard Jones 12-6 potential class\n",
    "    Input(s)\n",
    "    epsilon = interaction strength\n",
    "    sigma = potential interaction length scale\n",
    "    cutoff = distance beyond which the potential is zero\n",
    "    \"\"\"\n",
    "    def __init__(self, epsilon: float, sigma: float, cutoff: float = 2.5, name = \"lj12/6\"):\n",
    "        self.epsilon = epsilon\n",
    "        self.sigma = sigma\n",
    "        self.cutoff = cutoff\n",
    "        super().__init__(name=name)\n",
    "\n",
    "    def __call__(self, r: float):\n",
    "        \"\"\"\n",
    "        Compute the potential value given the distance `r`.\n",
    "        The potential is set to 0 if r > cutoff\n",
    "        \"\"\"\n",
    "        if r <= self.cutoff:\n",
    "            return 4*self.epsilon*((self.sigma/r)**12 - (self.sigma/r)**6)\n",
    "        return 0.0\n",
    "    \n",
    "class Harmonic(Potential):\n",
    "    def __init__(self, k: float, r0: float, name=\"harmonic\"):\n",
    "        self.k = k\n",
    "        self.r0 = r0\n",
    "        super().__init__(name=name)\n",
    "        \n",
    "    def __call__(self, r: float):\n",
    "        return 0.5*self.k*(r - self.r0)"
   ]
  },
  {
   "cell_type": "code",
   "execution_count": null,
   "id": "bb9a086c",
   "metadata": {},
   "outputs": [],
   "source": [
    "import numpy as np\n",
    "import matplotlib.pyplot as plt\n",
    "from __future__ import annotations\n",
    "from typing import List, Callable\n",
    "from functools import partial\n",
    "import covalent as ct\n",
    "import numpy as np\n",
    "import os\n",
    "from shutil import rmtree\n",
    "import re\n",
    "import copy\n",
    "from covalent import electron\n",
    "from matplotlib.animation import FuncAnimation\n",
    "\n",
    "#%matplotlib notebook"
   ]
  },
  {
   "cell_type": "code",
   "execution_count": null,
   "id": "b883aeb8",
   "metadata": {},
   "outputs": [],
   "source": [
    "r = np.linspace(0.95, 3, 1000)\n",
    "lj_potential = LennardJones(epsilon=1.0, sigma=1.0)\n",
    "\n",
    "Ur = [lj_potential(value) for value in r]"
   ]
  },
  {
   "cell_type": "code",
   "execution_count": null,
   "id": "9269b530",
   "metadata": {},
   "outputs": [],
   "source": [
    "plt.plot(r, Ur, '-', lw=3)\n",
    "plt.axhline(y = 0.0, linestyle='--', lw=1, color='k')\n",
    "plt.axhline(y = -1.0, linestyle='--', lw=1, color='r')\n",
    "plt.axvline(x=1.0, linestyle='--', lw=1, color='k')\n",
    "plt.xlabel(r'$x$', fontsize=14)\n",
    "plt.ylabel(r'U(r)', fontsize=14)\n",
    "plt.show()"
   ]
  },
  {
   "cell_type": "markdown",
   "id": "ffacaa71",
   "metadata": {},
   "source": [
    "### Forces\n",
    "\n",
    "Once the interation potentials have been defined, the forces acting on the particles can be derived by taking its gradient\n",
    "\n",
    "$$\n",
    "\\mathbf{F}(\\mathbf{r}) = - \\nabla U\\left(\\mathbf{r}\\right)\n",
    "$$\n",
    "\n",
    "In a system of N particles, the force acting on the $i^{th}$ particle due to its interactions with every other particle in the system can be represented as\n",
    "\n",
    "$$\n",
    "\\mathbf{F}_{i} = - \\nabla_{\\mathbf{r}_{i}} U\\left(\\mathbf{r}_1, \\mathbf{r}_2, \\ldots, \\mathbf{r}_N\\right)\n",
    "$$\n",
    "\n",
    "In our case, since we know the functional, closed form of the Lennard Jones potential, we can simply differentiate it w.r.t to $r$ and derive a close for expression for the Lennard-Jones force. This can be expressed as\n",
    "\n",
    "$$\n",
    "\\mathbf{F}(r) = - \\frac{\\partial U}{\\partial r} = 48 \\epsilon \\left(\\frac{\\sigma^{12}}{r^{13}} - \\frac{\\sigma^6}{2 r^7}\\right)\n",
    "$$\n",
    "\n",
    "and looks as follows for LJ, $\\epsilon, \\sigma = 1.0$"
   ]
  },
  {
   "cell_type": "code",
   "execution_count": null,
   "id": "9d787529",
   "metadata": {},
   "outputs": [],
   "source": [
    "ljforce = lambda r: 48*(1.0/r**13 - 1.0/(2.0*r**7))\n",
    "\n",
    "\n",
    "plt.plot(r, Ur, '--', color='r', label=r'$U(r)$')\n",
    "plt.plot(r, ljforce(r), '-', color='b', label=r'$F(r)$')\n",
    "plt.axhline(y=0.0, linestyle='--', color='k', lw=1)\n",
    "plt.axvline(x=2**(1.0/6.0), linestyle='--', color='k')\n",
    "plt.xlim([0.8, 2.5])\n",
    "#plt.ylim([-3.0, 3])\n",
    "plt.xlabel(r'$r$', fontsize=14)\n",
    "plt.ylabel(r'$F(r)$', fontsize=14)\n",
    "plt.legend()\n",
    "plt.show()\n",
    "#|plt.tight_layout()"
   ]
  },
  {
   "cell_type": "markdown",
   "id": "6ff20873",
   "metadata": {},
   "source": [
    "The minimum of the potential can be shown to be equal to $r_{0} = 2^{1/6} \\sigma$ and we can see from the above figure that the force is negative i.e attractive. With this simple derivation we can see how the Lennard Jones potential can be used to represent interactions between particles in a MD simulation.\n",
    "\n",
    "Generally speaking, computing the forces acting on particles becomes a trivial exercise when the closed form solution of the potential is known apriori. Generally speaking the potentials involved in large scale simulations are rather complicated and non-trivial to be expressed as closed form expressions. To simplify the situation in our case, we can simply numerically differentiate a given `Potential` object by using finite differences. There are several finite difference schemes available in practice, in this work we however use the `central difference` scheme to implement a generic MD force class that takes a potential as its input\n",
    "\n",
    "Central differnce scheme\n",
    "$$\n",
    "\\frac{d f}{dx} \\approx \\frac{f(x + \\Delta) - f(x - \\Delta)}{2\\Delta}\n",
    "$$\n",
    "where $\\Delta << 1 $ and is a small perturbation around $x$.\n",
    "\n",
    "Using this, we can easily write down an expression that can yield the force acting on a particle given any object of type `Potential` as follows\n",
    "\n",
    "\n",
    "```\n",
    "force = -(Potential(r + Delta) - Potential(r - Delta))/(2*Delta)\n",
    "```\n",
    "\n",
    "Using such an expression will allow us to easily experiment with different potential types while not having to bother about writing the closed for expression of the force for each case. We create a `lambda` to convienietly compute the force at a given value of $r$ for any given object of type `Potential`"
   ]
  },
  {
   "cell_type": "code",
   "execution_count": null,
   "id": "a223c7a2",
   "metadata": {},
   "outputs": [],
   "source": [
    "md_force = lambda r, potential: -(potential(r + 1e-8) - potential(r - 1e-8))/(2*(1e-8))"
   ]
  },
  {
   "cell_type": "markdown",
   "id": "0f359bb8",
   "metadata": {},
   "source": [
    "Deriving the force this way from the potential is of course an approximation and its accuracy can be compared against the true value in the Lennard Jones case."
   ]
  },
  {
   "cell_type": "code",
   "execution_count": null,
   "id": "2c8073a5",
   "metadata": {},
   "outputs": [],
   "source": [
    "plt.plot(r, ljforce(r), 'o', ms=5, alpha=0.4, color='b', label=r'$Exact$')\n",
    "approx = [md_force(value, LennardJones(epsilon=1.0, sigma=1.0)) for value in r]\n",
    "plt.plot(r, approx, '-', color='g', label=r'Finite difference approximation')\n",
    "plt.axhline(y=0.0, linestyle='--', color='k', lw=1)\n",
    "plt.axvline(x=2**(1.0/6.0), linestyle='--', color='k')\n",
    "plt.xlim([0.9, 2.5])\n",
    "plt.ylim([-3.0, 3])\n",
    "plt.xlabel(r'$r$', fontsize=14)\n",
    "plt.ylabel(r'$F(r)$', fontsize=14)\n",
    "plt.legend()\n",
    "plt.tight_layout()"
   ]
  },
  {
   "cell_type": "code",
   "execution_count": null,
   "id": "0f0b977c",
   "metadata": {},
   "outputs": [],
   "source": [
    "approx = np.asarray([md_force(value, LennardJones(epsilon=1.0, sigma=1.0)) for value in r])\n",
    "plt.plot(r, np.abs(ljforce(r) - approx), '-')\n",
    "plt.yscale('log')\n",
    "plt.xlim([0.9, 2.3])\n",
    "plt.ylim([10e-12, 10e-5])\n",
    "plt.xlabel(r'$r$', fontsize=14)\n",
    "plt.ylabel(r'$F(r)$', fontsize=14)\n",
    "plt.tight_layout()\n",
    "plt.show()"
   ]
  },
  {
   "cell_type": "markdown",
   "id": "8197c31e",
   "metadata": {},
   "source": [
    "### Simulation domain\n",
    "\n",
    "We now build a class to represent the domain of our simulations with methods that facilitate querying the dimension of the domain quickly"
   ]
  },
  {
   "cell_type": "code",
   "execution_count": null,
   "id": "5fc7f43d",
   "metadata": {},
   "outputs": [],
   "source": [
    "class Domain(object):\n",
    "    def __init__(self, xlo: float, xhi: float, ylo: float, yhi: float):\n",
    "        self.xlo = xlo\n",
    "        self.xhi = xhi\n",
    "        self.ylo = ylo\n",
    "        self.yhi = yhi\n",
    "\n",
    "    @property\n",
    "    def lx(self):\n",
    "        return self.xhi - self.xlo\n",
    "\n",
    "    @property\n",
    "    def ly(self):\n",
    "        return self.yhi - self.ylo"
   ]
  },
  {
   "cell_type": "markdown",
   "id": "c323c470",
   "metadata": {},
   "source": [
    "### Particle\n",
    "\n",
    "To abstract and facilitiate computation, we create a base particle class whose instances reflect individual particle in the system being simulated. We initialize the particle velocities and forces to zero on creation and overload some `dunder` methods to faciliate computing differences between two particles, coverting particles to a string for saving their coordinates to files as well as comparing two particles with each other.\n",
    "\n",
    "The `create_particle` is a helper method that simplifes the process of instantiating a particle object with coordinates sampled from a uniform distribution between [xlo, xhi], [ylo, yhi]"
   ]
  },
  {
   "cell_type": "code",
   "execution_count": null,
   "id": "1647922e",
   "metadata": {},
   "outputs": [],
   "source": [
    "class Particle(object):\n",
    "    def __init__(self, id: int, mass: float, x: float, y: float,\n",
    "                 vx: float = 0.0, vy: float = 0.0, fx: float = 0.0,\n",
    "                 fy: float = 0.0):\n",
    "        \"\"\"\n",
    "        Basic particle\n",
    "        \"\"\"\n",
    "        self.id = id\n",
    "        self.mass = mass\n",
    "        self.x = x\n",
    "        self.y = y\n",
    "        self.vx = vx\n",
    "        self.vy = vy\n",
    "        self.fx = fx\n",
    "        self.fy = fy\n",
    "\n",
    "    def __eq__(self, other):\n",
    "        return all([other.__dict__[key] == value for key, value in\n",
    "                   self.__dict__.items()])\n",
    "\n",
    "    def __sub__(self, other):\n",
    "        return self.x - other.x, self.y - other.y\n",
    "\n",
    "    def __repr__(self):\n",
    "        return f\"Particle(id={self.id}, mass={self.mass},x={self.x},\\\n",
    "                y={self.y},vx={self.vx},vy={self.vy},\\\n",
    "                fx={self.fx},fy={self.fy})\".replace('\\n', '')\n",
    "\n",
    "    def __str__(self):\n",
    "        return f\"\"\"{self.id},{self.mass},{self.x},{self.y},{self.vx},{self.vy},{self.fx},{self.fy}\\n\"\"\"\n",
    "\n",
    "def create_particle(id: int, mass: float, domain: Domain):\n",
    "    \"\"\"\n",
    "    Create a particle with id=`id` and mass=`mass' randomly\n",
    "    located in the domain\n",
    "    \"\"\"\n",
    "    return Particle(id=id, mass=mass,\n",
    "                    x=np.random.uniform(domain.xlo, domain.xhi),\n",
    "                    y=np.random.uniform(domain.ylo, domain.yhi))"
   ]
  },
  {
   "cell_type": "markdown",
   "id": "4deb4327",
   "metadata": {},
   "source": [
    "### Periodic boundary conditions and minimum image convention\n",
    "\n",
    "To implement the minimum image convention, the `check_pbc` method, when invoked figures if the distance between two particles is greater than half the domain size, if so returns the appropriate distance between the particle and the nearest image"
   ]
  },
  {
   "cell_type": "code",
   "execution_count": null,
   "id": "471b98d8",
   "metadata": {},
   "outputs": [],
   "source": [
    "@ct.electron\n",
    "def check_pbc(dx: float, L: float):\n",
    "    if dx > L*0.5:\n",
    "        return dx - L\n",
    "    if dx <= -L*0.5:\n",
    "        return dx + L\n",
    "    return dx"
   ]
  },
  {
   "cell_type": "markdown",
   "id": "0d703b07",
   "metadata": {},
   "source": [
    "### Total system potential energy\n",
    "\n",
    "This is an important routine, that given a snapshot of the MD system i.e list of all particles return back the total potential energy of the configuration. As auxiliary variables, this method also takes in a reference to the instance of the potential and the simulation domain in order to effectivley compute the system's total PE"
   ]
  },
  {
   "cell_type": "code",
   "execution_count": null,
   "id": "7f3fe0c2-b6f6-4cc0-9183-09df02c70e50",
   "metadata": {},
   "outputs": [],
   "source": [
    "@ct.electron\n",
    "def total_pe(particles: List[Particle], potential, domain: Domain):\n",
    "    total = 0.0\n",
    "    for i in particles:\n",
    "        for j in particles:\n",
    "            if i == j:\n",
    "                continue\n",
    "            else:\n",
    "                dx, dy = i - j\n",
    "                dx = check_pbc(dx, domain.lx)\n",
    "                dy = check_pbc(dy, domain.ly)\n",
    "                \n",
    "                dr = np.sqrt(dx**2 + dy**2)\n",
    "                total += potential(dr)\n",
    "    return total/2.0"
   ]
  },
  {
   "cell_type": "markdown",
   "id": "5e227c4d",
   "metadata": {},
   "source": [
    "### Gradient of the total system potential energy\n",
    "\n",
    "Given that we will be relaxing the system's initial configuration in order to minimize the total potential energy, the following `electron` computes the gradient of the same. Given a list of particles i.e. system configuration, the interaction potential and simulation domain this method using finite difference (forward difference) computes how system's total PE changes with respect to changes in each particle's positions"
   ]
  },
  {
   "cell_type": "code",
   "execution_count": null,
   "id": "9b22af6c-e162-4aa7-a3bb-7d1c4af46261",
   "metadata": {},
   "outputs": [],
   "source": [
    "@ct.electron\n",
    "def grad_pe(particles: List[Particle], potential, domain: Domain, epsilon: float = 1e-8):\n",
    "    grad = []\n",
    "    for p in particles:\n",
    "        pe = total_pe(particles=particles, potential=potential, domain=domain)\n",
    "        p.x += epsilon\n",
    "        pe_delta = total_pe(particles=particles, potential=potential, domain=domain)\n",
    "        dudpx = (pe_delta - pe)/epsilon\n",
    "        p.x -= epsilon\n",
    "        \n",
    "        p.y += epsilon\n",
    "        pe_delta = total_pe(particles=particles, potential=potential, domain=domain)\n",
    "        dudpy = (pe_delta - pe)/epsilon\n",
    "        p.y -= epsilon\n",
    "        \n",
    "        grad.append(dudpx)\n",
    "        grad.append(dudpy)\n",
    "        \n",
    "    return grad"
   ]
  },
  {
   "cell_type": "markdown",
   "id": "6fc5aedf-a085-4113-8186-43a397f48c50",
   "metadata": {},
   "source": [
    "### Save particles to file\n",
    "This `electron` saves snapshots of the system's configuration to file when invoked"
   ]
  },
  {
   "cell_type": "code",
   "execution_count": null,
   "id": "7b7ae9d5-442a-4b60-898d-27c267396f70",
   "metadata": {},
   "outputs": [],
   "source": [
    "@ct.electron\n",
    "def save_snapshot(particles: List[Particle], step: int, path: str):\n",
    "    if not os.path.isdir(f\"{path}/snapshots\"):\n",
    "        os.mkdir(f\"{path}/snapshots\")\n",
    "    dump_file=f\"{path}/snapshots/system_{step}.txt\"\n",
    "    \n",
    "    with open(dump_file, \"w\") as f:\n",
    "        for particle in particles:\n",
    "            f.write(str(particle))\n",
    "        f.close()"
   ]
  },
  {
   "cell_type": "markdown",
   "id": "420b4f2c",
   "metadata": {},
   "source": [
    "### Gradient descent\n",
    "\n",
    "This `electron` tries to minimize the total potential energy of the system by iteratively adjusting the coordinates of each particle such that the system's total PE decreases towards a minimum. As inputs it takes in an objective function (that needs to be minimized), list of particles, a routine that returns the `gradient` of the objective function, simulation domain and a dictionary of options"
   ]
  },
  {
   "cell_type": "code",
   "execution_count": null,
   "id": "4bf4a3da",
   "metadata": {},
   "outputs": [],
   "source": [
    "@ct.electron\n",
    "def minimize_system_energy(objective, particles, grad, domain, options = {}, *args, **kwargs):\n",
    "    \"\"\"\n",
    "    Given a system, minimize its potential energy using gradient descent\n",
    "    \"\"\"\n",
    "    try:\n",
    "        learning_rate = options[\"learning_rate\"]\n",
    "    except KeyError:\n",
    "        learning_rate = 1e-3\n",
    "        \n",
    "    try:\n",
    "        tol = options[\"tol\"]\n",
    "    except KeyError:\n",
    "        tol = 1e-5\n",
    "        \n",
    "    try:\n",
    "        maxiter = options[\"maxiter\"]\n",
    "    except KeyError:\n",
    "        maxiter = 500\n",
    "        \n",
    "    try:\n",
    "        verbose = options[\"verbose\"]\n",
    "    except KeyError:\n",
    "        verbose = False\n",
    "        \n",
    "    \n",
    "    x = copy.deepcopy(particles)\n",
    "    fold = objective(x)\n",
    "    i = 0\n",
    "    diff = 1e10\n",
    "    diff_history = [diff]\n",
    "    f_history = [fold]\n",
    "    dx = np.zeros(2*len(x))\n",
    "        \n",
    "    while i < maxiter and diff > tol:\n",
    "        dx = -learning_rate*np.asarray(grad(x))\n",
    "            \n",
    "        for index, particle in enumerate(x):\n",
    "            particle.x += dx[index]\n",
    "            particle.y += dx[index+1]\n",
    "                \n",
    "            particle.x = particle.x%domain.lx\n",
    "            particle.y = particle.y%domain.ly\n",
    "                            \n",
    "        fnew = objective(x)\n",
    "        diff = np.abs(fnew - fold)\n",
    "        fold = fnew\n",
    "        diff_history.append(diff)\n",
    "        f_history.append(fnew)\n",
    "        \n",
    "        if verbose:\n",
    "            print(i, fnew)\n",
    "                \n",
    "        if i % 10 == 0:\n",
    "            learning_rate /= 2\n",
    "            \n",
    "        i += 1\n",
    "        \n",
    "    return x, fnew, i"
   ]
  },
  {
   "cell_type": "markdown",
   "id": "c0332613",
   "metadata": {},
   "source": [
    "### Initialize particle velocities\n",
    "\n",
    "After energy minimization, we give every particle in the system a velocity randomly sampled from a normal distribution with mean 0 and standard deviation 1"
   ]
  },
  {
   "cell_type": "code",
   "execution_count": null,
   "id": "d91776af",
   "metadata": {},
   "outputs": [],
   "source": [
    "@ct.electron\n",
    "def init_velocities(particles: List[Particle]):\n",
    "    for particle in particles:\n",
    "        particle.vx = np.random.randn()\n",
    "        particle.vy = np.random.randn()\n",
    "    return particles"
   ]
  },
  {
   "cell_type": "markdown",
   "id": "490e6934",
   "metadata": {},
   "source": [
    "### Update forces\n",
    "\n",
    "This routine/`electron` updates the forces on each particle as a result of its interactions with all its neighbours and nearest images. The total force acting on a given particle is then accumulated and summed as the pair pairs change"
   ]
  },
  {
   "cell_type": "code",
   "execution_count": null,
   "id": "3532768f",
   "metadata": {},
   "outputs": [],
   "source": [
    "@ct.electron\n",
    "def update_forces(particles: List[Particle], potential: Potential, domain: Domain):\n",
    "    #particles_copy = copy.deepcopy(particles)\n",
    "    for i in particles:\n",
    "        i.fx = 0.0\n",
    "        i.fy = 0.0\n",
    "        for j in particles:\n",
    "            if i == j:\n",
    "                continue\n",
    "            else:\n",
    "                dx, dy = i - j\n",
    "                \n",
    "                dx = check_pbc(dx, domain.lx)\n",
    "                dy = check_pbc(dy, domain.ly)\n",
    "                \n",
    "                dr = np.sqrt(dx**2 + dy**2)\n",
    "                \n",
    "                f = -(potential(dr+1e-8) - potential(dr-1e-8))/(2*1e-8)\n",
    "                \n",
    "                fx = (dx/dr)*f\n",
    "                fy = (dy/dr)*f\n",
    "                \n",
    "                i.fx += fx/2.0\n",
    "                i.fy += fy/2.0\n",
    "    return particles"
   ]
  },
  {
   "cell_type": "markdown",
   "id": "c551dfcd",
   "metadata": {},
   "source": [
    "### Velocity verlet integration\n",
    "\n",
    "This is the main integrator used in our simulation run. It takes in a list of particles, a potential, simulation domain and a time step `dt`. Using these inputs the integrator, as per the `velocity verlet` scheme updates the particle's positions and velocities over a timestep `dt`"
   ]
  },
  {
   "cell_type": "code",
   "execution_count": null,
   "id": "e9d864f1",
   "metadata": {},
   "outputs": [],
   "source": [
    "@ct.electron\n",
    "def velocity_verlet_integration(particles: List[Particle], potential, domain, dt):\n",
    "    particles = update_forces(particles, potential, domain)\n",
    "\n",
    "    # Update positions\n",
    "    for particle in particles:\n",
    "        particle.x = particle.x + particle.vx*dt + (particle.fx/(2*particle.mass))*dt**2\n",
    "        particle.y = particle.y + particle.vy*dt + (particle.fy/(2*particle.mass))*dt**2\n",
    "        particle.x = particle.x%domain.lx\n",
    "        particle.y = particle.y%domain.ly\n",
    "        \n",
    "    # Update forces\n",
    "    particles_copy = update_forces(particles, potential, domain)\n",
    "    \n",
    "    # Update velocities\n",
    "    for index, particle in enumerate(particles):\n",
    "        particle.vx = particle.vx + dt*(particles_copy[index].fx+particle.fx)/(2*particle.mass)\n",
    "        particle.vy = particle.vy + dt*(particles_copy[index].fy+particle.fy)/(2*particle.mass)\n",
    "        \n",
    "    return particles"
   ]
  },
  {
   "cell_type": "markdown",
   "id": "ce7f5ffc",
   "metadata": {},
   "source": [
    "### Integrate N times\n",
    "\n",
    "This `electron` is a convenience wrapper around the Velocity verlet integration and loops the call in a for loop ranging `nsteps`. After each step/update this electron also saves a snapshot of the system to disk for later post processing"
   ]
  },
  {
   "cell_type": "code",
   "execution_count": null,
   "id": "28f7d886",
   "metadata": {},
   "outputs": [],
   "source": [
    "@ct.electron\n",
    "def run(nsteps, particles: List[Particles], potential: Potential,\n",
    "        domain: Domain, dt: float, path: str):\n",
    "    for i in range(nsteps):\n",
    "        particles = velocity_verlet_integration(particles=particles,\n",
    "                                                potential=potential,\n",
    "                                                domain=domain,\n",
    "                                                dt=dt)\n",
    "        \n",
    "        save_snapshot(particles, i, path)\n",
    "    return particles"
   ]
  },
  {
   "cell_type": "markdown",
   "id": "20d9ee4c",
   "metadata": {},
   "source": [
    "### Entire MD workflow\n",
    "\n",
    "As a last step, we tie all the electrons into the `simulation` workflow before submitting the task to `covalent`"
   ]
  },
  {
   "cell_type": "code",
   "execution_count": null,
   "id": "d9680863",
   "metadata": {},
   "outputs": [],
   "source": [
    "@ct.lattice\n",
    "def simulation(particles: List[Particle], domain: Domain, potential: Potential, nsteps, path):\n",
    "    \"\"\"\n",
    "    run a basic MD particle simulation\n",
    "    \"\"\"\n",
    "    i = 0\n",
    "    # Compute the system initial potential energy\n",
    "    f_old = total_pe(particles, potential, domain=domain)\n",
    "    \n",
    "    # Minimize system energy\n",
    "    objective = partial(total_pe, potential=potential, domain=domain)\n",
    "    gradient = partial(grad_pe, potential=potential, domain=domain)\n",
    "    particles, _, _ = minimize_system_energy(objective, particles, gradient, domain,\n",
    "                                                                     options={\"maxiter\": 200, \"tol\": 1e-5,\n",
    "                                                                              \"learning_rate\": 1e-2,\n",
    "                                                                              \"verbose\": True})\n",
    "    \n",
    "    \n",
    "    # Initialize velocities\n",
    "    particles = init_velocities(particles)\n",
    "    \n",
    "    # Integrate forward in time nsteps\n",
    "    particles = run(nsteps=nsteps,\n",
    "                    particles=particles,\n",
    "                    potential=potential,\n",
    "                    domain = domain,\n",
    "                    dt=1e-2, path=path)\n",
    "        \n",
    "\n",
    "    return {\"particles\": particles, \"iters\": nsteps}"
   ]
  },
  {
   "cell_type": "code",
   "execution_count": null,
   "id": "e8105d0f",
   "metadata": {},
   "outputs": [],
   "source": [
    "path_to_save = \"/home/venkat/agnostiq-rpi-tutorials\"\n",
    "# Cleanup if this directory is already present\n",
    "if os.path.isdir(f\"{path_to_save}/snapshots\"):\n",
    "    rmtree(f\"{path_to_save}/snapshots\")\n",
    "    \n",
    "domain = Domain(xlo = 0, xhi = 20, ylo = 0, yhi = 20)\n",
    "num_particles = 10\n",
    "nsteps = 1000\n",
    "particles = [create_particle(id=index, mass=1.0, domain = domain) for index in range(num_particles)]\n",
    "potential = LennardJones(epsilon=1.0, sigma=1.0)"
   ]
  },
  {
   "cell_type": "code",
   "execution_count": null,
   "id": "45db1aab",
   "metadata": {},
   "outputs": [],
   "source": [
    "res = ct.dispatch_sync(simulation)(particles, domain, potential, nsteps, path_to_save)"
   ]
  },
  {
   "cell_type": "code",
   "execution_count": null,
   "id": "e8e835f1",
   "metadata": {},
   "outputs": [],
   "source": [
    "res.result"
   ]
  },
  {
   "cell_type": "code",
   "execution_count": null,
   "id": "a721b169",
   "metadata": {},
   "outputs": [],
   "source": [
    "%matplotlib notebook"
   ]
  },
  {
   "cell_type": "code",
   "execution_count": null,
   "id": "fed06fbf",
   "metadata": {},
   "outputs": [],
   "source": [
    "def animate(frame_number):\n",
    "    data = np.loadtxt(f\"{path_to_save}/snapshots/system_{frame_number}.txt\",\n",
    "                      delimiter=\",\")\n",
    "    x = data[:, 2]\n",
    "    y = data[:, 3]\n",
    "    line.set_data((x, y))\n",
    "    return line"
   ]
  },
  {
   "cell_type": "code",
   "execution_count": null,
   "id": "b8a27322-4a16-49c7-8515-57164f5f0800",
   "metadata": {},
   "outputs": [],
   "source": [
    "fig, ax = plt.subplots()\n",
    "\n",
    "line, = ax.plot([], 'o', ms=10)     # A tuple unpacking to unpack the only plot\n",
    "ax.set_xlim(domain.xlo, domain.xhi)\n",
    "ax.set_ylim(domain.ylo, domain.yhi)\n",
    "\n",
    "anim = FuncAnimation(fig, animate, frames=nsteps, interval=1)\n",
    "#anim.save(\"test.mp4\")\n",
    "plt.show()"
   ]
  },
  {
   "cell_type": "code",
   "execution_count": null,
   "id": "478544a8-8961-4f51-8937-848f1fa5df0d",
   "metadata": {},
   "outputs": [],
   "source": []
  }
 ],
 "metadata": {
  "kernelspec": {
   "display_name": "Python 3 (ipykernel)",
   "language": "python",
   "name": "python3"
  },
  "language_info": {
   "codemirror_mode": {
    "name": "ipython",
    "version": 3
   },
   "file_extension": ".py",
   "mimetype": "text/x-python",
   "name": "python",
   "nbconvert_exporter": "python",
   "pygments_lexer": "ipython3",
   "version": "3.8.13"
  },
  "vscode": {
   "interpreter": {
    "hash": "77e4c86526ca8a4ddc0a9384367b3c6fc68964a2df01fd90b3f3907e1b978260"
   }
  }
 },
 "nbformat": 4,
 "nbformat_minor": 5
}

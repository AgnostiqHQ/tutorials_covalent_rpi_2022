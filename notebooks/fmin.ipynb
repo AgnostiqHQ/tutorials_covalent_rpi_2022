{
 "cells": [
  {
   "cell_type": "markdown",
   "id": "85201bda-02ff-4c21-96fb-481b27dcdf09",
   "metadata": {},
   "source": [
    "### Lennard-Jones 2 particle system"
   ]
  },
  {
   "cell_type": "code",
   "execution_count": 1,
   "id": "2d57495a-219c-4605-a88e-994012076ffc",
   "metadata": {},
   "outputs": [],
   "source": [
    "from __future__ import annotations\n",
    "from typing import List, Callable\n",
    "from functools import partial"
   ]
  },
  {
   "cell_type": "code",
   "execution_count": 2,
   "id": "714532e5-d7db-4d25-87ca-b8a62a11d56d",
   "metadata": {},
   "outputs": [],
   "source": [
    "import covalent as ct\n",
    "import numpy as np\n",
    "import os\n",
    "from shutil import rmtree\n",
    "import re\n",
    "import copy\n",
    "from covalent import electron"
   ]
  },
  {
   "cell_type": "code",
   "execution_count": 3,
   "id": "99092085",
   "metadata": {},
   "outputs": [],
   "source": [
    "import matplotlib.pyplot as plt"
   ]
  },
  {
   "cell_type": "code",
   "execution_count": 4,
   "id": "a2f34aa9",
   "metadata": {},
   "outputs": [],
   "source": [
    "%matplotlib notebook"
   ]
  },
  {
   "cell_type": "code",
   "execution_count": 5,
   "id": "beb95af2",
   "metadata": {},
   "outputs": [],
   "source": [
    "from matplotlib.animation import FuncAnimation"
   ]
  },
  {
   "cell_type": "markdown",
   "id": "3edd5880",
   "metadata": {},
   "source": [
    "#### Simulation domain"
   ]
  },
  {
   "cell_type": "code",
   "execution_count": 6,
   "id": "34c8dd4e",
   "metadata": {},
   "outputs": [],
   "source": [
    "class Domain(object):\n",
    "    def __init__(self, xlo: float, xhi: float, ylo: float, yhi: float):\n",
    "        self.xlo = xlo\n",
    "        self.xhi = xhi\n",
    "        self.ylo = ylo\n",
    "        self.yhi = yhi\n",
    "\n",
    "\n",
    "    @property\n",
    "    def lx(self):\n",
    "        return self.xhi - self.xlo\n",
    "\n",
    "    @property\n",
    "    def ly(self):\n",
    "        return self.yhi - self.ylo"
   ]
  },
  {
   "cell_type": "markdown",
   "id": "c323c470",
   "metadata": {},
   "source": [
    "### MD particle"
   ]
  },
  {
   "cell_type": "code",
   "execution_count": 7,
   "id": "1647922e",
   "metadata": {},
   "outputs": [],
   "source": [
    "def create_particle(id: int, mass: float, domain: Domain):\n",
    "    \"\"\"\n",
    "    Create a particle with id=`id` and mass=`mass' randomly\n",
    "    located in the domain\n",
    "    \"\"\"\n",
    "    return Particle(id=id, mass=mass,x=np.random.uniform(),y=np.random.uniform())\n",
    "\n",
    "\n",
    "class Particle(object):\n",
    "    def __init__(self, id: int, mass: float, x: float, y: float,\n",
    "                 vx: float = 0.0, vy: float = 0.0, fx: float = 0.0,\n",
    "                 fy: float = 0.0):\n",
    "        \"\"\"\n",
    "        Basic particle\n",
    "        \"\"\"\n",
    "        self.id = id\n",
    "        self.mass = mass\n",
    "        self.x = x\n",
    "        self.y = y\n",
    "        self.vx = vx\n",
    "        self.vy = vy\n",
    "        self.fx = fx\n",
    "        self.fy = fy\n",
    "\n",
    "    def __eq__(self, other: Particle):\n",
    "        return all([other.__dict__[key] == value for key, value in\n",
    "                   self.__dict__.items()])\n",
    "\n",
    "    def __sub__(self, other: Particle):\n",
    "        return self.x - other.x, self.y - other.y\n",
    "\n",
    "    def __repr__(self):\n",
    "        return f\"Particle(id={self.id}, mass={self.mass},x={self.x},\\\n",
    "                y={self.y},vx={self.vx},vy={self.vy},\\\n",
    "                fx={self.fx},fy={self.fy})\".replace('\\n', '')\n",
    "\n",
    "    def __str__(self):\n",
    "        return f\"\"\"{self.id},{self.mass},{self.x},{self.y},{self.vx},{self.vy},{self.fx},{self.fy}\\n\"\"\""
   ]
  },
  {
   "cell_type": "markdown",
   "id": "d435e5a1",
   "metadata": {},
   "source": [
    "### Potentials"
   ]
  },
  {
   "cell_type": "code",
   "execution_count": 8,
   "id": "87b33735",
   "metadata": {},
   "outputs": [],
   "source": [
    "class Potential(object):\n",
    "    def __init__(self, name: str):\n",
    "        self.name = name\n",
    "\n",
    "    def __call__(self, r: float):\n",
    "        raise NotImplementedError\n",
    "\n",
    "class LennardJones126(Potential):\n",
    "    def __init__(self, epsilon: float = 1.0, sigma: float = 1.0,\n",
    "                 cutoff: float = 2.5):\n",
    "        self.epsilon = epsilon\n",
    "        self.sigma = sigma\n",
    "        self.cutoff = cutoff\n",
    "        super().__init__(name=\"lj/126\")\n",
    "\n",
    "    def __call__(self, r: float):\n",
    "        if r <= self.cutoff:\n",
    "            return 4*self.epsilon*((self.sigma/r)**12 -\n",
    "                                   (self.sigma/r)**6)\n",
    "        return 0.0\n",
    "    \n",
    "    \n",
    "class Harmonic(Potential):\n",
    "    def __init__(self, k: float = 20.0, r0 = 1.0):\n",
    "        self.k = k\n",
    "        self.r0 = r0\n",
    "        super().__init__(name=\"harmonic\")\n",
    "        \n",
    "    def __call__(self, r: float):\n",
    "        return 0.5*self.k*(r - self.r0)**2"
   ]
  },
  {
   "cell_type": "code",
   "execution_count": 9,
   "id": "471b98d8",
   "metadata": {},
   "outputs": [],
   "source": [
    "@ct.electron\n",
    "def check_pbc(x: float, L: float):\n",
    "    if x > L*0.5:\n",
    "        return x - L\n",
    "    if x <= -L*0.5:\n",
    "        return x + L\n",
    "    return x"
   ]
  },
  {
   "cell_type": "code",
   "execution_count": 12,
   "id": "7f3fe0c2-b6f6-4cc0-9183-09df02c70e50",
   "metadata": {},
   "outputs": [],
   "source": [
    "@ct.electron\n",
    "def total_pe(particles: List[Particle], potential, domain: Domain):\n",
    "    total = 0.0\n",
    "    # this can be parallelized!!\n",
    "    for i in particles:\n",
    "        for j in particles:\n",
    "            if i == j:\n",
    "                continue\n",
    "            else:\n",
    "                dx, dy = i - j\n",
    "                dx = check_pbc(dx, domain.lx)\n",
    "                dy = check_pbc(dy, domain.ly)\n",
    "                \n",
    "                dr = np.sqrt(dx**2 + dy**2)\n",
    "                total += potential(dr)\n",
    "    return total/2.0"
   ]
  },
  {
   "cell_type": "code",
   "execution_count": 13,
   "id": "9b22af6c-e162-4aa7-a3bb-7d1c4af46261",
   "metadata": {},
   "outputs": [],
   "source": [
    "@ct.electron\n",
    "def grad_pe(particles: List[Particle], potential, domain: Domain, epsilon: float = 1e-8):\n",
    "    grad = []\n",
    "    # this can be parallelized\n",
    "    for p in particles:\n",
    "        pe = total_pe(particles=particles, potential=potential, domain=domain)\n",
    "        p.x += epsilon\n",
    "        pe_delta = total_pe(particles=particles, potential=potential, domain=domain)\n",
    "        dudpx = (pe_delta - pe)/epsilon\n",
    "        p.x -= epsilon\n",
    "        \n",
    "        p.y += epsilon\n",
    "        pe_delta = total_pe(particles=particles, potential=potential, domain=domain)\n",
    "        dudpy = (pe_delta - pe)/epsilon\n",
    "        p.y -= epsilon\n",
    "        \n",
    "        grad.append(dudpx)\n",
    "        grad.append(dudpy)\n",
    "        \n",
    "    return grad"
   ]
  },
  {
   "cell_type": "markdown",
   "id": "6fc5aedf-a085-4113-8186-43a397f48c50",
   "metadata": {},
   "source": [
    "### Save particles to file"
   ]
  },
  {
   "cell_type": "code",
   "execution_count": 14,
   "id": "7b7ae9d5-442a-4b60-898d-27c267396f70",
   "metadata": {},
   "outputs": [],
   "source": [
    "@ct.electron\n",
    "def save_snapshot(particles: List[Particle], step: int):\n",
    "    if not os.path.isdir(\"/home/venkat/agnostiq-rpi-tutorials/snapshots\"):\n",
    "        os.mkdir(\"/home/venkat/agnostiq-rpi-tutorials/snapshots\")\n",
    "    dump_file=f\"/home/venkat/agnostiq-rpi-tutorials/snapshots/system_{step}.txt\"\n",
    "    \n",
    "    with open(dump_file, \"w\") as f:\n",
    "        for particle in particles:\n",
    "            f.write(str(particle))\n",
    "        f.close()"
   ]
  },
  {
   "cell_type": "code",
   "execution_count": 15,
   "id": "4bf4a3da",
   "metadata": {},
   "outputs": [],
   "source": [
    "@ct.electron\n",
    "def minimize_system_energy(objective, particles, grad, domain, options = {}, *args, **kwargs):\n",
    "    \"\"\"\n",
    "    Given a system, minimize its potential energy using gradient descent\n",
    "    \"\"\"\n",
    "    try:\n",
    "        learning_rate = options[\"learning_rate\"]\n",
    "    except KeyError:\n",
    "        learning_rate = 1e-3\n",
    "        \n",
    "    try:\n",
    "        tol = options[\"tol\"]\n",
    "    except KeyError:\n",
    "        tol = 1e-5\n",
    "        \n",
    "    try:\n",
    "        maxiter = options[\"maxiter\"]\n",
    "    except KeyError:\n",
    "        maxiter = 500\n",
    "        \n",
    "    try:\n",
    "        verbose = options[\"verbose\"]\n",
    "    except KeyError:\n",
    "        verbose = False\n",
    "        \n",
    "    \n",
    "    x = copy.deepcopy(particles)\n",
    "    fold = objective(x)\n",
    "    i = 0\n",
    "    diff = 1e10\n",
    "    diff_history = [diff]\n",
    "    f_history = [fold]\n",
    "    dx = np.zeros(2*len(x))\n",
    "        \n",
    "    while i < maxiter and diff > tol:\n",
    "        dx = -learning_rate*np.asarray(grad(x))\n",
    "            \n",
    "        for index, particle in enumerate(x):\n",
    "            particle.x += dx[index]\n",
    "            particle.y += dx[index+1]\n",
    "                \n",
    "            particle.x = particle.x%domain.lx\n",
    "            particle.y = particle.y%domain.ly\n",
    "            \n",
    "        #save_snapshot(x, i)\n",
    "                \n",
    "        fnew = objective(x)\n",
    "        diff = np.abs(fnew - fold)\n",
    "        fold = fnew\n",
    "        diff_history.append(diff)\n",
    "        f_history.append(fnew)\n",
    "        \n",
    "        if verbose:\n",
    "            print(i, fnew)\n",
    "                \n",
    "        if i % 10 == 0:\n",
    "            learning_rate /= 2\n",
    "            \n",
    "        i += 1\n",
    "        \n",
    "    return x, fnew, i"
   ]
  },
  {
   "cell_type": "code",
   "execution_count": 16,
   "id": "c248e6d5",
   "metadata": {},
   "outputs": [],
   "source": [
    "@ct.electron\n",
    "def gradient_descent_particle_update(particles: List[Particle], dx: List[float], domain: Domain):\n",
    "    for index, particle in enumerate(particles):\n",
    "        particle.x += dx[index]\n",
    "        particle.y += dx[index+1]\n",
    "        \n",
    "        particle.x = particle.x%domain.lx\n",
    "        particle.y = particle.y%domain.ly\n",
    "        \n",
    "    return particles\n",
    "\n",
    "@ct.electron\n",
    "def check_loss(f_old: float, f_new: float):\n",
    "    return abs(f_new - f_old)"
   ]
  },
  {
   "cell_type": "code",
   "execution_count": 17,
   "id": "d91776af",
   "metadata": {},
   "outputs": [],
   "source": [
    "@ct.electron\n",
    "def init_velocities(particles: List[Particle]):\n",
    "    for particle in particles:\n",
    "        particle.vx = np.random.randn()\n",
    "        particle.vy = np.random.randn()\n",
    "    return particles\n",
    "\n",
    "\n",
    "@ct.electron\n",
    "def scale_gradients(gradients: List[float], lr: float):\n",
    "    res = []\n",
    "    for value in gradients:\n",
    "        res.append(-1.0*lr*value)\n",
    "    return res\n",
    "\n",
    "@ct.electron\n",
    "def update_learning_rate(lr: float, f: float, step: int):\n",
    "    if f < 0.0:\n",
    "        return lr / 4.0\n",
    "    \n",
    "    if step % 10 == 0:\n",
    "        return lr / 2.0\n",
    "    return lr"
   ]
  },
  {
   "cell_type": "code",
   "execution_count": 18,
   "id": "fed8d3ec",
   "metadata": {},
   "outputs": [],
   "source": [
    "@ct.electron\n",
    "def euler_step(particles, dt: float):\n",
    "    for particle in particles:\n",
    "        particle.x += particle.vx*dt\n",
    "        particle.y += particle.vy*dt\n",
    "        \n",
    "    return particles\n",
    "\n",
    "@ct.electron\n",
    "def update_forces(particles: List[Particle], potential: Potential, domain: Domain):\n",
    "    for i in particles:\n",
    "        i.fx = 0.0\n",
    "        i.fy = 0.0\n",
    "        for j in particles:\n",
    "            if i == j:\n",
    "                continue\n",
    "            else:\n",
    "                dx, dy = i - j\n",
    "                \n",
    "                dx = check_pbc(dx, domain.lx)\n",
    "                dy = check_pbc(dy, domain.ly)\n",
    "                \n",
    "                dr = np.sqrt(dx**2 + dy**2)\n",
    "                                \n",
    "                f = -(potential(dr+1e-8) - potential(dr-1e-8))/(2*1e-8)\n",
    "                \n",
    "                fx = (dx/dr)*f\n",
    "                fy = (dy/dr)*f\n",
    "                \n",
    "                i.fx += fx/2.0\n",
    "                i.fy += fy/2.0\n",
    "    return particles\n",
    "\n",
    "\n",
    "@ct.electron\n",
    "def verlet_integration(step: int, particles: List[Particles], particles_prev: List[Particles],\n",
    "                       potential: Potential, domain: Domain,dt: float):\n",
    "    p_copy = copy.deepcopy(particles)\n",
    "\n",
    "    if step == 0:\n",
    "        for particle in particles:\n",
    "            particle.x += particle.vx*dt\n",
    "            particle.y += particle.vy*dt\n",
    "            \n",
    "            particle.x = particle.x%domain.lx\n",
    "            particle.y = particle.y%domain.ly\n",
    "    else:\n",
    "        particles = update_forces(particles, potential, domain)\n",
    "    \n",
    "        for index, particle in enumerate(particles):\n",
    "            particle.x = 2*particle.x - particles_prev[index].x + particle.fx*dt**2\n",
    "            particle.y = 2*particle.y - particles_prev[index].y + particle.fy*dt**2\n",
    "            particle.x = particle.x%domain.lx\n",
    "            particle.y = particle.y%domain.ly\n",
    "        \n",
    "    return particles, p_copy"
   ]
  },
  {
   "cell_type": "code",
   "execution_count": 19,
   "id": "9787e3fa",
   "metadata": {},
   "outputs": [],
   "source": [
    "@ct.electron\n",
    "def velocity_verlet_integration(particles: List[Particle], potential, domain, dt):\n",
    "    particles = update_forces(particles, potential, domain)\n",
    "\n",
    "    # Update positions\n",
    "    for particle in particles:\n",
    "        particle.x = particle.x + particle.vx*dt + (particle.fx/(2*particle.mass))*dt**2\n",
    "        particle.y = particle.y + particle.vy*dt + (particle.fy/(2*particle.mass))*dt**2\n",
    "        particle.x = particle.x%domain.lx\n",
    "        particle.y = particle.y%domain.ly\n",
    "        \n",
    "    # Update forces\n",
    "    particles_copy = update_forces(particles, potential, domain)\n",
    "    \n",
    "    # Update velocities\n",
    "    for index, particle in enumerate(particles):\n",
    "        particle.vx = particle.vx + dt*(particles_copy[index].fx+particle.fx)/(2*particle.mass)\n",
    "        particle.vy = particle.vy + dt*(particles_copy[index].fy+particle.fy)/(2*particle.mass)\n",
    "        \n",
    "    return particles"
   ]
  },
  {
   "cell_type": "code",
   "execution_count": 20,
   "id": "5b34c7cc",
   "metadata": {},
   "outputs": [],
   "source": [
    "@ct.electron\n",
    "def run(nsteps, particles: List[Particles], potential: Potential, domain: Domain, dt: float):\n",
    "    for i in range(nsteps):\n",
    "        particles = velocity_verlet_integration(particles=particles, potential=potential, domain=domain, dt=dt)\n",
    "        \n",
    "        save_snapshot(particles, i)\n",
    "    return particles"
   ]
  },
  {
   "cell_type": "markdown",
   "id": "88b9ac79",
   "metadata": {},
   "source": [
    "### Workflow with steps broken down"
   ]
  },
  {
   "cell_type": "code",
   "execution_count": 21,
   "id": "37b2ddb7",
   "metadata": {},
   "outputs": [],
   "source": [
    "@ct.lattice\n",
    "def refined_simulation(particles: List[Particle], domain: Domain, potential: Potential,\n",
    "                       nsteps, dt, maxiter: int = 1, lr: float=1e-3):\n",
    "    i = 0\n",
    "    tol = 1e-5\n",
    "    f_old = total_pe(particles, potential, domain=domain)\n",
    "    \n",
    "    # Minimize system energy\n",
    "    objective = partial(total_pe, potential=potential, domain=domain)\n",
    "    gradient = partial(grad_pe, potential=potential, domain=domain)\n",
    "    \n",
    "    loss_value = 1e10\n",
    "    \n",
    "    for i in range(maxiter):\n",
    "        gradients = gradient(particles)\n",
    "        dx = scale_gradients(gradients=gradients, lr=lr)\n",
    "        \n",
    "        # update particle positions\n",
    "        particles = gradient_descent_particle_update(particles=particles, dx=dx, domain=domain)\n",
    "        \n",
    "        # Save system\n",
    "        save_snapshot(particles, i)\n",
    "        \n",
    "        # Compute new energy\n",
    "        f_new = objective(particles)\n",
    "        \n",
    "        # Check loss\n",
    "        loss_value = check_loss(f_old=f_old, f_new=f_new, tol=1e-6)\n",
    "        \n",
    "        f_old = f_new\n",
    "        \n",
    "        lr = update_learning_rate(lr, f_new, i)\n",
    "        \n",
    "        i += 1\n",
    "        \n",
    "        \n",
    "    # Run dynamics\n",
    "        \n",
    "    return particles"
   ]
  },
  {
   "cell_type": "code",
   "execution_count": 24,
   "id": "d9680863",
   "metadata": {},
   "outputs": [],
   "source": [
    "@ct.lattice\n",
    "def simulation(particles: List[Particle], domain: Domain, potential: Potential, nsteps):\n",
    "    \"\"\"\n",
    "    run a basic MD particle simulation\n",
    "    \"\"\"\n",
    "    i = 0\n",
    "    # Compute the system initial potential energy\n",
    "    f_old = total_pe(particles, potential, domain=domain)\n",
    "    \n",
    "    # Minimize system energy\n",
    "    objective = partial(total_pe, potential=potential, domain=domain)\n",
    "    gradient = partial(grad_pe, potential=potential, domain=domain)\n",
    "    \n",
    "    #loss_value = 1e10\n",
    "    \n",
    "    #for i in range(maxiter):\n",
    "    #    gradients = gradient(particles)\n",
    "    #    dx = scale_gradients(gradients=gradients, lr=lr)\n",
    "        \n",
    "        # Update particle positions\n",
    "    #    particles = gradient_descent_particle_update(particles=particles, dx=dx, domain=domain)\n",
    "        \n",
    "        # Save system\n",
    "    #    save_snapshot(particles, i)\n",
    "        \n",
    "        # Compute potential energy\n",
    "    #    f_new = objective(particles)\n",
    "        \n",
    "        # Check loss\n",
    "    #    loss = check_loss(f_old=f_old, f_new=f_new, tol=tol)\n",
    "        \n",
    "    #    f_old = f_new\n",
    "        \n",
    "        # update learning rate based on f_new and step\n",
    "    #    lr = update_learning_rate(lr, f_new, i)\n",
    "        \n",
    "    #    i += 1\n",
    "        \n",
    "    particles, final_energy, num_iterations = minimize_system_energy(objective, particles, gradient, domain,\n",
    "                                                                     options={\"maxiter\": 200, \"tol\": 1e-5,\n",
    "                                                                              \"learning_rate\": 1e-2,\n",
    "                                                                              \"verbose\": True})\n",
    "    \n",
    "    \n",
    "    # Initialize velocities\n",
    "    particles = init_velocities(particles)\n",
    "    \n",
    "    \n",
    "    # Compute total energy\n",
    "    #pe = total_pe(particles=particles, potential=potential, domain=domain)\n",
    "    \n",
    "    #ke = total_ke(particles=particles)\n",
    "    \n",
    "    #total_energy = pe + ke\n",
    "    \n",
    "    # Integrate\n",
    "    particles = run(nsteps=nsteps,\n",
    "                    particles=particles,\n",
    "                    potential=potential,\n",
    "                    domain = domain,\n",
    "                    dt=1e-2)\n",
    "        \n",
    "    \n",
    "    # Start integrating\n",
    "    #p0 = particles # copy\n",
    "\n",
    "    #for i in range(nsteps):\n",
    "        # p2\n",
    "    #    particles, p1 = verlet_integration(step=i, particles=particles, particles_prev=p0,\n",
    "    #                                       potential=potential, domain=domain, dt=1e-4)\n",
    "    #    p0 = p1\n",
    "        \n",
    "    #    save_snapshot(particles, i)\n",
    "        \n",
    "\n",
    "    return {\"particles\": particles, \"iters\": nsteps}"
   ]
  },
  {
   "cell_type": "code",
   "execution_count": 25,
   "id": "e8105d0f",
   "metadata": {},
   "outputs": [],
   "source": [
    "domain = Domain(xlo = 0, xhi = 5, ylo = 0, yhi = 5)\n",
    "num_particles = 5\n",
    "nsteps = 1000\n",
    "particles = [create_particle(id=index, mass=1.0, domain = domain) for index in range(num_particles)]\n",
    "\n",
    "if os.path.isdir(\"/home/venkat/agnostiq-rpi-tutorials/snapshots\"):\n",
    "    rmtree(\"/home/venkat/agnostiq-rpi-tutorials/snapshots\")\n",
    "    \n",
    "#res = simulation(particles, domain, LennardJones126(), nsteps)"
   ]
  },
  {
   "cell_type": "code",
   "execution_count": 26,
   "id": "45db1aab",
   "metadata": {},
   "outputs": [],
   "source": [
    "res = ct.dispatch_sync(simulation)(particles, domain, LennardJones126(), nsteps)"
   ]
  },
  {
   "cell_type": "code",
   "execution_count": 68,
   "id": "ec8fe6f9",
   "metadata": {},
   "outputs": [],
   "source": [
    "res = ct.dispatch_sync(refined_simulation)(particles, domain, LennardJones126(), nsteps, 1e-2)"
   ]
  },
  {
   "cell_type": "code",
   "execution_count": 69,
   "id": "747c517e",
   "metadata": {},
   "outputs": [
    {
     "data": {
      "text/plain": [
       "[Particle(id=0, mass=1.0,x=4.279434377056077,                y=2.0089267170094303,vx=0.0,vy=0.0,                fx=0.0,fy=0.0),\n",
       " Particle(id=1, mass=1.0,x=1.5856222151292272,                y=4.265441592782736,vx=0.0,vy=0.0,                fx=0.0,fy=0.0),\n",
       " Particle(id=2, mass=1.0,x=3.934287879616022,                y=4.208300292491913,vx=0.0,vy=0.0,                fx=0.0,fy=0.0),\n",
       " Particle(id=3, mass=1.0,x=4.19215315580368,                y=4.294094381231389,vx=0.0,vy=0.0,                fx=0.0,fy=0.0),\n",
       " Particle(id=4, mass=1.0,x=4.2144032284418245,                y=3.4456057838528977,vx=0.0,vy=0.0,                fx=0.0,fy=0.0)]"
      ]
     },
     "execution_count": 69,
     "metadata": {},
     "output_type": "execute_result"
    }
   ],
   "source": [
    "res.result"
   ]
  },
  {
   "cell_type": "code",
   "execution_count": 70,
   "id": "fed06fbf",
   "metadata": {},
   "outputs": [],
   "source": [
    "def animate(frame_number):\n",
    "    data = np.loadtxt(f\"snapshots/system_{frame_number}.txt\", delimiter=\",\")\n",
    "    x = data[:, 2]\n",
    "    y = data[:, 3]\n",
    "    line.set_data((x, y))\n",
    "    return line"
   ]
  },
  {
   "cell_type": "code",
   "execution_count": 71,
   "id": "b8a27322-4a16-49c7-8515-57164f5f0800",
   "metadata": {},
   "outputs": [
    {
     "data": {
      "application/javascript": "/* Put everything inside the global mpl namespace */\n/* global mpl */\nwindow.mpl = {};\n\nmpl.get_websocket_type = function () {\n    if (typeof WebSocket !== 'undefined') {\n        return WebSocket;\n    } else if (typeof MozWebSocket !== 'undefined') {\n        return MozWebSocket;\n    } else {\n        alert(\n            'Your browser does not have WebSocket support. ' +\n                'Please try Chrome, Safari or Firefox ≥ 6. ' +\n                'Firefox 4 and 5 are also supported but you ' +\n                'have to enable WebSockets in about:config.'\n        );\n    }\n};\n\nmpl.figure = function (figure_id, websocket, ondownload, parent_element) {\n    this.id = figure_id;\n\n    this.ws = websocket;\n\n    this.supports_binary = this.ws.binaryType !== undefined;\n\n    if (!this.supports_binary) {\n        var warnings = document.getElementById('mpl-warnings');\n        if (warnings) {\n            warnings.style.display = 'block';\n            warnings.textContent =\n                'This browser does not support binary websocket messages. ' +\n                'Performance may be slow.';\n        }\n    }\n\n    this.imageObj = new Image();\n\n    this.context = undefined;\n    this.message = undefined;\n    this.canvas = undefined;\n    this.rubberband_canvas = undefined;\n    this.rubberband_context = undefined;\n    this.format_dropdown = undefined;\n\n    this.image_mode = 'full';\n\n    this.root = document.createElement('div');\n    this.root.setAttribute('style', 'display: inline-block');\n    this._root_extra_style(this.root);\n\n    parent_element.appendChild(this.root);\n\n    this._init_header(this);\n    this._init_canvas(this);\n    this._init_toolbar(this);\n\n    var fig = this;\n\n    this.waiting = false;\n\n    this.ws.onopen = function () {\n        fig.send_message('supports_binary', { value: fig.supports_binary });\n        fig.send_message('send_image_mode', {});\n        if (fig.ratio !== 1) {\n            fig.send_message('set_device_pixel_ratio', {\n                device_pixel_ratio: fig.ratio,\n            });\n        }\n        fig.send_message('refresh', {});\n    };\n\n    this.imageObj.onload = function () {\n        if (fig.image_mode === 'full') {\n            // Full images could contain transparency (where diff images\n            // almost always do), so we need to clear the canvas so that\n            // there is no ghosting.\n            fig.context.clearRect(0, 0, fig.canvas.width, fig.canvas.height);\n        }\n        fig.context.drawImage(fig.imageObj, 0, 0);\n    };\n\n    this.imageObj.onunload = function () {\n        fig.ws.close();\n    };\n\n    this.ws.onmessage = this._make_on_message_function(this);\n\n    this.ondownload = ondownload;\n};\n\nmpl.figure.prototype._init_header = function () {\n    var titlebar = document.createElement('div');\n    titlebar.classList =\n        'ui-dialog-titlebar ui-widget-header ui-corner-all ui-helper-clearfix';\n    var titletext = document.createElement('div');\n    titletext.classList = 'ui-dialog-title';\n    titletext.setAttribute(\n        'style',\n        'width: 100%; text-align: center; padding: 3px;'\n    );\n    titlebar.appendChild(titletext);\n    this.root.appendChild(titlebar);\n    this.header = titletext;\n};\n\nmpl.figure.prototype._canvas_extra_style = function (_canvas_div) {};\n\nmpl.figure.prototype._root_extra_style = function (_canvas_div) {};\n\nmpl.figure.prototype._init_canvas = function () {\n    var fig = this;\n\n    var canvas_div = (this.canvas_div = document.createElement('div'));\n    canvas_div.setAttribute(\n        'style',\n        'border: 1px solid #ddd;' +\n            'box-sizing: content-box;' +\n            'clear: both;' +\n            'min-height: 1px;' +\n            'min-width: 1px;' +\n            'outline: 0;' +\n            'overflow: hidden;' +\n            'position: relative;' +\n            'resize: both;'\n    );\n\n    function on_keyboard_event_closure(name) {\n        return function (event) {\n            return fig.key_event(event, name);\n        };\n    }\n\n    canvas_div.addEventListener(\n        'keydown',\n        on_keyboard_event_closure('key_press')\n    );\n    canvas_div.addEventListener(\n        'keyup',\n        on_keyboard_event_closure('key_release')\n    );\n\n    this._canvas_extra_style(canvas_div);\n    this.root.appendChild(canvas_div);\n\n    var canvas = (this.canvas = document.createElement('canvas'));\n    canvas.classList.add('mpl-canvas');\n    canvas.setAttribute('style', 'box-sizing: content-box;');\n\n    this.context = canvas.getContext('2d');\n\n    var backingStore =\n        this.context.backingStorePixelRatio ||\n        this.context.webkitBackingStorePixelRatio ||\n        this.context.mozBackingStorePixelRatio ||\n        this.context.msBackingStorePixelRatio ||\n        this.context.oBackingStorePixelRatio ||\n        this.context.backingStorePixelRatio ||\n        1;\n\n    this.ratio = (window.devicePixelRatio || 1) / backingStore;\n\n    var rubberband_canvas = (this.rubberband_canvas = document.createElement(\n        'canvas'\n    ));\n    rubberband_canvas.setAttribute(\n        'style',\n        'box-sizing: content-box; position: absolute; left: 0; top: 0; z-index: 1;'\n    );\n\n    // Apply a ponyfill if ResizeObserver is not implemented by browser.\n    if (this.ResizeObserver === undefined) {\n        if (window.ResizeObserver !== undefined) {\n            this.ResizeObserver = window.ResizeObserver;\n        } else {\n            var obs = _JSXTOOLS_RESIZE_OBSERVER({});\n            this.ResizeObserver = obs.ResizeObserver;\n        }\n    }\n\n    this.resizeObserverInstance = new this.ResizeObserver(function (entries) {\n        var nentries = entries.length;\n        for (var i = 0; i < nentries; i++) {\n            var entry = entries[i];\n            var width, height;\n            if (entry.contentBoxSize) {\n                if (entry.contentBoxSize instanceof Array) {\n                    // Chrome 84 implements new version of spec.\n                    width = entry.contentBoxSize[0].inlineSize;\n                    height = entry.contentBoxSize[0].blockSize;\n                } else {\n                    // Firefox implements old version of spec.\n                    width = entry.contentBoxSize.inlineSize;\n                    height = entry.contentBoxSize.blockSize;\n                }\n            } else {\n                // Chrome <84 implements even older version of spec.\n                width = entry.contentRect.width;\n                height = entry.contentRect.height;\n            }\n\n            // Keep the size of the canvas and rubber band canvas in sync with\n            // the canvas container.\n            if (entry.devicePixelContentBoxSize) {\n                // Chrome 84 implements new version of spec.\n                canvas.setAttribute(\n                    'width',\n                    entry.devicePixelContentBoxSize[0].inlineSize\n                );\n                canvas.setAttribute(\n                    'height',\n                    entry.devicePixelContentBoxSize[0].blockSize\n                );\n            } else {\n                canvas.setAttribute('width', width * fig.ratio);\n                canvas.setAttribute('height', height * fig.ratio);\n            }\n            canvas.setAttribute(\n                'style',\n                'width: ' + width + 'px; height: ' + height + 'px;'\n            );\n\n            rubberband_canvas.setAttribute('width', width);\n            rubberband_canvas.setAttribute('height', height);\n\n            // And update the size in Python. We ignore the initial 0/0 size\n            // that occurs as the element is placed into the DOM, which should\n            // otherwise not happen due to the minimum size styling.\n            if (fig.ws.readyState == 1 && width != 0 && height != 0) {\n                fig.request_resize(width, height);\n            }\n        }\n    });\n    this.resizeObserverInstance.observe(canvas_div);\n\n    function on_mouse_event_closure(name) {\n        return function (event) {\n            return fig.mouse_event(event, name);\n        };\n    }\n\n    rubberband_canvas.addEventListener(\n        'mousedown',\n        on_mouse_event_closure('button_press')\n    );\n    rubberband_canvas.addEventListener(\n        'mouseup',\n        on_mouse_event_closure('button_release')\n    );\n    rubberband_canvas.addEventListener(\n        'dblclick',\n        on_mouse_event_closure('dblclick')\n    );\n    // Throttle sequential mouse events to 1 every 20ms.\n    rubberband_canvas.addEventListener(\n        'mousemove',\n        on_mouse_event_closure('motion_notify')\n    );\n\n    rubberband_canvas.addEventListener(\n        'mouseenter',\n        on_mouse_event_closure('figure_enter')\n    );\n    rubberband_canvas.addEventListener(\n        'mouseleave',\n        on_mouse_event_closure('figure_leave')\n    );\n\n    canvas_div.addEventListener('wheel', function (event) {\n        if (event.deltaY < 0) {\n            event.step = 1;\n        } else {\n            event.step = -1;\n        }\n        on_mouse_event_closure('scroll')(event);\n    });\n\n    canvas_div.appendChild(canvas);\n    canvas_div.appendChild(rubberband_canvas);\n\n    this.rubberband_context = rubberband_canvas.getContext('2d');\n    this.rubberband_context.strokeStyle = '#000000';\n\n    this._resize_canvas = function (width, height, forward) {\n        if (forward) {\n            canvas_div.style.width = width + 'px';\n            canvas_div.style.height = height + 'px';\n        }\n    };\n\n    // Disable right mouse context menu.\n    this.rubberband_canvas.addEventListener('contextmenu', function (_e) {\n        event.preventDefault();\n        return false;\n    });\n\n    function set_focus() {\n        canvas.focus();\n        canvas_div.focus();\n    }\n\n    window.setTimeout(set_focus, 100);\n};\n\nmpl.figure.prototype._init_toolbar = function () {\n    var fig = this;\n\n    var toolbar = document.createElement('div');\n    toolbar.classList = 'mpl-toolbar';\n    this.root.appendChild(toolbar);\n\n    function on_click_closure(name) {\n        return function (_event) {\n            return fig.toolbar_button_onclick(name);\n        };\n    }\n\n    function on_mouseover_closure(tooltip) {\n        return function (event) {\n            if (!event.currentTarget.disabled) {\n                return fig.toolbar_button_onmouseover(tooltip);\n            }\n        };\n    }\n\n    fig.buttons = {};\n    var buttonGroup = document.createElement('div');\n    buttonGroup.classList = 'mpl-button-group';\n    for (var toolbar_ind in mpl.toolbar_items) {\n        var name = mpl.toolbar_items[toolbar_ind][0];\n        var tooltip = mpl.toolbar_items[toolbar_ind][1];\n        var image = mpl.toolbar_items[toolbar_ind][2];\n        var method_name = mpl.toolbar_items[toolbar_ind][3];\n\n        if (!name) {\n            /* Instead of a spacer, we start a new button group. */\n            if (buttonGroup.hasChildNodes()) {\n                toolbar.appendChild(buttonGroup);\n            }\n            buttonGroup = document.createElement('div');\n            buttonGroup.classList = 'mpl-button-group';\n            continue;\n        }\n\n        var button = (fig.buttons[name] = document.createElement('button'));\n        button.classList = 'mpl-widget';\n        button.setAttribute('role', 'button');\n        button.setAttribute('aria-disabled', 'false');\n        button.addEventListener('click', on_click_closure(method_name));\n        button.addEventListener('mouseover', on_mouseover_closure(tooltip));\n\n        var icon_img = document.createElement('img');\n        icon_img.src = '_images/' + image + '.png';\n        icon_img.srcset = '_images/' + image + '_large.png 2x';\n        icon_img.alt = tooltip;\n        button.appendChild(icon_img);\n\n        buttonGroup.appendChild(button);\n    }\n\n    if (buttonGroup.hasChildNodes()) {\n        toolbar.appendChild(buttonGroup);\n    }\n\n    var fmt_picker = document.createElement('select');\n    fmt_picker.classList = 'mpl-widget';\n    toolbar.appendChild(fmt_picker);\n    this.format_dropdown = fmt_picker;\n\n    for (var ind in mpl.extensions) {\n        var fmt = mpl.extensions[ind];\n        var option = document.createElement('option');\n        option.selected = fmt === mpl.default_extension;\n        option.innerHTML = fmt;\n        fmt_picker.appendChild(option);\n    }\n\n    var status_bar = document.createElement('span');\n    status_bar.classList = 'mpl-message';\n    toolbar.appendChild(status_bar);\n    this.message = status_bar;\n};\n\nmpl.figure.prototype.request_resize = function (x_pixels, y_pixels) {\n    // Request matplotlib to resize the figure. Matplotlib will then trigger a resize in the client,\n    // which will in turn request a refresh of the image.\n    this.send_message('resize', { width: x_pixels, height: y_pixels });\n};\n\nmpl.figure.prototype.send_message = function (type, properties) {\n    properties['type'] = type;\n    properties['figure_id'] = this.id;\n    this.ws.send(JSON.stringify(properties));\n};\n\nmpl.figure.prototype.send_draw_message = function () {\n    if (!this.waiting) {\n        this.waiting = true;\n        this.ws.send(JSON.stringify({ type: 'draw', figure_id: this.id }));\n    }\n};\n\nmpl.figure.prototype.handle_save = function (fig, _msg) {\n    var format_dropdown = fig.format_dropdown;\n    var format = format_dropdown.options[format_dropdown.selectedIndex].value;\n    fig.ondownload(fig, format);\n};\n\nmpl.figure.prototype.handle_resize = function (fig, msg) {\n    var size = msg['size'];\n    if (size[0] !== fig.canvas.width || size[1] !== fig.canvas.height) {\n        fig._resize_canvas(size[0], size[1], msg['forward']);\n        fig.send_message('refresh', {});\n    }\n};\n\nmpl.figure.prototype.handle_rubberband = function (fig, msg) {\n    var x0 = msg['x0'] / fig.ratio;\n    var y0 = (fig.canvas.height - msg['y0']) / fig.ratio;\n    var x1 = msg['x1'] / fig.ratio;\n    var y1 = (fig.canvas.height - msg['y1']) / fig.ratio;\n    x0 = Math.floor(x0) + 0.5;\n    y0 = Math.floor(y0) + 0.5;\n    x1 = Math.floor(x1) + 0.5;\n    y1 = Math.floor(y1) + 0.5;\n    var min_x = Math.min(x0, x1);\n    var min_y = Math.min(y0, y1);\n    var width = Math.abs(x1 - x0);\n    var height = Math.abs(y1 - y0);\n\n    fig.rubberband_context.clearRect(\n        0,\n        0,\n        fig.canvas.width / fig.ratio,\n        fig.canvas.height / fig.ratio\n    );\n\n    fig.rubberband_context.strokeRect(min_x, min_y, width, height);\n};\n\nmpl.figure.prototype.handle_figure_label = function (fig, msg) {\n    // Updates the figure title.\n    fig.header.textContent = msg['label'];\n};\n\nmpl.figure.prototype.handle_cursor = function (fig, msg) {\n    fig.rubberband_canvas.style.cursor = msg['cursor'];\n};\n\nmpl.figure.prototype.handle_message = function (fig, msg) {\n    fig.message.textContent = msg['message'];\n};\n\nmpl.figure.prototype.handle_draw = function (fig, _msg) {\n    // Request the server to send over a new figure.\n    fig.send_draw_message();\n};\n\nmpl.figure.prototype.handle_image_mode = function (fig, msg) {\n    fig.image_mode = msg['mode'];\n};\n\nmpl.figure.prototype.handle_history_buttons = function (fig, msg) {\n    for (var key in msg) {\n        if (!(key in fig.buttons)) {\n            continue;\n        }\n        fig.buttons[key].disabled = !msg[key];\n        fig.buttons[key].setAttribute('aria-disabled', !msg[key]);\n    }\n};\n\nmpl.figure.prototype.handle_navigate_mode = function (fig, msg) {\n    if (msg['mode'] === 'PAN') {\n        fig.buttons['Pan'].classList.add('active');\n        fig.buttons['Zoom'].classList.remove('active');\n    } else if (msg['mode'] === 'ZOOM') {\n        fig.buttons['Pan'].classList.remove('active');\n        fig.buttons['Zoom'].classList.add('active');\n    } else {\n        fig.buttons['Pan'].classList.remove('active');\n        fig.buttons['Zoom'].classList.remove('active');\n    }\n};\n\nmpl.figure.prototype.updated_canvas_event = function () {\n    // Called whenever the canvas gets updated.\n    this.send_message('ack', {});\n};\n\n// A function to construct a web socket function for onmessage handling.\n// Called in the figure constructor.\nmpl.figure.prototype._make_on_message_function = function (fig) {\n    return function socket_on_message(evt) {\n        if (evt.data instanceof Blob) {\n            var img = evt.data;\n            if (img.type !== 'image/png') {\n                /* FIXME: We get \"Resource interpreted as Image but\n                 * transferred with MIME type text/plain:\" errors on\n                 * Chrome.  But how to set the MIME type?  It doesn't seem\n                 * to be part of the websocket stream */\n                img.type = 'image/png';\n            }\n\n            /* Free the memory for the previous frames */\n            if (fig.imageObj.src) {\n                (window.URL || window.webkitURL).revokeObjectURL(\n                    fig.imageObj.src\n                );\n            }\n\n            fig.imageObj.src = (window.URL || window.webkitURL).createObjectURL(\n                img\n            );\n            fig.updated_canvas_event();\n            fig.waiting = false;\n            return;\n        } else if (\n            typeof evt.data === 'string' &&\n            evt.data.slice(0, 21) === 'data:image/png;base64'\n        ) {\n            fig.imageObj.src = evt.data;\n            fig.updated_canvas_event();\n            fig.waiting = false;\n            return;\n        }\n\n        var msg = JSON.parse(evt.data);\n        var msg_type = msg['type'];\n\n        // Call the  \"handle_{type}\" callback, which takes\n        // the figure and JSON message as its only arguments.\n        try {\n            var callback = fig['handle_' + msg_type];\n        } catch (e) {\n            console.log(\n                \"No handler for the '\" + msg_type + \"' message type: \",\n                msg\n            );\n            return;\n        }\n\n        if (callback) {\n            try {\n                // console.log(\"Handling '\" + msg_type + \"' message: \", msg);\n                callback(fig, msg);\n            } catch (e) {\n                console.log(\n                    \"Exception inside the 'handler_\" + msg_type + \"' callback:\",\n                    e,\n                    e.stack,\n                    msg\n                );\n            }\n        }\n    };\n};\n\n// from https://stackoverflow.com/questions/1114465/getting-mouse-location-in-canvas\nmpl.findpos = function (e) {\n    //this section is from http://www.quirksmode.org/js/events_properties.html\n    var targ;\n    if (!e) {\n        e = window.event;\n    }\n    if (e.target) {\n        targ = e.target;\n    } else if (e.srcElement) {\n        targ = e.srcElement;\n    }\n    if (targ.nodeType === 3) {\n        // defeat Safari bug\n        targ = targ.parentNode;\n    }\n\n    // pageX,Y are the mouse positions relative to the document\n    var boundingRect = targ.getBoundingClientRect();\n    var x = e.pageX - (boundingRect.left + document.body.scrollLeft);\n    var y = e.pageY - (boundingRect.top + document.body.scrollTop);\n\n    return { x: x, y: y };\n};\n\n/*\n * return a copy of an object with only non-object keys\n * we need this to avoid circular references\n * https://stackoverflow.com/a/24161582/3208463\n */\nfunction simpleKeys(original) {\n    return Object.keys(original).reduce(function (obj, key) {\n        if (typeof original[key] !== 'object') {\n            obj[key] = original[key];\n        }\n        return obj;\n    }, {});\n}\n\nmpl.figure.prototype.mouse_event = function (event, name) {\n    var canvas_pos = mpl.findpos(event);\n\n    if (name === 'button_press') {\n        this.canvas.focus();\n        this.canvas_div.focus();\n    }\n\n    var x = canvas_pos.x * this.ratio;\n    var y = canvas_pos.y * this.ratio;\n\n    this.send_message(name, {\n        x: x,\n        y: y,\n        button: event.button,\n        step: event.step,\n        guiEvent: simpleKeys(event),\n    });\n\n    /* This prevents the web browser from automatically changing to\n     * the text insertion cursor when the button is pressed.  We want\n     * to control all of the cursor setting manually through the\n     * 'cursor' event from matplotlib */\n    event.preventDefault();\n    return false;\n};\n\nmpl.figure.prototype._key_event_extra = function (_event, _name) {\n    // Handle any extra behaviour associated with a key event\n};\n\nmpl.figure.prototype.key_event = function (event, name) {\n    // Prevent repeat events\n    if (name === 'key_press') {\n        if (event.key === this._key) {\n            return;\n        } else {\n            this._key = event.key;\n        }\n    }\n    if (name === 'key_release') {\n        this._key = null;\n    }\n\n    var value = '';\n    if (event.ctrlKey && event.key !== 'Control') {\n        value += 'ctrl+';\n    }\n    else if (event.altKey && event.key !== 'Alt') {\n        value += 'alt+';\n    }\n    else if (event.shiftKey && event.key !== 'Shift') {\n        value += 'shift+';\n    }\n\n    value += 'k' + event.key;\n\n    this._key_event_extra(event, name);\n\n    this.send_message(name, { key: value, guiEvent: simpleKeys(event) });\n    return false;\n};\n\nmpl.figure.prototype.toolbar_button_onclick = function (name) {\n    if (name === 'download') {\n        this.handle_save(this, null);\n    } else {\n        this.send_message('toolbar_button', { name: name });\n    }\n};\n\nmpl.figure.prototype.toolbar_button_onmouseover = function (tooltip) {\n    this.message.textContent = tooltip;\n};\n\n///////////////// REMAINING CONTENT GENERATED BY embed_js.py /////////////////\n// prettier-ignore\nvar _JSXTOOLS_RESIZE_OBSERVER=function(A){var t,i=new WeakMap,n=new WeakMap,a=new WeakMap,r=new WeakMap,o=new Set;function s(e){if(!(this instanceof s))throw new TypeError(\"Constructor requires 'new' operator\");i.set(this,e)}function h(){throw new TypeError(\"Function is not a constructor\")}function c(e,t,i,n){e=0 in arguments?Number(arguments[0]):0,t=1 in arguments?Number(arguments[1]):0,i=2 in arguments?Number(arguments[2]):0,n=3 in arguments?Number(arguments[3]):0,this.right=(this.x=this.left=e)+(this.width=i),this.bottom=(this.y=this.top=t)+(this.height=n),Object.freeze(this)}function d(){t=requestAnimationFrame(d);var s=new WeakMap,p=new Set;o.forEach((function(t){r.get(t).forEach((function(i){var r=t instanceof window.SVGElement,o=a.get(t),d=r?0:parseFloat(o.paddingTop),f=r?0:parseFloat(o.paddingRight),l=r?0:parseFloat(o.paddingBottom),u=r?0:parseFloat(o.paddingLeft),g=r?0:parseFloat(o.borderTopWidth),m=r?0:parseFloat(o.borderRightWidth),w=r?0:parseFloat(o.borderBottomWidth),b=u+f,F=d+l,v=(r?0:parseFloat(o.borderLeftWidth))+m,W=g+w,y=r?0:t.offsetHeight-W-t.clientHeight,E=r?0:t.offsetWidth-v-t.clientWidth,R=b+v,z=F+W,M=r?t.width:parseFloat(o.width)-R-E,O=r?t.height:parseFloat(o.height)-z-y;if(n.has(t)){var k=n.get(t);if(k[0]===M&&k[1]===O)return}n.set(t,[M,O]);var S=Object.create(h.prototype);S.target=t,S.contentRect=new c(u,d,M,O),s.has(i)||(s.set(i,[]),p.add(i)),s.get(i).push(S)}))})),p.forEach((function(e){i.get(e).call(e,s.get(e),e)}))}return s.prototype.observe=function(i){if(i instanceof window.Element){r.has(i)||(r.set(i,new Set),o.add(i),a.set(i,window.getComputedStyle(i)));var n=r.get(i);n.has(this)||n.add(this),cancelAnimationFrame(t),t=requestAnimationFrame(d)}},s.prototype.unobserve=function(i){if(i instanceof window.Element&&r.has(i)){var n=r.get(i);n.has(this)&&(n.delete(this),n.size||(r.delete(i),o.delete(i))),n.size||r.delete(i),o.size||cancelAnimationFrame(t)}},A.DOMRectReadOnly=c,A.ResizeObserver=s,A.ResizeObserverEntry=h,A}; // eslint-disable-line\nmpl.toolbar_items = [[\"Home\", \"Reset original view\", \"fa fa-home icon-home\", \"home\"], [\"Back\", \"Back to previous view\", \"fa fa-arrow-left icon-arrow-left\", \"back\"], [\"Forward\", \"Forward to next view\", \"fa fa-arrow-right icon-arrow-right\", \"forward\"], [\"\", \"\", \"\", \"\"], [\"Pan\", \"Left button pans, Right button zooms\\nx/y fixes axis, CTRL fixes aspect\", \"fa fa-arrows icon-move\", \"pan\"], [\"Zoom\", \"Zoom to rectangle\\nx/y fixes axis\", \"fa fa-square-o icon-check-empty\", \"zoom\"], [\"\", \"\", \"\", \"\"], [\"Download\", \"Download plot\", \"fa fa-floppy-o icon-save\", \"download\"]];\n\nmpl.extensions = [\"eps\", \"jpeg\", \"pgf\", \"pdf\", \"png\", \"ps\", \"raw\", \"svg\", \"tif\"];\n\nmpl.default_extension = \"png\";/* global mpl */\n\nvar comm_websocket_adapter = function (comm) {\n    // Create a \"websocket\"-like object which calls the given IPython comm\n    // object with the appropriate methods. Currently this is a non binary\n    // socket, so there is still some room for performance tuning.\n    var ws = {};\n\n    ws.binaryType = comm.kernel.ws.binaryType;\n    ws.readyState = comm.kernel.ws.readyState;\n    function updateReadyState(_event) {\n        if (comm.kernel.ws) {\n            ws.readyState = comm.kernel.ws.readyState;\n        } else {\n            ws.readyState = 3; // Closed state.\n        }\n    }\n    comm.kernel.ws.addEventListener('open', updateReadyState);\n    comm.kernel.ws.addEventListener('close', updateReadyState);\n    comm.kernel.ws.addEventListener('error', updateReadyState);\n\n    ws.close = function () {\n        comm.close();\n    };\n    ws.send = function (m) {\n        //console.log('sending', m);\n        comm.send(m);\n    };\n    // Register the callback with on_msg.\n    comm.on_msg(function (msg) {\n        //console.log('receiving', msg['content']['data'], msg);\n        var data = msg['content']['data'];\n        if (data['blob'] !== undefined) {\n            data = {\n                data: new Blob(msg['buffers'], { type: data['blob'] }),\n            };\n        }\n        // Pass the mpl event to the overridden (by mpl) onmessage function.\n        ws.onmessage(data);\n    });\n    return ws;\n};\n\nmpl.mpl_figure_comm = function (comm, msg) {\n    // This is the function which gets called when the mpl process\n    // starts-up an IPython Comm through the \"matplotlib\" channel.\n\n    var id = msg.content.data.id;\n    // Get hold of the div created by the display call when the Comm\n    // socket was opened in Python.\n    var element = document.getElementById(id);\n    var ws_proxy = comm_websocket_adapter(comm);\n\n    function ondownload(figure, _format) {\n        window.open(figure.canvas.toDataURL());\n    }\n\n    var fig = new mpl.figure(id, ws_proxy, ondownload, element);\n\n    // Call onopen now - mpl needs it, as it is assuming we've passed it a real\n    // web socket which is closed, not our websocket->open comm proxy.\n    ws_proxy.onopen();\n\n    fig.parent_element = element;\n    fig.cell_info = mpl.find_output_cell(\"<div id='\" + id + \"'></div>\");\n    if (!fig.cell_info) {\n        console.error('Failed to find cell for figure', id, fig);\n        return;\n    }\n    fig.cell_info[0].output_area.element.on(\n        'cleared',\n        { fig: fig },\n        fig._remove_fig_handler\n    );\n};\n\nmpl.figure.prototype.handle_close = function (fig, msg) {\n    var width = fig.canvas.width / fig.ratio;\n    fig.cell_info[0].output_area.element.off(\n        'cleared',\n        fig._remove_fig_handler\n    );\n    fig.resizeObserverInstance.unobserve(fig.canvas_div);\n\n    // Update the output cell to use the data from the current canvas.\n    fig.push_to_output();\n    var dataURL = fig.canvas.toDataURL();\n    // Re-enable the keyboard manager in IPython - without this line, in FF,\n    // the notebook keyboard shortcuts fail.\n    IPython.keyboard_manager.enable();\n    fig.parent_element.innerHTML =\n        '<img src=\"' + dataURL + '\" width=\"' + width + '\">';\n    fig.close_ws(fig, msg);\n};\n\nmpl.figure.prototype.close_ws = function (fig, msg) {\n    fig.send_message('closing', msg);\n    // fig.ws.close()\n};\n\nmpl.figure.prototype.push_to_output = function (_remove_interactive) {\n    // Turn the data on the canvas into data in the output cell.\n    var width = this.canvas.width / this.ratio;\n    var dataURL = this.canvas.toDataURL();\n    this.cell_info[1]['text/html'] =\n        '<img src=\"' + dataURL + '\" width=\"' + width + '\">';\n};\n\nmpl.figure.prototype.updated_canvas_event = function () {\n    // Tell IPython that the notebook contents must change.\n    IPython.notebook.set_dirty(true);\n    this.send_message('ack', {});\n    var fig = this;\n    // Wait a second, then push the new image to the DOM so\n    // that it is saved nicely (might be nice to debounce this).\n    setTimeout(function () {\n        fig.push_to_output();\n    }, 1000);\n};\n\nmpl.figure.prototype._init_toolbar = function () {\n    var fig = this;\n\n    var toolbar = document.createElement('div');\n    toolbar.classList = 'btn-toolbar';\n    this.root.appendChild(toolbar);\n\n    function on_click_closure(name) {\n        return function (_event) {\n            return fig.toolbar_button_onclick(name);\n        };\n    }\n\n    function on_mouseover_closure(tooltip) {\n        return function (event) {\n            if (!event.currentTarget.disabled) {\n                return fig.toolbar_button_onmouseover(tooltip);\n            }\n        };\n    }\n\n    fig.buttons = {};\n    var buttonGroup = document.createElement('div');\n    buttonGroup.classList = 'btn-group';\n    var button;\n    for (var toolbar_ind in mpl.toolbar_items) {\n        var name = mpl.toolbar_items[toolbar_ind][0];\n        var tooltip = mpl.toolbar_items[toolbar_ind][1];\n        var image = mpl.toolbar_items[toolbar_ind][2];\n        var method_name = mpl.toolbar_items[toolbar_ind][3];\n\n        if (!name) {\n            /* Instead of a spacer, we start a new button group. */\n            if (buttonGroup.hasChildNodes()) {\n                toolbar.appendChild(buttonGroup);\n            }\n            buttonGroup = document.createElement('div');\n            buttonGroup.classList = 'btn-group';\n            continue;\n        }\n\n        button = fig.buttons[name] = document.createElement('button');\n        button.classList = 'btn btn-default';\n        button.href = '#';\n        button.title = name;\n        button.innerHTML = '<i class=\"fa ' + image + ' fa-lg\"></i>';\n        button.addEventListener('click', on_click_closure(method_name));\n        button.addEventListener('mouseover', on_mouseover_closure(tooltip));\n        buttonGroup.appendChild(button);\n    }\n\n    if (buttonGroup.hasChildNodes()) {\n        toolbar.appendChild(buttonGroup);\n    }\n\n    // Add the status bar.\n    var status_bar = document.createElement('span');\n    status_bar.classList = 'mpl-message pull-right';\n    toolbar.appendChild(status_bar);\n    this.message = status_bar;\n\n    // Add the close button to the window.\n    var buttongrp = document.createElement('div');\n    buttongrp.classList = 'btn-group inline pull-right';\n    button = document.createElement('button');\n    button.classList = 'btn btn-mini btn-primary';\n    button.href = '#';\n    button.title = 'Stop Interaction';\n    button.innerHTML = '<i class=\"fa fa-power-off icon-remove icon-large\"></i>';\n    button.addEventListener('click', function (_evt) {\n        fig.handle_close(fig, {});\n    });\n    button.addEventListener(\n        'mouseover',\n        on_mouseover_closure('Stop Interaction')\n    );\n    buttongrp.appendChild(button);\n    var titlebar = this.root.querySelector('.ui-dialog-titlebar');\n    titlebar.insertBefore(buttongrp, titlebar.firstChild);\n};\n\nmpl.figure.prototype._remove_fig_handler = function (event) {\n    var fig = event.data.fig;\n    if (event.target !== this) {\n        // Ignore bubbled events from children.\n        return;\n    }\n    fig.close_ws(fig, {});\n};\n\nmpl.figure.prototype._root_extra_style = function (el) {\n    el.style.boxSizing = 'content-box'; // override notebook setting of border-box.\n};\n\nmpl.figure.prototype._canvas_extra_style = function (el) {\n    // this is important to make the div 'focusable\n    el.setAttribute('tabindex', 0);\n    // reach out to IPython and tell the keyboard manager to turn it's self\n    // off when our div gets focus\n\n    // location in version 3\n    if (IPython.notebook.keyboard_manager) {\n        IPython.notebook.keyboard_manager.register_events(el);\n    } else {\n        // location in version 2\n        IPython.keyboard_manager.register_events(el);\n    }\n};\n\nmpl.figure.prototype._key_event_extra = function (event, _name) {\n    // Check for shift+enter\n    if (event.shiftKey && event.which === 13) {\n        this.canvas_div.blur();\n        // select the cell after this one\n        var index = IPython.notebook.find_cell_index(this.cell_info[0]);\n        IPython.notebook.select(index + 1);\n    }\n};\n\nmpl.figure.prototype.handle_save = function (fig, _msg) {\n    fig.ondownload(fig, null);\n};\n\nmpl.find_output_cell = function (html_output) {\n    // Return the cell and output element which can be found *uniquely* in the notebook.\n    // Note - this is a bit hacky, but it is done because the \"notebook_saving.Notebook\"\n    // IPython event is triggered only after the cells have been serialised, which for\n    // our purposes (turning an active figure into a static one), is too late.\n    var cells = IPython.notebook.get_cells();\n    var ncells = cells.length;\n    for (var i = 0; i < ncells; i++) {\n        var cell = cells[i];\n        if (cell.cell_type === 'code') {\n            for (var j = 0; j < cell.output_area.outputs.length; j++) {\n                var data = cell.output_area.outputs[j];\n                if (data.data) {\n                    // IPython >= 3 moved mimebundle to data attribute of output\n                    data = data.data;\n                }\n                if (data['text/html'] === html_output) {\n                    return [cell, data, j];\n                }\n            }\n        }\n    }\n};\n\n// Register the function which deals with the matplotlib target/channel.\n// The kernel may be null if the page has been refreshed.\nif (IPython.notebook.kernel !== null) {\n    IPython.notebook.kernel.comm_manager.register_target(\n        'matplotlib',\n        mpl.mpl_figure_comm\n    );\n}\n",
      "text/plain": [
       "<IPython.core.display.Javascript object>"
      ]
     },
     "metadata": {},
     "output_type": "display_data"
    },
    {
     "data": {
      "text/html": [
       "<img src=\"data:image/png;base64,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\" width=\"640\">"
      ],
      "text/plain": [
       "<IPython.core.display.HTML object>"
      ]
     },
     "metadata": {},
     "output_type": "display_data"
    }
   ],
   "source": [
    "fig, ax = plt.subplots()\n",
    "\n",
    "line, = ax.plot([], 'o', ms=10)     # A tuple unpacking to unpack the only plot\n",
    "ax.set_xlim(domain.xlo, domain.xhi)\n",
    "ax.set_ylim(domain.ylo, domain.yhi)\n",
    "\n",
    "anim = FuncAnimation(fig, animate, frames=nsteps, interval=50)\n",
    "\n",
    "plt.show()"
   ]
  },
  {
   "cell_type": "markdown",
   "id": "e8238d32",
   "metadata": {},
   "source": [
    "### When to unroll"
   ]
  },
  {
   "cell_type": "markdown",
   "id": "ce89cf2b",
   "metadata": {},
   "source": [
    "### checkpointing: larger system sizes\n",
    "### scale to more devices\n",
    "### use parallelization\n",
    "### visual aspect of it\n",
    "\n",
    "### viewing progress of your run!\n",
    "\n",
    "### hands-on portion of this\n",
    "##### using different potentials\n",
    "##### simple parallelizing\n",
    "##### begineer one these are the steps that ought to happen\n",
    "##### construct a workflow (turn it into a lattice)\n",
    "##### look at where the bottle neck it (it can be parallelized)\n",
    "#### keep it short enough, but open ended (parallelize with joblib)"
   ]
  },
  {
   "cell_type": "code",
   "execution_count": null,
   "id": "edf59755",
   "metadata": {},
   "outputs": [],
   "source": []
  }
 ],
 "metadata": {
  "kernelspec": {
   "display_name": "Python 3 (ipykernel)",
   "language": "python",
   "name": "python3"
  },
  "language_info": {
   "codemirror_mode": {
    "name": "ipython",
    "version": 3
   },
   "file_extension": ".py",
   "mimetype": "text/x-python",
   "name": "python",
   "nbconvert_exporter": "python",
   "pygments_lexer": "ipython3",
   "version": "3.8.13"
  }
 },
 "nbformat": 4,
 "nbformat_minor": 5
}

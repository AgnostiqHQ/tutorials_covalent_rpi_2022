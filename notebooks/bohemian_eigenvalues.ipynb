{
 "cells": [
  {
   "cell_type": "code",
   "execution_count": null,
   "id": "4f57b70c",
   "metadata": {},
   "outputs": [],
   "source": [
    "import covalent as ct\n",
    "import numpy as np\n",
    "import matplotlib.pyplot as plt\n",
    "from covalent.executor import SlurmExecutor"
   ]
  },
  {
   "cell_type": "code",
   "execution_count": null,
   "id": "3ffa4131",
   "metadata": {},
   "outputs": [],
   "source": [
    "@ct.electron\n",
    "def generate_random_matrix(integer_set, nrows, ncols):\n",
    "    return np.random.choice(integer_set, nrows*ncols).reshape(nrows, ncols)"
   ]
  },
  {
   "cell_type": "code",
   "execution_count": null,
   "id": "da4cd9c1",
   "metadata": {},
   "outputs": [],
   "source": [
    "@ct.electron\n",
    "def compute_eigenvalues(matrix):\n",
    "    eig, _ = np.linalg.eig(matrix)\n",
    "    return eig"
   ]
  },
  {
   "cell_type": "code",
   "execution_count": null,
   "id": "2c285e3f",
   "metadata": {},
   "outputs": [],
   "source": [
    "@ct.electron\n",
    "def get_real_part(eigenvalues):\n",
    "    return [np.real(eig) for eig in eigenvalues]\n",
    "\n",
    "@ct.electron\n",
    "def get_imag_part(eigenvalues):\n",
    "    return [np.imag(eig) for eig in eigenvalues]"
   ]
  },
  {
   "cell_type": "markdown",
   "id": "cd29ff6d",
   "metadata": {},
   "source": [
    "### Dispatch the compute heavy task to Slurm"
   ]
  },
  {
   "cell_type": "code",
   "execution_count": null,
   "id": "be7879c3",
   "metadata": {},
   "outputs": [],
   "source": [
    "slurm = SlurmExecutor(username=\"venkat\",\n",
    "                      address=\"rpi\",\n",
    "                      ssh_key_file=\"~/.ssh/id_ed25519\",\n",
    "                      conda_env=\"rpi\",\n",
    "                      remote_workdir=\"/home/venkat/covalent\",\n",
    "                      poll_freq=30,\n",
    "                      options={\n",
    "                          \"partition\": \"rpi-main-debug\",\n",
    "                          \"cpus-per-task\": 8,\n",
    "                          \"ntasks\": 1,\n",
    "                          \"chdir\": \"/home/venkat/covalent\",\n",
    "                      })"
   ]
  },
  {
   "cell_type": "code",
   "execution_count": null,
   "id": "a0394b90",
   "metadata": {},
   "outputs": [],
   "source": [
    "@ct.electron\n",
    "def batch_compute_eigenvalues(batch_size):\n",
    "    res = []\n",
    "    for i in range(batch_size):\n",
    "        matrix = generate_random_matrix([-1, 0, 1], 5, 5)\n",
    "        res.append(compute_eigenvalues(matrix))\n",
    "        \n",
    "    return (np.asarray(get_real_part(res)).flatten(), np.asarray(get_imag_part(res)).flatten(),)"
   ]
  },
  {
   "cell_type": "code",
   "execution_count": null,
   "id": "51215aa8",
   "metadata": {},
   "outputs": [],
   "source": [
    "@ct.lattice(executor=slurm)\n",
    "def workflow(batch_size):\n",
    "    return batch_compute_eigenvalues(batch_size)"
   ]
  },
  {
   "cell_type": "code",
   "execution_count": null,
   "id": "c2af719f",
   "metadata": {},
   "outputs": [],
   "source": [
    "dispatch_id = ct.dispatch(workflow)(100000)"
   ]
  },
  {
   "cell_type": "code",
   "execution_count": null,
   "id": "e6007036",
   "metadata": {},
   "outputs": [],
   "source": [
    "result = ct.get_result(dispatch_id, wait=True)"
   ]
  },
  {
   "cell_type": "code",
   "execution_count": null,
   "id": "bdc9b46b",
   "metadata": {},
   "outputs": [],
   "source": [
    "plt.plot(result.result[0], result.result[1],'o', ms=0.01)\n",
    "plt.tight_layout()\n",
    "plt.savefig(\"/home/venkat/bohemian.png\", dpi=900)"
   ]
  },
  {
   "cell_type": "code",
   "execution_count": null,
   "id": "ce00a367",
   "metadata": {},
   "outputs": [],
   "source": []
  }
 ],
 "metadata": {
  "kernelspec": {
   "display_name": "Python 3 (ipykernel)",
   "language": "python",
   "name": "python3"
  },
  "language_info": {
   "codemirror_mode": {
    "name": "ipython",
    "version": 3
   },
   "file_extension": ".py",
   "mimetype": "text/x-python",
   "name": "python",
   "nbconvert_exporter": "python",
   "pygments_lexer": "ipython3",
   "version": "3.8.13"
  }
 },
 "nbformat": 4,
 "nbformat_minor": 5
}
